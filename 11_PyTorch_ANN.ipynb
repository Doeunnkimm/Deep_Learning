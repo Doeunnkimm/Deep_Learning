{
  "nbformat": 4,
  "nbformat_minor": 0,
  "metadata": {
    "colab": {
      "provenance": [],
      "machine_shape": "hm"
    },
    "kernelspec": {
      "name": "python3",
      "display_name": "Python 3"
    },
    "language_info": {
      "name": "python"
    },
    "accelerator": "GPU",
    "gpuClass": "standard",
    "widgets": {
      "application/vnd.jupyter.widget-state+json": {
        "37eac797a8f54d23addff3d558cda32f": {
          "model_module": "@jupyter-widgets/controls",
          "model_name": "HBoxModel",
          "model_module_version": "1.5.0",
          "state": {
            "_dom_classes": [],
            "_model_module": "@jupyter-widgets/controls",
            "_model_module_version": "1.5.0",
            "_model_name": "HBoxModel",
            "_view_count": null,
            "_view_module": "@jupyter-widgets/controls",
            "_view_module_version": "1.5.0",
            "_view_name": "HBoxView",
            "box_style": "",
            "children": [
              "IPY_MODEL_e867fa7a21924795ae85caffd75b5959",
              "IPY_MODEL_12a99ce98c784a3d916b61be7c6eca13",
              "IPY_MODEL_c44563ab89454712b85013db055dad31"
            ],
            "layout": "IPY_MODEL_bc096eeac9d44d87b349d21e930563c9"
          }
        },
        "e867fa7a21924795ae85caffd75b5959": {
          "model_module": "@jupyter-widgets/controls",
          "model_name": "HTMLModel",
          "model_module_version": "1.5.0",
          "state": {
            "_dom_classes": [],
            "_model_module": "@jupyter-widgets/controls",
            "_model_module_version": "1.5.0",
            "_model_name": "HTMLModel",
            "_view_count": null,
            "_view_module": "@jupyter-widgets/controls",
            "_view_module_version": "1.5.0",
            "_view_name": "HTMLView",
            "description": "",
            "description_tooltip": null,
            "layout": "IPY_MODEL_475424820eb24cb9b7c69925ba6a7701",
            "placeholder": "​",
            "style": "IPY_MODEL_79e2acc25e4845f1b6b8874af7b06390",
            "value": "100%"
          }
        },
        "12a99ce98c784a3d916b61be7c6eca13": {
          "model_module": "@jupyter-widgets/controls",
          "model_name": "FloatProgressModel",
          "model_module_version": "1.5.0",
          "state": {
            "_dom_classes": [],
            "_model_module": "@jupyter-widgets/controls",
            "_model_module_version": "1.5.0",
            "_model_name": "FloatProgressModel",
            "_view_count": null,
            "_view_module": "@jupyter-widgets/controls",
            "_view_module_version": "1.5.0",
            "_view_name": "ProgressView",
            "bar_style": "success",
            "description": "",
            "description_tooltip": null,
            "layout": "IPY_MODEL_8a67e571f04c46a7bcb270143cba4ba3",
            "max": 9912422,
            "min": 0,
            "orientation": "horizontal",
            "style": "IPY_MODEL_2c6a0aaad434430488a1f1276f78281a",
            "value": 9912422
          }
        },
        "c44563ab89454712b85013db055dad31": {
          "model_module": "@jupyter-widgets/controls",
          "model_name": "HTMLModel",
          "model_module_version": "1.5.0",
          "state": {
            "_dom_classes": [],
            "_model_module": "@jupyter-widgets/controls",
            "_model_module_version": "1.5.0",
            "_model_name": "HTMLModel",
            "_view_count": null,
            "_view_module": "@jupyter-widgets/controls",
            "_view_module_version": "1.5.0",
            "_view_name": "HTMLView",
            "description": "",
            "description_tooltip": null,
            "layout": "IPY_MODEL_10204257c4084060877ad1ebc96c1240",
            "placeholder": "​",
            "style": "IPY_MODEL_6198d7af2ba1476096c5f9c238bc69e7",
            "value": " 9912422/9912422 [00:00&lt;00:00, 53685518.38it/s]"
          }
        },
        "bc096eeac9d44d87b349d21e930563c9": {
          "model_module": "@jupyter-widgets/base",
          "model_name": "LayoutModel",
          "model_module_version": "1.2.0",
          "state": {
            "_model_module": "@jupyter-widgets/base",
            "_model_module_version": "1.2.0",
            "_model_name": "LayoutModel",
            "_view_count": null,
            "_view_module": "@jupyter-widgets/base",
            "_view_module_version": "1.2.0",
            "_view_name": "LayoutView",
            "align_content": null,
            "align_items": null,
            "align_self": null,
            "border": null,
            "bottom": null,
            "display": null,
            "flex": null,
            "flex_flow": null,
            "grid_area": null,
            "grid_auto_columns": null,
            "grid_auto_flow": null,
            "grid_auto_rows": null,
            "grid_column": null,
            "grid_gap": null,
            "grid_row": null,
            "grid_template_areas": null,
            "grid_template_columns": null,
            "grid_template_rows": null,
            "height": null,
            "justify_content": null,
            "justify_items": null,
            "left": null,
            "margin": null,
            "max_height": null,
            "max_width": null,
            "min_height": null,
            "min_width": null,
            "object_fit": null,
            "object_position": null,
            "order": null,
            "overflow": null,
            "overflow_x": null,
            "overflow_y": null,
            "padding": null,
            "right": null,
            "top": null,
            "visibility": null,
            "width": null
          }
        },
        "475424820eb24cb9b7c69925ba6a7701": {
          "model_module": "@jupyter-widgets/base",
          "model_name": "LayoutModel",
          "model_module_version": "1.2.0",
          "state": {
            "_model_module": "@jupyter-widgets/base",
            "_model_module_version": "1.2.0",
            "_model_name": "LayoutModel",
            "_view_count": null,
            "_view_module": "@jupyter-widgets/base",
            "_view_module_version": "1.2.0",
            "_view_name": "LayoutView",
            "align_content": null,
            "align_items": null,
            "align_self": null,
            "border": null,
            "bottom": null,
            "display": null,
            "flex": null,
            "flex_flow": null,
            "grid_area": null,
            "grid_auto_columns": null,
            "grid_auto_flow": null,
            "grid_auto_rows": null,
            "grid_column": null,
            "grid_gap": null,
            "grid_row": null,
            "grid_template_areas": null,
            "grid_template_columns": null,
            "grid_template_rows": null,
            "height": null,
            "justify_content": null,
            "justify_items": null,
            "left": null,
            "margin": null,
            "max_height": null,
            "max_width": null,
            "min_height": null,
            "min_width": null,
            "object_fit": null,
            "object_position": null,
            "order": null,
            "overflow": null,
            "overflow_x": null,
            "overflow_y": null,
            "padding": null,
            "right": null,
            "top": null,
            "visibility": null,
            "width": null
          }
        },
        "79e2acc25e4845f1b6b8874af7b06390": {
          "model_module": "@jupyter-widgets/controls",
          "model_name": "DescriptionStyleModel",
          "model_module_version": "1.5.0",
          "state": {
            "_model_module": "@jupyter-widgets/controls",
            "_model_module_version": "1.5.0",
            "_model_name": "DescriptionStyleModel",
            "_view_count": null,
            "_view_module": "@jupyter-widgets/base",
            "_view_module_version": "1.2.0",
            "_view_name": "StyleView",
            "description_width": ""
          }
        },
        "8a67e571f04c46a7bcb270143cba4ba3": {
          "model_module": "@jupyter-widgets/base",
          "model_name": "LayoutModel",
          "model_module_version": "1.2.0",
          "state": {
            "_model_module": "@jupyter-widgets/base",
            "_model_module_version": "1.2.0",
            "_model_name": "LayoutModel",
            "_view_count": null,
            "_view_module": "@jupyter-widgets/base",
            "_view_module_version": "1.2.0",
            "_view_name": "LayoutView",
            "align_content": null,
            "align_items": null,
            "align_self": null,
            "border": null,
            "bottom": null,
            "display": null,
            "flex": null,
            "flex_flow": null,
            "grid_area": null,
            "grid_auto_columns": null,
            "grid_auto_flow": null,
            "grid_auto_rows": null,
            "grid_column": null,
            "grid_gap": null,
            "grid_row": null,
            "grid_template_areas": null,
            "grid_template_columns": null,
            "grid_template_rows": null,
            "height": null,
            "justify_content": null,
            "justify_items": null,
            "left": null,
            "margin": null,
            "max_height": null,
            "max_width": null,
            "min_height": null,
            "min_width": null,
            "object_fit": null,
            "object_position": null,
            "order": null,
            "overflow": null,
            "overflow_x": null,
            "overflow_y": null,
            "padding": null,
            "right": null,
            "top": null,
            "visibility": null,
            "width": null
          }
        },
        "2c6a0aaad434430488a1f1276f78281a": {
          "model_module": "@jupyter-widgets/controls",
          "model_name": "ProgressStyleModel",
          "model_module_version": "1.5.0",
          "state": {
            "_model_module": "@jupyter-widgets/controls",
            "_model_module_version": "1.5.0",
            "_model_name": "ProgressStyleModel",
            "_view_count": null,
            "_view_module": "@jupyter-widgets/base",
            "_view_module_version": "1.2.0",
            "_view_name": "StyleView",
            "bar_color": null,
            "description_width": ""
          }
        },
        "10204257c4084060877ad1ebc96c1240": {
          "model_module": "@jupyter-widgets/base",
          "model_name": "LayoutModel",
          "model_module_version": "1.2.0",
          "state": {
            "_model_module": "@jupyter-widgets/base",
            "_model_module_version": "1.2.0",
            "_model_name": "LayoutModel",
            "_view_count": null,
            "_view_module": "@jupyter-widgets/base",
            "_view_module_version": "1.2.0",
            "_view_name": "LayoutView",
            "align_content": null,
            "align_items": null,
            "align_self": null,
            "border": null,
            "bottom": null,
            "display": null,
            "flex": null,
            "flex_flow": null,
            "grid_area": null,
            "grid_auto_columns": null,
            "grid_auto_flow": null,
            "grid_auto_rows": null,
            "grid_column": null,
            "grid_gap": null,
            "grid_row": null,
            "grid_template_areas": null,
            "grid_template_columns": null,
            "grid_template_rows": null,
            "height": null,
            "justify_content": null,
            "justify_items": null,
            "left": null,
            "margin": null,
            "max_height": null,
            "max_width": null,
            "min_height": null,
            "min_width": null,
            "object_fit": null,
            "object_position": null,
            "order": null,
            "overflow": null,
            "overflow_x": null,
            "overflow_y": null,
            "padding": null,
            "right": null,
            "top": null,
            "visibility": null,
            "width": null
          }
        },
        "6198d7af2ba1476096c5f9c238bc69e7": {
          "model_module": "@jupyter-widgets/controls",
          "model_name": "DescriptionStyleModel",
          "model_module_version": "1.5.0",
          "state": {
            "_model_module": "@jupyter-widgets/controls",
            "_model_module_version": "1.5.0",
            "_model_name": "DescriptionStyleModel",
            "_view_count": null,
            "_view_module": "@jupyter-widgets/base",
            "_view_module_version": "1.2.0",
            "_view_name": "StyleView",
            "description_width": ""
          }
        },
        "460faca646ab47d0b0cd7f62f4bb7711": {
          "model_module": "@jupyter-widgets/controls",
          "model_name": "HBoxModel",
          "model_module_version": "1.5.0",
          "state": {
            "_dom_classes": [],
            "_model_module": "@jupyter-widgets/controls",
            "_model_module_version": "1.5.0",
            "_model_name": "HBoxModel",
            "_view_count": null,
            "_view_module": "@jupyter-widgets/controls",
            "_view_module_version": "1.5.0",
            "_view_name": "HBoxView",
            "box_style": "",
            "children": [
              "IPY_MODEL_e12f07edd3594b74a61dfe4d3697b171",
              "IPY_MODEL_cb5fb7c8d87d4307baba98bab461b250",
              "IPY_MODEL_3d13b9aedc024aca8ba593d616ede0db"
            ],
            "layout": "IPY_MODEL_26c34428475e4e63891a83b8355b6d80"
          }
        },
        "e12f07edd3594b74a61dfe4d3697b171": {
          "model_module": "@jupyter-widgets/controls",
          "model_name": "HTMLModel",
          "model_module_version": "1.5.0",
          "state": {
            "_dom_classes": [],
            "_model_module": "@jupyter-widgets/controls",
            "_model_module_version": "1.5.0",
            "_model_name": "HTMLModel",
            "_view_count": null,
            "_view_module": "@jupyter-widgets/controls",
            "_view_module_version": "1.5.0",
            "_view_name": "HTMLView",
            "description": "",
            "description_tooltip": null,
            "layout": "IPY_MODEL_ab465f1dd5394196a6ad58121a9ac783",
            "placeholder": "​",
            "style": "IPY_MODEL_aa323e960b8f4290a65bc62c6a8ec029",
            "value": "100%"
          }
        },
        "cb5fb7c8d87d4307baba98bab461b250": {
          "model_module": "@jupyter-widgets/controls",
          "model_name": "FloatProgressModel",
          "model_module_version": "1.5.0",
          "state": {
            "_dom_classes": [],
            "_model_module": "@jupyter-widgets/controls",
            "_model_module_version": "1.5.0",
            "_model_name": "FloatProgressModel",
            "_view_count": null,
            "_view_module": "@jupyter-widgets/controls",
            "_view_module_version": "1.5.0",
            "_view_name": "ProgressView",
            "bar_style": "success",
            "description": "",
            "description_tooltip": null,
            "layout": "IPY_MODEL_884425ef46434987a7a21fe6070a2453",
            "max": 28881,
            "min": 0,
            "orientation": "horizontal",
            "style": "IPY_MODEL_7d1b9a306b6e46aea453ec189f05d5da",
            "value": 28881
          }
        },
        "3d13b9aedc024aca8ba593d616ede0db": {
          "model_module": "@jupyter-widgets/controls",
          "model_name": "HTMLModel",
          "model_module_version": "1.5.0",
          "state": {
            "_dom_classes": [],
            "_model_module": "@jupyter-widgets/controls",
            "_model_module_version": "1.5.0",
            "_model_name": "HTMLModel",
            "_view_count": null,
            "_view_module": "@jupyter-widgets/controls",
            "_view_module_version": "1.5.0",
            "_view_name": "HTMLView",
            "description": "",
            "description_tooltip": null,
            "layout": "IPY_MODEL_80eff2b7615f4da6bfc5ae57365a2863",
            "placeholder": "​",
            "style": "IPY_MODEL_13776591d24b4eaab027b796aeceb229",
            "value": " 28881/28881 [00:00&lt;00:00, 601333.83it/s]"
          }
        },
        "26c34428475e4e63891a83b8355b6d80": {
          "model_module": "@jupyter-widgets/base",
          "model_name": "LayoutModel",
          "model_module_version": "1.2.0",
          "state": {
            "_model_module": "@jupyter-widgets/base",
            "_model_module_version": "1.2.0",
            "_model_name": "LayoutModel",
            "_view_count": null,
            "_view_module": "@jupyter-widgets/base",
            "_view_module_version": "1.2.0",
            "_view_name": "LayoutView",
            "align_content": null,
            "align_items": null,
            "align_self": null,
            "border": null,
            "bottom": null,
            "display": null,
            "flex": null,
            "flex_flow": null,
            "grid_area": null,
            "grid_auto_columns": null,
            "grid_auto_flow": null,
            "grid_auto_rows": null,
            "grid_column": null,
            "grid_gap": null,
            "grid_row": null,
            "grid_template_areas": null,
            "grid_template_columns": null,
            "grid_template_rows": null,
            "height": null,
            "justify_content": null,
            "justify_items": null,
            "left": null,
            "margin": null,
            "max_height": null,
            "max_width": null,
            "min_height": null,
            "min_width": null,
            "object_fit": null,
            "object_position": null,
            "order": null,
            "overflow": null,
            "overflow_x": null,
            "overflow_y": null,
            "padding": null,
            "right": null,
            "top": null,
            "visibility": null,
            "width": null
          }
        },
        "ab465f1dd5394196a6ad58121a9ac783": {
          "model_module": "@jupyter-widgets/base",
          "model_name": "LayoutModel",
          "model_module_version": "1.2.0",
          "state": {
            "_model_module": "@jupyter-widgets/base",
            "_model_module_version": "1.2.0",
            "_model_name": "LayoutModel",
            "_view_count": null,
            "_view_module": "@jupyter-widgets/base",
            "_view_module_version": "1.2.0",
            "_view_name": "LayoutView",
            "align_content": null,
            "align_items": null,
            "align_self": null,
            "border": null,
            "bottom": null,
            "display": null,
            "flex": null,
            "flex_flow": null,
            "grid_area": null,
            "grid_auto_columns": null,
            "grid_auto_flow": null,
            "grid_auto_rows": null,
            "grid_column": null,
            "grid_gap": null,
            "grid_row": null,
            "grid_template_areas": null,
            "grid_template_columns": null,
            "grid_template_rows": null,
            "height": null,
            "justify_content": null,
            "justify_items": null,
            "left": null,
            "margin": null,
            "max_height": null,
            "max_width": null,
            "min_height": null,
            "min_width": null,
            "object_fit": null,
            "object_position": null,
            "order": null,
            "overflow": null,
            "overflow_x": null,
            "overflow_y": null,
            "padding": null,
            "right": null,
            "top": null,
            "visibility": null,
            "width": null
          }
        },
        "aa323e960b8f4290a65bc62c6a8ec029": {
          "model_module": "@jupyter-widgets/controls",
          "model_name": "DescriptionStyleModel",
          "model_module_version": "1.5.0",
          "state": {
            "_model_module": "@jupyter-widgets/controls",
            "_model_module_version": "1.5.0",
            "_model_name": "DescriptionStyleModel",
            "_view_count": null,
            "_view_module": "@jupyter-widgets/base",
            "_view_module_version": "1.2.0",
            "_view_name": "StyleView",
            "description_width": ""
          }
        },
        "884425ef46434987a7a21fe6070a2453": {
          "model_module": "@jupyter-widgets/base",
          "model_name": "LayoutModel",
          "model_module_version": "1.2.0",
          "state": {
            "_model_module": "@jupyter-widgets/base",
            "_model_module_version": "1.2.0",
            "_model_name": "LayoutModel",
            "_view_count": null,
            "_view_module": "@jupyter-widgets/base",
            "_view_module_version": "1.2.0",
            "_view_name": "LayoutView",
            "align_content": null,
            "align_items": null,
            "align_self": null,
            "border": null,
            "bottom": null,
            "display": null,
            "flex": null,
            "flex_flow": null,
            "grid_area": null,
            "grid_auto_columns": null,
            "grid_auto_flow": null,
            "grid_auto_rows": null,
            "grid_column": null,
            "grid_gap": null,
            "grid_row": null,
            "grid_template_areas": null,
            "grid_template_columns": null,
            "grid_template_rows": null,
            "height": null,
            "justify_content": null,
            "justify_items": null,
            "left": null,
            "margin": null,
            "max_height": null,
            "max_width": null,
            "min_height": null,
            "min_width": null,
            "object_fit": null,
            "object_position": null,
            "order": null,
            "overflow": null,
            "overflow_x": null,
            "overflow_y": null,
            "padding": null,
            "right": null,
            "top": null,
            "visibility": null,
            "width": null
          }
        },
        "7d1b9a306b6e46aea453ec189f05d5da": {
          "model_module": "@jupyter-widgets/controls",
          "model_name": "ProgressStyleModel",
          "model_module_version": "1.5.0",
          "state": {
            "_model_module": "@jupyter-widgets/controls",
            "_model_module_version": "1.5.0",
            "_model_name": "ProgressStyleModel",
            "_view_count": null,
            "_view_module": "@jupyter-widgets/base",
            "_view_module_version": "1.2.0",
            "_view_name": "StyleView",
            "bar_color": null,
            "description_width": ""
          }
        },
        "80eff2b7615f4da6bfc5ae57365a2863": {
          "model_module": "@jupyter-widgets/base",
          "model_name": "LayoutModel",
          "model_module_version": "1.2.0",
          "state": {
            "_model_module": "@jupyter-widgets/base",
            "_model_module_version": "1.2.0",
            "_model_name": "LayoutModel",
            "_view_count": null,
            "_view_module": "@jupyter-widgets/base",
            "_view_module_version": "1.2.0",
            "_view_name": "LayoutView",
            "align_content": null,
            "align_items": null,
            "align_self": null,
            "border": null,
            "bottom": null,
            "display": null,
            "flex": null,
            "flex_flow": null,
            "grid_area": null,
            "grid_auto_columns": null,
            "grid_auto_flow": null,
            "grid_auto_rows": null,
            "grid_column": null,
            "grid_gap": null,
            "grid_row": null,
            "grid_template_areas": null,
            "grid_template_columns": null,
            "grid_template_rows": null,
            "height": null,
            "justify_content": null,
            "justify_items": null,
            "left": null,
            "margin": null,
            "max_height": null,
            "max_width": null,
            "min_height": null,
            "min_width": null,
            "object_fit": null,
            "object_position": null,
            "order": null,
            "overflow": null,
            "overflow_x": null,
            "overflow_y": null,
            "padding": null,
            "right": null,
            "top": null,
            "visibility": null,
            "width": null
          }
        },
        "13776591d24b4eaab027b796aeceb229": {
          "model_module": "@jupyter-widgets/controls",
          "model_name": "DescriptionStyleModel",
          "model_module_version": "1.5.0",
          "state": {
            "_model_module": "@jupyter-widgets/controls",
            "_model_module_version": "1.5.0",
            "_model_name": "DescriptionStyleModel",
            "_view_count": null,
            "_view_module": "@jupyter-widgets/base",
            "_view_module_version": "1.2.0",
            "_view_name": "StyleView",
            "description_width": ""
          }
        },
        "8a77bfd5b9b7424faeb41fdde7f289a7": {
          "model_module": "@jupyter-widgets/controls",
          "model_name": "HBoxModel",
          "model_module_version": "1.5.0",
          "state": {
            "_dom_classes": [],
            "_model_module": "@jupyter-widgets/controls",
            "_model_module_version": "1.5.0",
            "_model_name": "HBoxModel",
            "_view_count": null,
            "_view_module": "@jupyter-widgets/controls",
            "_view_module_version": "1.5.0",
            "_view_name": "HBoxView",
            "box_style": "",
            "children": [
              "IPY_MODEL_6660c39550314e0eac2c69d40b58fa87",
              "IPY_MODEL_f58cfa4e431b4f1ba61ba6cfcd7628ef",
              "IPY_MODEL_99d286ca15af400bb652ee38284bfec6"
            ],
            "layout": "IPY_MODEL_a54e8b22eb3a493ba274bcadb43e725d"
          }
        },
        "6660c39550314e0eac2c69d40b58fa87": {
          "model_module": "@jupyter-widgets/controls",
          "model_name": "HTMLModel",
          "model_module_version": "1.5.0",
          "state": {
            "_dom_classes": [],
            "_model_module": "@jupyter-widgets/controls",
            "_model_module_version": "1.5.0",
            "_model_name": "HTMLModel",
            "_view_count": null,
            "_view_module": "@jupyter-widgets/controls",
            "_view_module_version": "1.5.0",
            "_view_name": "HTMLView",
            "description": "",
            "description_tooltip": null,
            "layout": "IPY_MODEL_de043930c410437e833f6daf54e81204",
            "placeholder": "​",
            "style": "IPY_MODEL_68fee229e830431bb389f3a9c84397b5",
            "value": "100%"
          }
        },
        "f58cfa4e431b4f1ba61ba6cfcd7628ef": {
          "model_module": "@jupyter-widgets/controls",
          "model_name": "FloatProgressModel",
          "model_module_version": "1.5.0",
          "state": {
            "_dom_classes": [],
            "_model_module": "@jupyter-widgets/controls",
            "_model_module_version": "1.5.0",
            "_model_name": "FloatProgressModel",
            "_view_count": null,
            "_view_module": "@jupyter-widgets/controls",
            "_view_module_version": "1.5.0",
            "_view_name": "ProgressView",
            "bar_style": "success",
            "description": "",
            "description_tooltip": null,
            "layout": "IPY_MODEL_afd7ebe39a8345aabb8a94a62eaf659c",
            "max": 1648877,
            "min": 0,
            "orientation": "horizontal",
            "style": "IPY_MODEL_b634c92f5d664cd38e7bea603f58f665",
            "value": 1648877
          }
        },
        "99d286ca15af400bb652ee38284bfec6": {
          "model_module": "@jupyter-widgets/controls",
          "model_name": "HTMLModel",
          "model_module_version": "1.5.0",
          "state": {
            "_dom_classes": [],
            "_model_module": "@jupyter-widgets/controls",
            "_model_module_version": "1.5.0",
            "_model_name": "HTMLModel",
            "_view_count": null,
            "_view_module": "@jupyter-widgets/controls",
            "_view_module_version": "1.5.0",
            "_view_name": "HTMLView",
            "description": "",
            "description_tooltip": null,
            "layout": "IPY_MODEL_e4a36051c0054ad1bd2903bb1123bb5d",
            "placeholder": "​",
            "style": "IPY_MODEL_b99ac0f190cf4653b976a12014b61797",
            "value": " 1648877/1648877 [00:00&lt;00:00, 19999628.10it/s]"
          }
        },
        "a54e8b22eb3a493ba274bcadb43e725d": {
          "model_module": "@jupyter-widgets/base",
          "model_name": "LayoutModel",
          "model_module_version": "1.2.0",
          "state": {
            "_model_module": "@jupyter-widgets/base",
            "_model_module_version": "1.2.0",
            "_model_name": "LayoutModel",
            "_view_count": null,
            "_view_module": "@jupyter-widgets/base",
            "_view_module_version": "1.2.0",
            "_view_name": "LayoutView",
            "align_content": null,
            "align_items": null,
            "align_self": null,
            "border": null,
            "bottom": null,
            "display": null,
            "flex": null,
            "flex_flow": null,
            "grid_area": null,
            "grid_auto_columns": null,
            "grid_auto_flow": null,
            "grid_auto_rows": null,
            "grid_column": null,
            "grid_gap": null,
            "grid_row": null,
            "grid_template_areas": null,
            "grid_template_columns": null,
            "grid_template_rows": null,
            "height": null,
            "justify_content": null,
            "justify_items": null,
            "left": null,
            "margin": null,
            "max_height": null,
            "max_width": null,
            "min_height": null,
            "min_width": null,
            "object_fit": null,
            "object_position": null,
            "order": null,
            "overflow": null,
            "overflow_x": null,
            "overflow_y": null,
            "padding": null,
            "right": null,
            "top": null,
            "visibility": null,
            "width": null
          }
        },
        "de043930c410437e833f6daf54e81204": {
          "model_module": "@jupyter-widgets/base",
          "model_name": "LayoutModel",
          "model_module_version": "1.2.0",
          "state": {
            "_model_module": "@jupyter-widgets/base",
            "_model_module_version": "1.2.0",
            "_model_name": "LayoutModel",
            "_view_count": null,
            "_view_module": "@jupyter-widgets/base",
            "_view_module_version": "1.2.0",
            "_view_name": "LayoutView",
            "align_content": null,
            "align_items": null,
            "align_self": null,
            "border": null,
            "bottom": null,
            "display": null,
            "flex": null,
            "flex_flow": null,
            "grid_area": null,
            "grid_auto_columns": null,
            "grid_auto_flow": null,
            "grid_auto_rows": null,
            "grid_column": null,
            "grid_gap": null,
            "grid_row": null,
            "grid_template_areas": null,
            "grid_template_columns": null,
            "grid_template_rows": null,
            "height": null,
            "justify_content": null,
            "justify_items": null,
            "left": null,
            "margin": null,
            "max_height": null,
            "max_width": null,
            "min_height": null,
            "min_width": null,
            "object_fit": null,
            "object_position": null,
            "order": null,
            "overflow": null,
            "overflow_x": null,
            "overflow_y": null,
            "padding": null,
            "right": null,
            "top": null,
            "visibility": null,
            "width": null
          }
        },
        "68fee229e830431bb389f3a9c84397b5": {
          "model_module": "@jupyter-widgets/controls",
          "model_name": "DescriptionStyleModel",
          "model_module_version": "1.5.0",
          "state": {
            "_model_module": "@jupyter-widgets/controls",
            "_model_module_version": "1.5.0",
            "_model_name": "DescriptionStyleModel",
            "_view_count": null,
            "_view_module": "@jupyter-widgets/base",
            "_view_module_version": "1.2.0",
            "_view_name": "StyleView",
            "description_width": ""
          }
        },
        "afd7ebe39a8345aabb8a94a62eaf659c": {
          "model_module": "@jupyter-widgets/base",
          "model_name": "LayoutModel",
          "model_module_version": "1.2.0",
          "state": {
            "_model_module": "@jupyter-widgets/base",
            "_model_module_version": "1.2.0",
            "_model_name": "LayoutModel",
            "_view_count": null,
            "_view_module": "@jupyter-widgets/base",
            "_view_module_version": "1.2.0",
            "_view_name": "LayoutView",
            "align_content": null,
            "align_items": null,
            "align_self": null,
            "border": null,
            "bottom": null,
            "display": null,
            "flex": null,
            "flex_flow": null,
            "grid_area": null,
            "grid_auto_columns": null,
            "grid_auto_flow": null,
            "grid_auto_rows": null,
            "grid_column": null,
            "grid_gap": null,
            "grid_row": null,
            "grid_template_areas": null,
            "grid_template_columns": null,
            "grid_template_rows": null,
            "height": null,
            "justify_content": null,
            "justify_items": null,
            "left": null,
            "margin": null,
            "max_height": null,
            "max_width": null,
            "min_height": null,
            "min_width": null,
            "object_fit": null,
            "object_position": null,
            "order": null,
            "overflow": null,
            "overflow_x": null,
            "overflow_y": null,
            "padding": null,
            "right": null,
            "top": null,
            "visibility": null,
            "width": null
          }
        },
        "b634c92f5d664cd38e7bea603f58f665": {
          "model_module": "@jupyter-widgets/controls",
          "model_name": "ProgressStyleModel",
          "model_module_version": "1.5.0",
          "state": {
            "_model_module": "@jupyter-widgets/controls",
            "_model_module_version": "1.5.0",
            "_model_name": "ProgressStyleModel",
            "_view_count": null,
            "_view_module": "@jupyter-widgets/base",
            "_view_module_version": "1.2.0",
            "_view_name": "StyleView",
            "bar_color": null,
            "description_width": ""
          }
        },
        "e4a36051c0054ad1bd2903bb1123bb5d": {
          "model_module": "@jupyter-widgets/base",
          "model_name": "LayoutModel",
          "model_module_version": "1.2.0",
          "state": {
            "_model_module": "@jupyter-widgets/base",
            "_model_module_version": "1.2.0",
            "_model_name": "LayoutModel",
            "_view_count": null,
            "_view_module": "@jupyter-widgets/base",
            "_view_module_version": "1.2.0",
            "_view_name": "LayoutView",
            "align_content": null,
            "align_items": null,
            "align_self": null,
            "border": null,
            "bottom": null,
            "display": null,
            "flex": null,
            "flex_flow": null,
            "grid_area": null,
            "grid_auto_columns": null,
            "grid_auto_flow": null,
            "grid_auto_rows": null,
            "grid_column": null,
            "grid_gap": null,
            "grid_row": null,
            "grid_template_areas": null,
            "grid_template_columns": null,
            "grid_template_rows": null,
            "height": null,
            "justify_content": null,
            "justify_items": null,
            "left": null,
            "margin": null,
            "max_height": null,
            "max_width": null,
            "min_height": null,
            "min_width": null,
            "object_fit": null,
            "object_position": null,
            "order": null,
            "overflow": null,
            "overflow_x": null,
            "overflow_y": null,
            "padding": null,
            "right": null,
            "top": null,
            "visibility": null,
            "width": null
          }
        },
        "b99ac0f190cf4653b976a12014b61797": {
          "model_module": "@jupyter-widgets/controls",
          "model_name": "DescriptionStyleModel",
          "model_module_version": "1.5.0",
          "state": {
            "_model_module": "@jupyter-widgets/controls",
            "_model_module_version": "1.5.0",
            "_model_name": "DescriptionStyleModel",
            "_view_count": null,
            "_view_module": "@jupyter-widgets/base",
            "_view_module_version": "1.2.0",
            "_view_name": "StyleView",
            "description_width": ""
          }
        },
        "7214af3ee6704def89c662a4bf08a9ab": {
          "model_module": "@jupyter-widgets/controls",
          "model_name": "HBoxModel",
          "model_module_version": "1.5.0",
          "state": {
            "_dom_classes": [],
            "_model_module": "@jupyter-widgets/controls",
            "_model_module_version": "1.5.0",
            "_model_name": "HBoxModel",
            "_view_count": null,
            "_view_module": "@jupyter-widgets/controls",
            "_view_module_version": "1.5.0",
            "_view_name": "HBoxView",
            "box_style": "",
            "children": [
              "IPY_MODEL_7adf69df1c184a92bb32a341d26211f2",
              "IPY_MODEL_0614830f86d04db1a6ee6f8eb28641b3",
              "IPY_MODEL_c09155e29871424d99fd94dcab901699"
            ],
            "layout": "IPY_MODEL_e5ddcf5429594991b10b5df9ceecd20b"
          }
        },
        "7adf69df1c184a92bb32a341d26211f2": {
          "model_module": "@jupyter-widgets/controls",
          "model_name": "HTMLModel",
          "model_module_version": "1.5.0",
          "state": {
            "_dom_classes": [],
            "_model_module": "@jupyter-widgets/controls",
            "_model_module_version": "1.5.0",
            "_model_name": "HTMLModel",
            "_view_count": null,
            "_view_module": "@jupyter-widgets/controls",
            "_view_module_version": "1.5.0",
            "_view_name": "HTMLView",
            "description": "",
            "description_tooltip": null,
            "layout": "IPY_MODEL_22929168e35a40bdb908dd06d6bd3cf7",
            "placeholder": "​",
            "style": "IPY_MODEL_b6a59ec4ec3745d08dbc60fa2bc10d68",
            "value": "100%"
          }
        },
        "0614830f86d04db1a6ee6f8eb28641b3": {
          "model_module": "@jupyter-widgets/controls",
          "model_name": "FloatProgressModel",
          "model_module_version": "1.5.0",
          "state": {
            "_dom_classes": [],
            "_model_module": "@jupyter-widgets/controls",
            "_model_module_version": "1.5.0",
            "_model_name": "FloatProgressModel",
            "_view_count": null,
            "_view_module": "@jupyter-widgets/controls",
            "_view_module_version": "1.5.0",
            "_view_name": "ProgressView",
            "bar_style": "success",
            "description": "",
            "description_tooltip": null,
            "layout": "IPY_MODEL_2037ec6893cd4060a7c492909adb824d",
            "max": 4542,
            "min": 0,
            "orientation": "horizontal",
            "style": "IPY_MODEL_489afdba171b48fda4dd35b80b93f1d3",
            "value": 4542
          }
        },
        "c09155e29871424d99fd94dcab901699": {
          "model_module": "@jupyter-widgets/controls",
          "model_name": "HTMLModel",
          "model_module_version": "1.5.0",
          "state": {
            "_dom_classes": [],
            "_model_module": "@jupyter-widgets/controls",
            "_model_module_version": "1.5.0",
            "_model_name": "HTMLModel",
            "_view_count": null,
            "_view_module": "@jupyter-widgets/controls",
            "_view_module_version": "1.5.0",
            "_view_name": "HTMLView",
            "description": "",
            "description_tooltip": null,
            "layout": "IPY_MODEL_4cf795a9b7b946469c918348a3e98206",
            "placeholder": "​",
            "style": "IPY_MODEL_8c678c0d0847434383f1568304ebbd2c",
            "value": " 4542/4542 [00:00&lt;00:00, 65101.52it/s]"
          }
        },
        "e5ddcf5429594991b10b5df9ceecd20b": {
          "model_module": "@jupyter-widgets/base",
          "model_name": "LayoutModel",
          "model_module_version": "1.2.0",
          "state": {
            "_model_module": "@jupyter-widgets/base",
            "_model_module_version": "1.2.0",
            "_model_name": "LayoutModel",
            "_view_count": null,
            "_view_module": "@jupyter-widgets/base",
            "_view_module_version": "1.2.0",
            "_view_name": "LayoutView",
            "align_content": null,
            "align_items": null,
            "align_self": null,
            "border": null,
            "bottom": null,
            "display": null,
            "flex": null,
            "flex_flow": null,
            "grid_area": null,
            "grid_auto_columns": null,
            "grid_auto_flow": null,
            "grid_auto_rows": null,
            "grid_column": null,
            "grid_gap": null,
            "grid_row": null,
            "grid_template_areas": null,
            "grid_template_columns": null,
            "grid_template_rows": null,
            "height": null,
            "justify_content": null,
            "justify_items": null,
            "left": null,
            "margin": null,
            "max_height": null,
            "max_width": null,
            "min_height": null,
            "min_width": null,
            "object_fit": null,
            "object_position": null,
            "order": null,
            "overflow": null,
            "overflow_x": null,
            "overflow_y": null,
            "padding": null,
            "right": null,
            "top": null,
            "visibility": null,
            "width": null
          }
        },
        "22929168e35a40bdb908dd06d6bd3cf7": {
          "model_module": "@jupyter-widgets/base",
          "model_name": "LayoutModel",
          "model_module_version": "1.2.0",
          "state": {
            "_model_module": "@jupyter-widgets/base",
            "_model_module_version": "1.2.0",
            "_model_name": "LayoutModel",
            "_view_count": null,
            "_view_module": "@jupyter-widgets/base",
            "_view_module_version": "1.2.0",
            "_view_name": "LayoutView",
            "align_content": null,
            "align_items": null,
            "align_self": null,
            "border": null,
            "bottom": null,
            "display": null,
            "flex": null,
            "flex_flow": null,
            "grid_area": null,
            "grid_auto_columns": null,
            "grid_auto_flow": null,
            "grid_auto_rows": null,
            "grid_column": null,
            "grid_gap": null,
            "grid_row": null,
            "grid_template_areas": null,
            "grid_template_columns": null,
            "grid_template_rows": null,
            "height": null,
            "justify_content": null,
            "justify_items": null,
            "left": null,
            "margin": null,
            "max_height": null,
            "max_width": null,
            "min_height": null,
            "min_width": null,
            "object_fit": null,
            "object_position": null,
            "order": null,
            "overflow": null,
            "overflow_x": null,
            "overflow_y": null,
            "padding": null,
            "right": null,
            "top": null,
            "visibility": null,
            "width": null
          }
        },
        "b6a59ec4ec3745d08dbc60fa2bc10d68": {
          "model_module": "@jupyter-widgets/controls",
          "model_name": "DescriptionStyleModel",
          "model_module_version": "1.5.0",
          "state": {
            "_model_module": "@jupyter-widgets/controls",
            "_model_module_version": "1.5.0",
            "_model_name": "DescriptionStyleModel",
            "_view_count": null,
            "_view_module": "@jupyter-widgets/base",
            "_view_module_version": "1.2.0",
            "_view_name": "StyleView",
            "description_width": ""
          }
        },
        "2037ec6893cd4060a7c492909adb824d": {
          "model_module": "@jupyter-widgets/base",
          "model_name": "LayoutModel",
          "model_module_version": "1.2.0",
          "state": {
            "_model_module": "@jupyter-widgets/base",
            "_model_module_version": "1.2.0",
            "_model_name": "LayoutModel",
            "_view_count": null,
            "_view_module": "@jupyter-widgets/base",
            "_view_module_version": "1.2.0",
            "_view_name": "LayoutView",
            "align_content": null,
            "align_items": null,
            "align_self": null,
            "border": null,
            "bottom": null,
            "display": null,
            "flex": null,
            "flex_flow": null,
            "grid_area": null,
            "grid_auto_columns": null,
            "grid_auto_flow": null,
            "grid_auto_rows": null,
            "grid_column": null,
            "grid_gap": null,
            "grid_row": null,
            "grid_template_areas": null,
            "grid_template_columns": null,
            "grid_template_rows": null,
            "height": null,
            "justify_content": null,
            "justify_items": null,
            "left": null,
            "margin": null,
            "max_height": null,
            "max_width": null,
            "min_height": null,
            "min_width": null,
            "object_fit": null,
            "object_position": null,
            "order": null,
            "overflow": null,
            "overflow_x": null,
            "overflow_y": null,
            "padding": null,
            "right": null,
            "top": null,
            "visibility": null,
            "width": null
          }
        },
        "489afdba171b48fda4dd35b80b93f1d3": {
          "model_module": "@jupyter-widgets/controls",
          "model_name": "ProgressStyleModel",
          "model_module_version": "1.5.0",
          "state": {
            "_model_module": "@jupyter-widgets/controls",
            "_model_module_version": "1.5.0",
            "_model_name": "ProgressStyleModel",
            "_view_count": null,
            "_view_module": "@jupyter-widgets/base",
            "_view_module_version": "1.2.0",
            "_view_name": "StyleView",
            "bar_color": null,
            "description_width": ""
          }
        },
        "4cf795a9b7b946469c918348a3e98206": {
          "model_module": "@jupyter-widgets/base",
          "model_name": "LayoutModel",
          "model_module_version": "1.2.0",
          "state": {
            "_model_module": "@jupyter-widgets/base",
            "_model_module_version": "1.2.0",
            "_model_name": "LayoutModel",
            "_view_count": null,
            "_view_module": "@jupyter-widgets/base",
            "_view_module_version": "1.2.0",
            "_view_name": "LayoutView",
            "align_content": null,
            "align_items": null,
            "align_self": null,
            "border": null,
            "bottom": null,
            "display": null,
            "flex": null,
            "flex_flow": null,
            "grid_area": null,
            "grid_auto_columns": null,
            "grid_auto_flow": null,
            "grid_auto_rows": null,
            "grid_column": null,
            "grid_gap": null,
            "grid_row": null,
            "grid_template_areas": null,
            "grid_template_columns": null,
            "grid_template_rows": null,
            "height": null,
            "justify_content": null,
            "justify_items": null,
            "left": null,
            "margin": null,
            "max_height": null,
            "max_width": null,
            "min_height": null,
            "min_width": null,
            "object_fit": null,
            "object_position": null,
            "order": null,
            "overflow": null,
            "overflow_x": null,
            "overflow_y": null,
            "padding": null,
            "right": null,
            "top": null,
            "visibility": null,
            "width": null
          }
        },
        "8c678c0d0847434383f1568304ebbd2c": {
          "model_module": "@jupyter-widgets/controls",
          "model_name": "DescriptionStyleModel",
          "model_module_version": "1.5.0",
          "state": {
            "_model_module": "@jupyter-widgets/controls",
            "_model_module_version": "1.5.0",
            "_model_name": "DescriptionStyleModel",
            "_view_count": null,
            "_view_module": "@jupyter-widgets/base",
            "_view_module_version": "1.2.0",
            "_view_name": "StyleView",
            "description_width": ""
          }
        }
      }
    }
  },
  "cells": [
    {
      "cell_type": "code",
      "metadata": {
        "id": "VskMijOr0wOe"
      },
      "source": [
        "import numpy as np\n",
        "import torch\n",
        "from torch import nn\n",
        "import matplotlib.pyplot as plt\n",
        "%matplotlib inline"
      ],
      "execution_count": null,
      "outputs": []
    },
    {
      "cell_type": "markdown",
      "metadata": {
        "id": "M-BohvQ4k1BE"
      },
      "source": [
        "## Logistic Regression (PyTorch)"
      ]
    },
    {
      "cell_type": "code",
      "metadata": {
        "id": "UOEM8HG9200q",
        "colab": {
          "base_uri": "https://localhost:8080/"
        },
        "outputId": "0c01c755-0c67-403a-ac7f-5b4b17abc465"
      },
      "source": [
        "n_data = torch.ones(1000, 2) # 데이터를 1000개씩 두줄 형태로\n",
        "\n",
        "# 데이터를 분류하기 위해 데이터를 생성한 것\n",
        "X0 = torch.normal(2 * n_data, 1)\n",
        "y0 = torch.zeros(1000)\n",
        "X1 = torch.normal(-2 * n_data, 1)\n",
        "y1 = torch.ones(1000)\n",
        "\n",
        "# 데이터를 묶어주는 작업\n",
        "train_X = np.vstack([X0, X1])\n",
        "train_y = np.vstack([y0, y1]).reshape(-1, 1)\n",
        "\n",
        "C1 = np.where(train_y == True)[0]\n",
        "C0 = np.where(train_y == False)[0]\n",
        "\n",
        "# Define train_X, train_y for torch\n",
        "train_X, train_y = torch.from_numpy(train_X).float(), torch.from_numpy(train_y).float() \n",
        "\n",
        "print(train_X.shape, train_y.shape)"
      ],
      "execution_count": null,
      "outputs": [
        {
          "output_type": "stream",
          "name": "stdout",
          "text": [
            "torch.Size([2000, 2]) torch.Size([2000, 1])\n"
          ]
        }
      ]
    },
    {
      "cell_type": "code",
      "metadata": {
        "id": "h4XNzmNfu_3L",
        "colab": {
          "base_uri": "https://localhost:8080/",
          "height": 502
        },
        "outputId": "d0bbd780-a6f3-4f8e-828e-907d77bcd59f"
      },
      "source": [
        "plt.figure(figsize = (10,8))\n",
        "plt.plot(train_X[C1,0], train_X[C1,1], 'ro', alpha = 0.3, label='C1')\n",
        "plt.plot(train_X[C0,0], train_X[C0,1], 'bo', alpha = 0.3, label='C0')\n",
        "plt.xlabel(r'$x_1$', fontsize = 15)\n",
        "plt.ylabel(r'$x_2$', fontsize = 15)\n",
        "plt.legend(loc = 1, fontsize = 12)\n",
        "plt.axis('equal')\n",
        "plt.ylim([-5,5])\n",
        "plt.show()"
      ],
      "execution_count": null,
      "outputs": [
        {
          "output_type": "display_data",
          "data": {
            "text/plain": [
              "<Figure size 720x576 with 1 Axes>"
            ],
            "image/png": "[encoded data removed]"
          },
          "metadata": {
            "needs_background": "light"
          }
        }
      ]
    },
    {
      "cell_type": "code",
      "metadata": {
        "id": "fmEw9Vk5mdv6"
      },
      "source": [
        "from torch.utils.data import DataLoader, TensorDataset\n",
        "\n",
        "def load_array(data_arrays, batch_size, is_train = True):\n",
        "    # Define dataset and dataloader\n",
        "    dataset = TensorDataset(*data_arrays) # data_arrays형태로 데이터셋 구성\n",
        "    dataloader = DataLoader(dataset = dataset, \n",
        "                            batch_size = batch_size,\n",
        "                            shuffle = is_train)\n",
        "    return dataloader"
      ],
      "execution_count": null,
      "outputs": []
    },
    {
      "cell_type": "code",
      "metadata": {
        "id": "r0u13o66meWm"
      },
      "source": [
        "data_iter = load_array((train_X, train_y), batch_size=len(train_y))"
      ],
      "execution_count": null,
      "outputs": []
    },
    {
      "cell_type": "code",
      "metadata": {
        "id": "bCjW11cUncIX"
      },
      "source": [
        "class LogisticRegressionModel(torch.nn.Module):\n",
        "    # Define init, forward method\n",
        "    def __init__(self): # 성질을 정의\n",
        "        super(LogisticRegressionModel, self).__init__() # 메소드를 상속받음\n",
        "        self.layer = torch.nn.Linear(2, 1) # input layer는 2개 중 1개를 구분하는 문제로 linear하게 구성\n",
        "        self.sigmoid = torch.nn.Sigmoid() # 최종적으로 simoid로 판별하는 문제로\n",
        "\n",
        "    def forward(self, inputs): # layer와 layer 사이의 관계를 정의\n",
        "        outputs = self.layer(inputs) # layer에 input을 넣었을 때 나오는 값을 output으로\n",
        "        return self.sigmoid(outputs)\n",
        "\n",
        "model_logR = LogisticRegressionModel()\n",
        "\n",
        "if torch.cuda.is_available(): # GPU 활용할건지\n",
        "    train_X, train_y = train_X.cuda(), train_y.cuda()\n",
        "    model_logR.cuda()"
      ],
      "execution_count": null,
      "outputs": []
    },
    {
      "cell_type": "code",
      "metadata": {
        "id": "S3RkCQRXoYGl",
        "colab": {
          "base_uri": "https://localhost:8080/"
        },
        "outputId": "1fc84bfa-fe15-4098-f85f-a2c38d7420e7"
      },
      "source": [
        "# layer들의 weight와 bias를 초기화하게 됨\n",
        "print(model_logR.layer.weight.data)\n",
        "print(model_logR.layer.bias.data)"
      ],
      "execution_count": null,
      "outputs": [
        {
          "output_type": "stream",
          "name": "stdout",
          "text": [
            "tensor([[0.5850, 0.6109]], device='cuda:0')\n",
            "tensor([-0.5960], device='cuda:0')\n"
          ]
        }
      ]
    },
    {
      "cell_type": "code",
      "metadata": {
        "id": "PlWzNa1Rodve"
      },
      "source": [
        "# Define SGD optimizer \n",
        "optimizer_logR = torch.optim.SGD(model_logR.parameters(), lr = 0.05)"
      ],
      "execution_count": null,
      "outputs": []
    },
    {
      "cell_type": "code",
      "metadata": {
        "id": "aCH8SooSlLjS",
        "colab": {
          "base_uri": "https://localhost:8080/"
        },
        "outputId": "0ec084fa-b0db-4411-e6a0-23c24e0955ca"
      },
      "source": [
        "model_logR.parameters"
      ],
      "execution_count": null,
      "outputs": [
        {
          "output_type": "execute_result",
          "data": {
            "text/plain": [
              "<bound method Module.parameters of LogisticRegressionModel(\n",
              "  (layer): Linear(in_features=2, out_features=1, bias=True)\n",
              "  (sigmoid): Sigmoid()\n",
              ")>"
            ]
          },
          "metadata": {},
          "execution_count": 38
        }
      ]
    },
    {
      "cell_type": "code",
      "metadata": {
        "id": "pUvM68hHolNf"
      },
      "source": [
        "num_epochs = 200\n",
        "loss_graph_logR = []\n",
        "\n",
        "for epoch in range(num_epochs):\n",
        "    for X, y in data_iter:\n",
        "        # training with predict, loss, zero_grad, backward, step\n",
        "        predict_logR = model_logR(train_X) # input 데이터를 넣어주게 됨\n",
        "        loss_logR = torch.nn.functional.binary_cross_entropy(predict_logR, train_y) # loss function\n",
        "        optimizer_logR.zero_grad() # 앞서 정의한 최적화를 0으로 초기화\n",
        "        loss_logR.backward() # loss에 대해서 역전파\n",
        "        optimizer_logR.step() # 최적화에 대해서 업데이트\n",
        "    loss_graph_logR.append(torch.nn.functional.binary_cross_entropy(model_logR(train_X), train_y))\n",
        "\n",
        "# plt.plot(loss_graph_logR)\n",
        "# plt.xlabel(\"epoch\")\n",
        "# plt.ylabel(\"loss\")\n",
        "# plt.show()"
      ],
      "execution_count": null,
      "outputs": []
    },
    {
      "cell_type": "code",
      "metadata": {
        "id": "8zHOMYlxv_oO",
        "colab": {
          "base_uri": "https://localhost:8080/",
          "height": 524
        },
        "outputId": "e38abc1f-c476-414c-cbdd-308305275018"
      },
      "source": [
        "w1 = model_logR.layer.weight[0][0].item()\n",
        "w2 = model_logR.layer.weight[0][1].item()\n",
        "b = model_logR.layer.bias.item()\n",
        "\n",
        "print(w1, w2, b)\n",
        "\n",
        "xp = np.arange(-4, 4, 0.01).reshape(-1, 1)\n",
        "yp = - w1 / w2 * xp - b / w2\n",
        "\n",
        "train_X, train_y = train_X.cpu(), train_y.cpu()\n",
        "\n",
        "plt.figure(figsize = (10,8))\n",
        "plt.plot(train_X[C1,0], train_X[C1,1], 'ro', alpha = 0.3, label='C1')\n",
        "plt.plot(train_X[C0,0], train_X[C0,1], 'bo', alpha = 0.3, label='C0')\n",
        "plt.plot(xp, yp, 'g', linewidth = 3, label = 'Logistic Regression')\n",
        "plt.xlabel(r'$x_1$', fontsize = 15)\n",
        "plt.ylabel(r'$x_2$', fontsize = 15)\n",
        "plt.legend(loc = 1, fontsize = 12)\n",
        "plt.axis('equal')\n",
        "plt.ylim([-4,4])\n",
        "plt.show()"
      ],
      "execution_count": null,
      "outputs": [
        {
          "output_type": "stream",
          "name": "stdout",
          "text": [
            "-1.5429518222808838 -1.525949478149414 -0.23708783090114594\n"
          ]
        },
        {
          "output_type": "display_data",
          "data": {
            "text/plain": [
              "<Figure size 720x576 with 1 Axes>"
            ],
            "image/png": "[encoded data removed]"
          },
          "metadata": {
            "needs_background": "light"
          }
        }
      ]
    },
    {
      "cell_type": "markdown",
      "metadata": {
        "id": "udWtDT7wP1yK"
      },
      "source": [
        "## MNIST_MLP"
      ]
    },
    {
      "cell_type": "code",
      "metadata": {
        "id": "yLNAIgaTP4vJ"
      },
      "source": [
        "import numpy as np\n",
        "import matplotlib.pyplot as plt\n",
        "import torch\n",
        "from torch import nn\n",
        "from torch.nn import functional as F\n",
        "from torchvision import transforms, datasets\n",
        "from torch.utils.data import DataLoader"
      ],
      "execution_count": null,
      "outputs": []
    },
    {
      "cell_type": "code",
      "metadata": {
        "id": "FHX_T8JpP7pR"
      },
      "source": [
        "BATCH_SIZE = 32\n",
        "EPOCHS = 10"
      ],
      "execution_count": null,
      "outputs": []
    },
    {
      "cell_type": "code",
      "metadata": {
        "id": "35_e-3LwQVcn",
        "colab": {
          "base_uri": "https://localhost:8080/",
          "height": 459,
          "referenced_widgets": [
            "37eac797a8f54d23addff3d558cda32f",
            "e867fa7a21924795ae85caffd75b5959",
            "12a99ce98c784a3d916b61be7c6eca13",
            "c44563ab89454712b85013db055dad31",
            "bc096eeac9d44d87b349d21e930563c9",
            "475424820eb24cb9b7c69925ba6a7701",
            "79e2acc25e4845f1b6b8874af7b06390",
            "8a67e571f04c46a7bcb270143cba4ba3",
            "2c6a0aaad434430488a1f1276f78281a",
            "10204257c4084060877ad1ebc96c1240",
            "6198d7af2ba1476096c5f9c238bc69e7",
            "460faca646ab47d0b0cd7f62f4bb7711",
            "e12f07edd3594b74a61dfe4d3697b171",
            "cb5fb7c8d87d4307baba98bab461b250",
            "3d13b9aedc024aca8ba593d616ede0db",
            "26c34428475e4e63891a83b8355b6d80",
            "ab465f1dd5394196a6ad58121a9ac783",
            "aa323e960b8f4290a65bc62c6a8ec029",
            "884425ef46434987a7a21fe6070a2453",
            "7d1b9a306b6e46aea453ec189f05d5da",
            "80eff2b7615f4da6bfc5ae57365a2863",
            "13776591d24b4eaab027b796aeceb229",
            "8a77bfd5b9b7424faeb41fdde7f289a7",
            "6660c39550314e0eac2c69d40b58fa87",
            "f58cfa4e431b4f1ba61ba6cfcd7628ef",
            "99d286ca15af400bb652ee38284bfec6",
            "a54e8b22eb3a493ba274bcadb43e725d",
            "de043930c410437e833f6daf54e81204",
            "68fee229e830431bb389f3a9c84397b5",
            "afd7ebe39a8345aabb8a94a62eaf659c",
            "b634c92f5d664cd38e7bea603f58f665",
            "e4a36051c0054ad1bd2903bb1123bb5d",
            "b99ac0f190cf4653b976a12014b61797",
            "7214af3ee6704def89c662a4bf08a9ab",
            "7adf69df1c184a92bb32a341d26211f2",
            "0614830f86d04db1a6ee6f8eb28641b3",
            "c09155e29871424d99fd94dcab901699",
            "e5ddcf5429594991b10b5df9ceecd20b",
            "22929168e35a40bdb908dd06d6bd3cf7",
            "b6a59ec4ec3745d08dbc60fa2bc10d68",
            "2037ec6893cd4060a7c492909adb824d",
            "489afdba171b48fda4dd35b80b93f1d3",
            "4cf795a9b7b946469c918348a3e98206",
            "8c678c0d0847434383f1568304ebbd2c"
          ]
        },
        "outputId": "6683f437-0b7e-44bb-f737-b61be4c6ef79"
      },
      "source": [
        "train_dataset = datasets.MNIST(root = \"../data/MNIST\",\n",
        "                               train = True,\n",
        "                               download = True,\n",
        "                               transform = transforms.ToTensor())\n",
        "\n",
        "test_dataset = datasets.MNIST(root = \"../data/MNIST\",\n",
        "                              train = False,\n",
        "                              transform = transforms.ToTensor())\n",
        "\n",
        "# Define train_loader, Test_loader\n",
        "train_loader = DataLoader(dataset=train_dataset,\n",
        "                          batch_size = BATCH_SIZE,\n",
        "                          shuffle = True)\n",
        "\n",
        "test_loader = DataLoader(dataset=test_dataset,\n",
        "                         batch_size = BATCH_SIZE,\n",
        "                         shuffle = False)"
      ],
      "execution_count": null,
      "outputs": [
        {
          "output_type": "stream",
          "name": "stdout",
          "text": [
            "Downloading http://yann.lecun.com/exdb/mnist/train-images-idx3-ubyte.gz\n",
            "Downloading http://yann.lecun.com/exdb/mnist/train-images-idx3-ubyte.gz to ../data/MNIST/MNIST/raw/train-images-idx3-ubyte.gz\n"
          ]
        },
        {
          "output_type": "display_data",
          "data": {
            "text/plain": [
              "  0%|          | 0/9912422 [00:00<?, ?it/s]"
            ],
            "application/vnd.jupyter.widget-view+json": {
              "version_major": 2,
              "version_minor": 0,
              "model_id": "37eac797a8f54d23addff3d558cda32f"
            }
          },
          "metadata": {}
        },
        {
          "output_type": "stream",
          "name": "stdout",
          "text": [
            "Extracting ../data/MNIST/MNIST/raw/train-images-idx3-ubyte.gz to ../data/MNIST/MNIST/raw\n",
            "\n",
            "Downloading http://yann.lecun.com/exdb/mnist/train-labels-idx1-ubyte.gz\n",
            "Downloading http://yann.lecun.com/exdb/mnist/train-labels-idx1-ubyte.gz to ../data/MNIST/MNIST/raw/train-labels-idx1-ubyte.gz\n"
          ]
        },
        {
          "output_type": "display_data",
          "data": {
            "text/plain": [
              "  0%|          | 0/28881 [00:00<?, ?it/s]"
            ],
            "application/vnd.jupyter.widget-view+json": {
              "version_major": 2,
              "version_minor": 0,
              "model_id": "460faca646ab47d0b0cd7f62f4bb7711"
            }
          },
          "metadata": {}
        },
        {
          "output_type": "stream",
          "name": "stdout",
          "text": [
            "Extracting ../data/MNIST/MNIST/raw/train-labels-idx1-ubyte.gz to ../data/MNIST/MNIST/raw\n",
            "\n",
            "Downloading http://yann.lecun.com/exdb/mnist/t10k-images-idx3-ubyte.gz\n",
            "Downloading http://yann.lecun.com/exdb/mnist/t10k-images-idx3-ubyte.gz to ../data/MNIST/MNIST/raw/t10k-images-idx3-ubyte.gz\n"
          ]
        },
        {
          "output_type": "display_data",
          "data": {
            "text/plain": [
              "  0%|          | 0/1648877 [00:00<?, ?it/s]"
            ],
            "application/vnd.jupyter.widget-view+json": {
              "version_major": 2,
              "version_minor": 0,
              "model_id": "8a77bfd5b9b7424faeb41fdde7f289a7"
            }
          },
          "metadata": {}
        },
        {
          "output_type": "stream",
          "name": "stdout",
          "text": [
            "Extracting ../data/MNIST/MNIST/raw/t10k-images-idx3-ubyte.gz to ../data/MNIST/MNIST/raw\n",
            "\n",
            "Downloading http://yann.lecun.com/exdb/mnist/t10k-labels-idx1-ubyte.gz\n",
            "Downloading http://yann.lecun.com/exdb/mnist/t10k-labels-idx1-ubyte.gz to ../data/MNIST/MNIST/raw/t10k-labels-idx1-ubyte.gz\n"
          ]
        },
        {
          "output_type": "display_data",
          "data": {
            "text/plain": [
              "  0%|          | 0/4542 [00:00<?, ?it/s]"
            ],
            "application/vnd.jupyter.widget-view+json": {
              "version_major": 2,
              "version_minor": 0,
              "model_id": "7214af3ee6704def89c662a4bf08a9ab"
            }
          },
          "metadata": {}
        },
        {
          "output_type": "stream",
          "name": "stdout",
          "text": [
            "Extracting ../data/MNIST/MNIST/raw/t10k-labels-idx1-ubyte.gz to ../data/MNIST/MNIST/raw\n",
            "\n"
          ]
        }
      ]
    },
    {
      "cell_type": "code",
      "metadata": {
        "id": "HezHz8TMQo6l",
        "colab": {
          "base_uri": "https://localhost:8080/"
        },
        "outputId": "f207653f-d559-45d9-b4fb-e8a0ddf68d01"
      },
      "source": [
        "for (X_train, y_train) in train_loader:\n",
        "    print('X_train:', X_train.size(), 'type:', X_train.type())\n",
        "    print('y_train:', y_train.size(), 'type:', y_train.type())\n",
        "    break"
      ],
      "execution_count": null,
      "outputs": [
        {
          "output_type": "stream",
          "name": "stdout",
          "text": [
            "X_train: torch.Size([32, 1, 28, 28]) type: torch.FloatTensor\n",
            "y_train: torch.Size([32]) type: torch.LongTensor\n"
          ]
        }
      ]
    },
    {
      "cell_type": "code",
      "metadata": {
        "id": "VOhsHOuhQrnH",
        "colab": {
          "base_uri": "https://localhost:8080/",
          "height": 94
        },
        "outputId": "10bdccb8-d2c5-4e66-a000-9d8c4287bea4"
      },
      "source": [
        "pltsize = 1\n",
        "plt.figure(figsize=(10 * pltsize, pltsize))\n",
        "for i in range(10):\n",
        "    plt.subplot(1, 10, i + 1)\n",
        "    plt.axis('off')\n",
        "    plt.imshow(X_train[i, :, :, :].numpy().reshape(28, 28), cmap = \"gray_r\")\n",
        "    plt.title('Class: ' + str(y_train[i].item()))"
      ],
      "execution_count": null,
      "outputs": [
        {
          "output_type": "display_data",
          "data": {
            "text/plain": [
              "<Figure size 720x72 with 10 Axes>"
            ],
            "image/png": "[encoded data removed]"
          },
          "metadata": {
            "needs_background": "light"
          }
        }
      ]
    },
    {
      "cell_type": "code",
      "source": [
        "# 일반화 작업 없는 version\n",
        "\n",
        "class NeuralNet(torch.nn.Module):\n",
        "  def __init__(self):\n",
        "    super(NeuralNet, self).__init__()\n",
        "    self.fclayer1 = torch.nn.Linear(28*28, 512)\n",
        "    self.fclayer2 = torch.nn.Linear(512, 256)\n",
        "    self.fclayer3 = torch.nn.Linear(256, 10)\n",
        "    \n",
        "  def forward(self, x):\n",
        "    x = x.view(-1, 28*28)\n",
        "    x = self.fclayer1(x)\n",
        "    x = F.sigmoid(x)\n",
        "    x = self.fclayer2(x)\n",
        "    x = F.sigmoid(x)\n",
        "    x = self.fclayer3(x)\n",
        "    x = F.log_softmax(x, dim=1)\n",
        "    return x"
      ],
      "metadata": {
        "id": "wrhhehZ0ET5t"
      },
      "execution_count": null,
      "outputs": []
    },
    {
      "cell_type": "code",
      "metadata": {
        "id": "Evy-mJ30Q-QE"
      },
      "source": [
        "class NeuralNet(torch.nn.Module):\n",
        "    # Define init and forward method\n",
        "    def __init__(self):\n",
        "        super(NeuralNet, self).__init__()\n",
        "        self.fclayer1 = torch.nn.Linear(28 * 28, 512) # 첫번째 layer: 28*28개의 input으로 512개의 output을 만들어냄\n",
        "        self.fclayer2 = torch.nn.Linear(512, 256) # 두번째 layer: 512개의 input을 받아서 256개의 output을 만들어냄\n",
        "        self.fclayer3 = torch.nn.Linear(256, 10) # 세번째 later: 256개의 input을 받아서 10개의 output(최종적)\n",
        "        self.dropout_prob = 0.5\n",
        "        self.batch_norm1 = nn.BatchNorm1d(512)\n",
        "        self.batch_norm2 = nn.BatchNorm1d(256)\n",
        "\n",
        "    def forward(self, x):\n",
        "        x = x.view(-1, 28 * 28) # flatten 작업(1차원으로 변형)\n",
        "        x = self.fclayer1(x) # 첫번째 layer에 연결\n",
        "        x = self.batch_norm1(x)\n",
        "        x = F.relu(x)\n",
        "        x = F.dropout(x, training=self.training, p = self.dropout_prob)\n",
        "        x = self.fclayer2(x)\n",
        "        x = self.batch_norm2(x)\n",
        "        x = F.relu(x)\n",
        "        x = F.dropout(x, training=self.training, p = self.dropout_prob)\n",
        "        x = self.fclayer3(x)\n",
        "        x = F.log_softmax(x, dim = 1)\n",
        "        return x"
      ],
      "execution_count": null,
      "outputs": []
    },
    {
      "cell_type": "code",
      "metadata": {
        "id": "KUdXJmHLSzWN"
      },
      "source": [
        "if torch.cuda.is_available():\n",
        "    DEVICE = torch.device('cuda')\n",
        "else:\n",
        "    DEVICE = torch.device('cpu')"
      ],
      "execution_count": null,
      "outputs": []
    },
    {
      "cell_type": "code",
      "source": [
        "DEVICE"
      ],
      "metadata": {
        "colab": {
          "base_uri": "https://localhost:8080/"
        },
        "id": "oUiguCUMxdfg",
        "outputId": "7bbaf9a2-9407-4188-c50e-39073255ef00"
      },
      "execution_count": null,
      "outputs": [
        {
          "output_type": "execute_result",
          "data": {
            "text/plain": [
              "device(type='cuda')"
            ]
          },
          "metadata": {},
          "execution_count": 27
        }
      ]
    },
    {
      "cell_type": "code",
      "metadata": {
        "id": "ubkjhq3iSJf4",
        "colab": {
          "base_uri": "https://localhost:8080/"
        },
        "outputId": "8152c659-3bad-4dc8-992c-00a17aecded9"
      },
      "source": [
        "model = NeuralNet().to(DEVICE)\n",
        "\n",
        "# Define optimizer, loss\n",
        "optimizer = torch.optim.Adam(model.parameters(), lr = 0.01)\n",
        "\n",
        "criterion = nn.CrossEntropyLoss()\n",
        "\n",
        "print(model)"
      ],
      "execution_count": null,
      "outputs": [
        {
          "output_type": "stream",
          "name": "stdout",
          "text": [
            "NeuralNet(\n",
            "  (fclayer1): Linear(in_features=784, out_features=512, bias=True)\n",
            "  (fclayer2): Linear(in_features=512, out_features=256, bias=True)\n",
            "  (fclayer3): Linear(in_features=256, out_features=10, bias=True)\n",
            "  (batch_norm1): BatchNorm1d(512, eps=1e-05, momentum=0.1, affine=True, track_running_stats=True)\n",
            "  (batch_norm2): BatchNorm1d(256, eps=1e-05, momentum=0.1, affine=True, track_running_stats=True)\n",
            ")\n"
          ]
        }
      ]
    },
    {
      "cell_type": "code",
      "metadata": {
        "id": "6Do6IcrwS5nq"
      },
      "source": [
        "def train(model, train_loader, optimizer, log_interval):\n",
        "    model.train()\n",
        "    for batch_idx, (image, label) in enumerate(train_loader):\n",
        "        image = image.to(DEVICE)\n",
        "        label = label.to(DEVICE)\n",
        "        # training with output, loss, zero_grad, backward, step\n",
        "        output = model(image)\n",
        "        loss = criterion(output, label)\n",
        "        optimizer.zero_grad()\n",
        "        loss.backward()\n",
        "        optimizer.step()\n",
        "   \n",
        "        if batch_idx % log_interval == 0:\n",
        "            print(\"Train Epoch: {} [{}/{} ({:.0f}%)]\\tTrain Loss: {:.6f}\".format(\n",
        "                epoch, batch_idx * len(image), \n",
        "                len(train_loader.dataset), 100. * batch_idx / len(train_loader), \n",
        "                loss.item())) "
      ],
      "execution_count": null,
      "outputs": []
    },
    {
      "cell_type": "code",
      "metadata": {
        "id": "JUYu2Z1lTktu"
      },
      "source": [
        "def evaluate(model, test_loader):\n",
        "    model.eval()\n",
        "    test_loss = 0\n",
        "    correct = 0\n",
        "\n",
        "    with torch.no_grad(): # gradient를 활용하지 못하도록\n",
        "        for image, label in test_loader:\n",
        "            image = image.to(DEVICE)\n",
        "            label = label.to(DEVICE)\n",
        "\n",
        "            # Evaluate with output, test_loss, prediction, correct\n",
        "            output = model(image)\n",
        "            test_loss += criterion(output, label).item()\n",
        "            prediction = output.max(1, keepdim = True)[1] # 가장 높은 확률로 예측을 하게 됨\n",
        "            correct += prediction.eq(label.view_as(prediction)).sum().item()\n",
        "    \n",
        "    test_loss /= len(test_loader.dataset)\n",
        "    test_accuracy = 100. * correct / len(test_loader.dataset)\n",
        "    return test_loss, test_accuracy"
      ],
      "execution_count": null,
      "outputs": []
    },
    {
      "cell_type": "code",
      "metadata": {
        "id": "-v6OyZcbUQYX",
        "colab": {
          "base_uri": "https://localhost:8080/"
        },
        "outputId": "f6e7d4d1-01a3-404d-f830-13478f012c00"
      },
      "source": [
        "for epoch in range(1, EPOCHS + 1):\n",
        "    train(model, train_loader, optimizer, log_interval = 200)\n",
        "    test_loss, test_accuracy = evaluate(model, test_loader)\n",
        "    print(\"\\n[EPOCH: {}], \\tTest Loss: {:.4f}, \\tTest Accuracy: {:.2f} % \\n\".format(\n",
        "        epoch, test_loss, test_accuracy))"
      ],
      "execution_count": null,
      "outputs": [
        {
          "output_type": "stream",
          "name": "stdout",
          "text": [
            "Train Epoch: 1 [0/60000 (0%)]\tTrain Loss: 2.401308\n",
            "Train Epoch: 1 [6400/60000 (11%)]\tTrain Loss: 0.495913\n",
            "Train Epoch: 1 [12800/60000 (21%)]\tTrain Loss: 0.388857\n",
            "Train Epoch: 1 [19200/60000 (32%)]\tTrain Loss: 0.158792\n",
            "Train Epoch: 1 [25600/60000 (43%)]\tTrain Loss: 0.298068\n",
            "Train Epoch: 1 [32000/60000 (53%)]\tTrain Loss: 0.294034\n",
            "Train Epoch: 1 [38400/60000 (64%)]\tTrain Loss: 0.304758\n",
            "Train Epoch: 1 [44800/60000 (75%)]\tTrain Loss: 0.545524\n",
            "Train Epoch: 1 [51200/60000 (85%)]\tTrain Loss: 0.332408\n",
            "Train Epoch: 1 [57600/60000 (96%)]\tTrain Loss: 0.249227\n",
            "\n",
            "[EPOCH: 1], \tTest Loss: 0.0042, \tTest Accuracy: 95.62 % \n",
            "\n",
            "Train Epoch: 2 [0/60000 (0%)]\tTrain Loss: 0.067001\n",
            "Train Epoch: 2 [6400/60000 (11%)]\tTrain Loss: 0.279058\n",
            "Train Epoch: 2 [12800/60000 (21%)]\tTrain Loss: 0.316218\n",
            "Train Epoch: 2 [19200/60000 (32%)]\tTrain Loss: 0.225013\n",
            "Train Epoch: 2 [25600/60000 (43%)]\tTrain Loss: 0.127600\n",
            "Train Epoch: 2 [32000/60000 (53%)]\tTrain Loss: 0.226047\n",
            "Train Epoch: 2 [38400/60000 (64%)]\tTrain Loss: 0.455517\n",
            "Train Epoch: 2 [44800/60000 (75%)]\tTrain Loss: 0.469605\n",
            "Train Epoch: 2 [51200/60000 (85%)]\tTrain Loss: 0.264389\n",
            "Train Epoch: 2 [57600/60000 (96%)]\tTrain Loss: 0.530767\n",
            "\n",
            "[EPOCH: 2], \tTest Loss: 0.0032, \tTest Accuracy: 96.69 % \n",
            "\n",
            "Train Epoch: 3 [0/60000 (0%)]\tTrain Loss: 0.096061\n",
            "Train Epoch: 3 [6400/60000 (11%)]\tTrain Loss: 0.508060\n",
            "Train Epoch: 3 [12800/60000 (21%)]\tTrain Loss: 0.121760\n",
            "Train Epoch: 3 [19200/60000 (32%)]\tTrain Loss: 0.267951\n",
            "Train Epoch: 3 [25600/60000 (43%)]\tTrain Loss: 0.283780\n",
            "Train Epoch: 3 [32000/60000 (53%)]\tTrain Loss: 0.106143\n",
            "Train Epoch: 3 [38400/60000 (64%)]\tTrain Loss: 0.073697\n",
            "Train Epoch: 3 [44800/60000 (75%)]\tTrain Loss: 0.353202\n",
            "Train Epoch: 3 [51200/60000 (85%)]\tTrain Loss: 0.139255\n",
            "Train Epoch: 3 [57600/60000 (96%)]\tTrain Loss: 0.226941\n",
            "\n",
            "[EPOCH: 3], \tTest Loss: 0.0030, \tTest Accuracy: 96.92 % \n",
            "\n",
            "Train Epoch: 4 [0/60000 (0%)]\tTrain Loss: 0.247536\n",
            "Train Epoch: 4 [6400/60000 (11%)]\tTrain Loss: 0.153856\n",
            "Train Epoch: 4 [12800/60000 (21%)]\tTrain Loss: 0.181788\n",
            "Train Epoch: 4 [19200/60000 (32%)]\tTrain Loss: 0.286470\n",
            "Train Epoch: 4 [25600/60000 (43%)]\tTrain Loss: 0.111948\n",
            "Train Epoch: 4 [32000/60000 (53%)]\tTrain Loss: 0.163206\n",
            "Train Epoch: 4 [38400/60000 (64%)]\tTrain Loss: 0.197898\n",
            "Train Epoch: 4 [44800/60000 (75%)]\tTrain Loss: 0.065761\n",
            "Train Epoch: 4 [51200/60000 (85%)]\tTrain Loss: 0.211883\n",
            "Train Epoch: 4 [57600/60000 (96%)]\tTrain Loss: 0.342615\n",
            "\n",
            "[EPOCH: 4], \tTest Loss: 0.0026, \tTest Accuracy: 97.51 % \n",
            "\n",
            "Train Epoch: 5 [0/60000 (0%)]\tTrain Loss: 0.158134\n",
            "Train Epoch: 5 [6400/60000 (11%)]\tTrain Loss: 0.069167\n",
            "Train Epoch: 5 [12800/60000 (21%)]\tTrain Loss: 0.048364\n",
            "Train Epoch: 5 [19200/60000 (32%)]\tTrain Loss: 0.217283\n",
            "Train Epoch: 5 [25600/60000 (43%)]\tTrain Loss: 0.082393\n",
            "Train Epoch: 5 [32000/60000 (53%)]\tTrain Loss: 0.200049\n",
            "Train Epoch: 5 [38400/60000 (64%)]\tTrain Loss: 0.113088\n",
            "Train Epoch: 5 [44800/60000 (75%)]\tTrain Loss: 0.248700\n",
            "Train Epoch: 5 [51200/60000 (85%)]\tTrain Loss: 0.077328\n",
            "Train Epoch: 5 [57600/60000 (96%)]\tTrain Loss: 0.067725\n",
            "\n",
            "[EPOCH: 5], \tTest Loss: 0.0025, \tTest Accuracy: 97.57 % \n",
            "\n",
            "Train Epoch: 6 [0/60000 (0%)]\tTrain Loss: 0.256669\n",
            "Train Epoch: 6 [6400/60000 (11%)]\tTrain Loss: 0.146352\n",
            "Train Epoch: 6 [12800/60000 (21%)]\tTrain Loss: 0.109477\n",
            "Train Epoch: 6 [19200/60000 (32%)]\tTrain Loss: 0.285401\n",
            "Train Epoch: 6 [25600/60000 (43%)]\tTrain Loss: 0.090958\n",
            "Train Epoch: 6 [32000/60000 (53%)]\tTrain Loss: 0.080712\n",
            "Train Epoch: 6 [38400/60000 (64%)]\tTrain Loss: 0.092710\n",
            "Train Epoch: 6 [44800/60000 (75%)]\tTrain Loss: 0.375802\n",
            "Train Epoch: 6 [51200/60000 (85%)]\tTrain Loss: 0.275354\n",
            "Train Epoch: 6 [57600/60000 (96%)]\tTrain Loss: 0.400703\n",
            "\n",
            "[EPOCH: 6], \tTest Loss: 0.0022, \tTest Accuracy: 97.65 % \n",
            "\n",
            "Train Epoch: 7 [0/60000 (0%)]\tTrain Loss: 0.088870\n",
            "Train Epoch: 7 [6400/60000 (11%)]\tTrain Loss: 0.093887\n",
            "Train Epoch: 7 [12800/60000 (21%)]\tTrain Loss: 0.122362\n",
            "Train Epoch: 7 [19200/60000 (32%)]\tTrain Loss: 0.112155\n",
            "Train Epoch: 7 [25600/60000 (43%)]\tTrain Loss: 0.583985\n",
            "Train Epoch: 7 [32000/60000 (53%)]\tTrain Loss: 0.133150\n",
            "Train Epoch: 7 [38400/60000 (64%)]\tTrain Loss: 0.061652\n",
            "Train Epoch: 7 [44800/60000 (75%)]\tTrain Loss: 0.225240\n",
            "Train Epoch: 7 [51200/60000 (85%)]\tTrain Loss: 0.581126\n",
            "Train Epoch: 7 [57600/60000 (96%)]\tTrain Loss: 0.323770\n",
            "\n",
            "[EPOCH: 7], \tTest Loss: 0.0023, \tTest Accuracy: 97.64 % \n",
            "\n",
            "Train Epoch: 8 [0/60000 (0%)]\tTrain Loss: 0.128114\n",
            "Train Epoch: 8 [6400/60000 (11%)]\tTrain Loss: 0.307713\n",
            "Train Epoch: 8 [12800/60000 (21%)]\tTrain Loss: 0.095525\n",
            "Train Epoch: 8 [19200/60000 (32%)]\tTrain Loss: 0.185653\n",
            "Train Epoch: 8 [25600/60000 (43%)]\tTrain Loss: 0.022868\n",
            "Train Epoch: 8 [32000/60000 (53%)]\tTrain Loss: 0.840591\n",
            "Train Epoch: 8 [38400/60000 (64%)]\tTrain Loss: 0.071524\n",
            "Train Epoch: 8 [44800/60000 (75%)]\tTrain Loss: 0.447652\n",
            "Train Epoch: 8 [51200/60000 (85%)]\tTrain Loss: 0.151629\n",
            "Train Epoch: 8 [57600/60000 (96%)]\tTrain Loss: 0.039422\n",
            "\n",
            "[EPOCH: 8], \tTest Loss: 0.0024, \tTest Accuracy: 97.67 % \n",
            "\n",
            "Train Epoch: 9 [0/60000 (0%)]\tTrain Loss: 0.120460\n",
            "Train Epoch: 9 [6400/60000 (11%)]\tTrain Loss: 0.134135\n",
            "Train Epoch: 9 [12800/60000 (21%)]\tTrain Loss: 0.014207\n",
            "Train Epoch: 9 [19200/60000 (32%)]\tTrain Loss: 0.101292\n",
            "Train Epoch: 9 [25600/60000 (43%)]\tTrain Loss: 0.098128\n",
            "Train Epoch: 9 [32000/60000 (53%)]\tTrain Loss: 0.194860\n",
            "Train Epoch: 9 [38400/60000 (64%)]\tTrain Loss: 0.233097\n",
            "Train Epoch: 9 [44800/60000 (75%)]\tTrain Loss: 0.363900\n",
            "Train Epoch: 9 [51200/60000 (85%)]\tTrain Loss: 0.030514\n",
            "Train Epoch: 9 [57600/60000 (96%)]\tTrain Loss: 0.226153\n",
            "\n",
            "[EPOCH: 9], \tTest Loss: 0.0022, \tTest Accuracy: 97.93 % \n",
            "\n",
            "Train Epoch: 10 [0/60000 (0%)]\tTrain Loss: 0.318486\n",
            "Train Epoch: 10 [6400/60000 (11%)]\tTrain Loss: 0.119301\n",
            "Train Epoch: 10 [12800/60000 (21%)]\tTrain Loss: 0.047678\n",
            "Train Epoch: 10 [19200/60000 (32%)]\tTrain Loss: 0.250516\n",
            "Train Epoch: 10 [25600/60000 (43%)]\tTrain Loss: 0.007651\n",
            "Train Epoch: 10 [32000/60000 (53%)]\tTrain Loss: 0.012907\n",
            "Train Epoch: 10 [38400/60000 (64%)]\tTrain Loss: 0.053063\n",
            "Train Epoch: 10 [44800/60000 (75%)]\tTrain Loss: 0.203891\n",
            "Train Epoch: 10 [51200/60000 (85%)]\tTrain Loss: 0.212876\n",
            "Train Epoch: 10 [57600/60000 (96%)]\tTrain Loss: 0.089364\n",
            "\n",
            "[EPOCH: 10], \tTest Loss: 0.0022, \tTest Accuracy: 97.74 % \n",
            "\n"
          ]
        }
      ]
    }
  ]
}