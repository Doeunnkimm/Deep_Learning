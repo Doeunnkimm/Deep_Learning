{
 "cells": [
  {
   "cell_type": "markdown",
   "id": "72c0adb7",
   "metadata": {},
   "source": [
    "# 1. 라이브러리 불러오기"
   ]
  },
  {
   "cell_type": "code",
   "execution_count": 1,
   "id": "157f86d2",
   "metadata": {},
   "outputs": [],
   "source": [
    "import torch\n",
    "import numpy as np\n",
    "from torch import nn\n",
    "import os\n",
    "import matplotlib.pyplot as plt\n",
    "import cv2\n",
    "import copy\n",
    "from torchvision import transforms, models\n",
    "from ipywidgets import interact\n",
    "from torch.utils.data import Dataset, DataLoader"
   ]
  },
  {
   "cell_type": "markdown",
   "id": "9d050eb8",
   "metadata": {},
   "source": [
    "# 2. 이미지 파일 경로 불러오기"
   ]
  },
  {
   "cell_type": "code",
   "execution_count": 2,
   "id": "47a426c8",
   "metadata": {},
   "outputs": [],
   "source": [
    "# 코로나, 정상, 폐렴 폴더가 달라서 합쳐주는 함수\n",
    "def list_image_file(data_dir, sub_dir): \n",
    "    # 이미지 포맷 정해줌\n",
    "    image_format = ['jpeg', 'jpg', 'png']\n",
    "    images_files = [] # 불러와서 저장할 예정\n",
    "    \n",
    "    images_dir = os.path.join(data_dir, sub_dir)\n",
    "    for file_path in os.listdir(images_dir):\n",
    "        if file_path.split(\".\")[-1] in image_format: # 앞은 파일 이름, 뒤는 확장명.\n",
    "            images_files.append(os.path.join(sub_dir, file_path))\n",
    "    return images_files"
   ]
  },
  {
   "cell_type": "code",
   "execution_count": 3,
   "id": "161b1b01",
   "metadata": {},
   "outputs": [],
   "source": [
    "data_dir = './Covid19-dataset/train/'\n",
    "\n",
    "normals_list = list_image_file(data_dir, 'Normal')\n",
    "covids_list = list_image_file(data_dir, 'Covid')\n",
    "pneumonias_list = list_image_file(data_dir, 'Viral Pneumonia')"
   ]
  },
  {
   "cell_type": "code",
   "execution_count": 4,
   "id": "cfb606a8",
   "metadata": {},
   "outputs": [
    {
     "name": "stdout",
     "output_type": "stream",
     "text": [
      "70\n",
      "111\n",
      "70\n"
     ]
    }
   ],
   "source": [
    "print(len(normals_list))\n",
    "print(len(covids_list))\n",
    "print(len(pneumonias_list))"
   ]
  },
  {
   "cell_type": "markdown",
   "id": "178653fc",
   "metadata": {},
   "source": [
    "# 3. 이미지 파일을 RGB 3차원 배열로 불러오기"
   ]
  },
  {
   "cell_type": "code",
   "execution_count": 5,
   "id": "14f73734",
   "metadata": {},
   "outputs": [],
   "source": [
    "def get_RGB_image(data_dir, file_name):\n",
    "    image_file = os.path.join(data_dir, file_name) # 붙여서 경로 만들기\n",
    "    image = cv2.imread(image_file) # 경로 넣어서 파일 불러오기\n",
    "    image = cv2.cvtColor(image, cv2.COLOR_BGR2RGB)\n",
    "    return image"
   ]
  },
  {
   "cell_type": "markdown",
   "id": "0d5a6919",
   "metadata": {},
   "source": [
    "# 4. 이미지 데이터 시각화하기"
   ]
  },
  {
   "cell_type": "code",
   "execution_count": 6,
   "id": "34e25516",
   "metadata": {
    "scrolled": true
   },
   "outputs": [
    {
     "data": {
      "application/vnd.jupyter.widget-view+json": {
       "model_id": "10fda2908161490096bb0d7e58c42bac",
       "version_major": 2,
       "version_minor": 0
      },
      "text/plain": [
       "interactive(children=(IntSlider(value=0, description='index', max=69), Output()), _dom_classes=('widget-intera…"
      ]
     },
     "metadata": {},
     "output_type": "display_data"
    }
   ],
   "source": [
    "min_num_files = min(len(normals_list), len(covids_list), len(pneumonias_list))\n",
    "\n",
    "@interact(index=(0, min_num_files-1)) # 70개니까 0부터 69까지\n",
    "def show_samples(index=0):\n",
    "    normal_image = get_RGB_image(data_dir, normals_list[index])\n",
    "    covid_image = get_RGB_image(data_dir, covids_list[index])\n",
    "    pneumonia_image = get_RGB_image(data_dir, pneumonias_list[index])\n",
    "    print(data_dir)\n",
    "    plt.figure(figsize=(12, 8))\n",
    "    plt.subplot(131)\n",
    "    plt.title('Normal')\n",
    "    plt.imshow(normal_image)\n",
    "    plt.subplot(132)\n",
    "    plt.title('Covid')\n",
    "    plt.imshow(covid_image)\n",
    "    plt.subplot(133)\n",
    "    plt.title('Pneumonia')\n",
    "    plt.imshow(pneumonia_image)\n",
    "    plt.tight_layout()"
   ]
  },
  {
   "cell_type": "markdown",
   "id": "ef349335",
   "metadata": {},
   "source": [
    "# 5. 학습 데이터셋 클래스 만들기"
   ]
  },
  {
   "cell_type": "code",
   "execution_count": 7,
   "id": "b2a6b7ca",
   "metadata": {},
   "outputs": [],
   "source": [
    "train_data_dir = './Covid19-dataset/train/'\n",
    "class_list = ['Covid', 'Normal', 'Viral Pneumonia']"
   ]
  },
  {
   "cell_type": "code",
   "execution_count": 8,
   "id": "f1ca2845",
   "metadata": {},
   "outputs": [],
   "source": [
    "# 데이터를 효율적으로 모델에게 전달하기 위해(예:배치사이즈) 데이터셋과 데이터로더 만듦\n",
    "class Chest_dataset(Dataset):\n",
    "    def __init__(self, data_dir, transform=None):\n",
    "        self.data_dir = data_dir\n",
    "        normals = list_image_file(data_dir, 'Normal')\n",
    "        covids = list_image_file(data_dir, 'Covid')\n",
    "        pneumonias = list_image_file(data_dir, 'Viral Pneumonia')\n",
    "        self.files_path = normals + covids + pneumonias # 리스트들을 합쳐줌\n",
    "        self.transform = transform\n",
    "        \n",
    "    def __len__(self):\n",
    "        return len(self.files_path)\n",
    "        \n",
    "    def __getitem__(self, index):\n",
    "        image_file = os.path.join(self.data_dir, self.files_path[index])\n",
    "        image = cv2.imread(image_file)\n",
    "        image = cv2.cvtColor(image, cv2.COLOR_BGR2RGB)\n",
    "        target = class_list.index(self.files_path[index].split(os.sep)[-2]) # 행렬에서 정답을 가져옴\n",
    "        target = class_list.index(self.files_path[index].split(os.sep)[0])\n",
    "        \n",
    "        if self.transform:\n",
    "            image = self.transform(image)\n",
    "            target = torch.Tensor([target]).long()\n",
    "            \n",
    "        return {'image':image, 'target':target}"
   ]
  },
  {
   "cell_type": "code",
   "execution_count": 9,
   "id": "8861c625",
   "metadata": {},
   "outputs": [],
   "source": [
    "dset = Chest_dataset(train_data_dir)"
   ]
  },
  {
   "cell_type": "code",
   "execution_count": 10,
   "id": "78da5a94",
   "metadata": {},
   "outputs": [
    {
     "data": {
      "text/plain": [
       "<matplotlib.image.AxesImage at 0x2a40030e7b8>"
      ]
     },
     "execution_count": 10,
     "metadata": {},
     "output_type": "execute_result"
    },
    {
     "data": {
      "image/png": "[encoded data removed]",
      "text/plain": [
       "<Figure size 640x480 with 1 Axes>"
      ]
     },
     "metadata": {},
     "output_type": "display_data"
    }
   ],
   "source": [
    "index = 100\n",
    "plt.title(class_list[dset[index]['target']])\n",
    "plt.imshow(dset[index]['image'])"
   ]
  },
  {
   "cell_type": "markdown",
   "id": "5f183ca1",
   "metadata": {},
   "source": [
    "# 6. 배열을연산가능한 텐서로 변환하기"
   ]
  },
  {
   "cell_type": "code",
   "execution_count": 11,
   "id": "59e489b1",
   "metadata": {},
   "outputs": [],
   "source": [
    "# Compose() : 한꺼번에 여러 개를 어떤 거에 적용하기 위한 함수\n",
    "transformer = transforms.Compose([\n",
    "    transforms.ToTensor(),\n",
    "    transforms.Resize((224, 224)), # # 이후 사용할 모델의 입력값 크기에 맞춰서\n",
    "    transforms.Normalize(mean=[0.5, 0.5, 0.5],\n",
    "                        std=[0.5, 0.5, 0.5]) # RGB를 0과 1사이로 만들어줌\n",
    "])"
   ]
  },
  {
   "cell_type": "code",
   "execution_count": 12,
   "id": "d2c4467b",
   "metadata": {},
   "outputs": [],
   "source": [
    "train_dset = Chest_dataset(train_data_dir, transformer)"
   ]
  },
  {
   "cell_type": "code",
   "execution_count": 13,
   "id": "4df66b59",
   "metadata": {},
   "outputs": [],
   "source": [
    "index = 200\n",
    "image = train_dset[index]['image']\n",
    "label = train_dset[index]['target']"
   ]
  },
  {
   "cell_type": "code",
   "execution_count": 14,
   "id": "b6cb5297",
   "metadata": {},
   "outputs": [
    {
     "name": "stdout",
     "output_type": "stream",
     "text": [
      "torch.Size([3, 224, 224]) tensor([2])\n"
     ]
    }
   ],
   "source": [
    "print(image.shape, label)"
   ]
  },
  {
   "cell_type": "markdown",
   "id": "48450b49",
   "metadata": {},
   "source": [
    "# 7. 데이터로더 구현하기"
   ]
  },
  {
   "cell_type": "code",
   "execution_count": 15,
   "id": "ecff072d",
   "metadata": {},
   "outputs": [],
   "source": [
    "def build_dataloader(train_data_dir, val_data_dir):\n",
    "    dataloaders = {}\n",
    "    train_dset = Chest_dataset(train_data_dir, transformer)\n",
    "    dataloaders['train'] = DataLoader(train_dset, batch_size=4, shuffle=True, drop_last=True)\n",
    "    \n",
    "    val_dset = Chest_dataset(val_data_dir, transformer)\n",
    "    dataloaders['val'] = DataLoader(val_dset, batch_size=1, shuffle=False, drop_last=False)\n",
    "    return dataloaders"
   ]
  },
  {
   "cell_type": "code",
   "execution_count": 16,
   "id": "d7fecdec",
   "metadata": {},
   "outputs": [],
   "source": [
    "train_data_dir = './Covid19-dataset/train/'\n",
    "val_data_dir = './Covid19-dataset/test/'\n",
    "dataloaders = build_dataloader(train_data_dir, val_data_dir)"
   ]
  },
  {
   "cell_type": "code",
   "execution_count": 17,
   "id": "c600c2a5",
   "metadata": {},
   "outputs": [
    {
     "name": "stdout",
     "output_type": "stream",
     "text": [
      "0 {'image': tensor([[[[-0.9686, -0.9759, -0.9618,  ...,  0.9922,  0.9989,  1.0000],\n",
      "          [-0.9529, -0.9608, -0.9529,  ...,  0.9922,  1.0000,  1.0000],\n",
      "          [-0.9529, -0.9554, -0.9608,  ...,  0.9922,  1.0000,  1.0000],\n",
      "          ...,\n",
      "          [-1.0000, -1.0000, -1.0000,  ...,  0.7564,  0.8926,  0.9071],\n",
      "          [-1.0000, -1.0000, -1.0000,  ...,  0.8476,  0.7229,  0.8678],\n",
      "          [-1.0000, -1.0000, -1.0000,  ...,  0.9309,  0.8577,  0.8086]],\n",
      "\n",
      "         [[-0.9686, -0.9759, -0.9618,  ...,  0.9922,  0.9989,  1.0000],\n",
      "          [-0.9529, -0.9608, -0.9529,  ...,  0.9922,  1.0000,  1.0000],\n",
      "          [-0.9529, -0.9554, -0.9608,  ...,  0.9922,  1.0000,  1.0000],\n",
      "          ...,\n",
      "          [-1.0000, -1.0000, -1.0000,  ...,  0.7564,  0.8926,  0.9071],\n",
      "          [-1.0000, -1.0000, -1.0000,  ...,  0.8476,  0.7229,  0.8678],\n",
      "          [-1.0000, -1.0000, -1.0000,  ...,  0.9309,  0.8577,  0.8086]],\n",
      "\n",
      "         [[-0.9686, -0.9759, -0.9618,  ...,  0.9922,  0.9989,  1.0000],\n",
      "          [-0.9529, -0.9608, -0.9529,  ...,  0.9922,  1.0000,  1.0000],\n",
      "          [-0.9529, -0.9554, -0.9608,  ...,  0.9922,  1.0000,  1.0000],\n",
      "          ...,\n",
      "          [-1.0000, -1.0000, -1.0000,  ...,  0.7564,  0.8926,  0.9071],\n",
      "          [-1.0000, -1.0000, -1.0000,  ...,  0.8476,  0.7229,  0.8678],\n",
      "          [-1.0000, -1.0000, -1.0000,  ...,  0.9309,  0.8577,  0.8086]]],\n",
      "\n",
      "\n",
      "        [[[-0.8902, -0.8902, -0.8902,  ..., -0.8902, -0.8902, -0.8902],\n",
      "          [-0.8902, -0.8902, -0.8902,  ..., -0.8902, -0.8902, -0.8902],\n",
      "          [-0.8902, -0.8902, -0.8902,  ..., -0.8902, -0.8902, -0.8902],\n",
      "          ...,\n",
      "          [-0.8902, -0.8902, -0.8902,  ..., -0.8902, -0.8902, -0.8902],\n",
      "          [-0.8902, -0.8902, -0.8902,  ..., -0.8902, -0.8902, -0.8902],\n",
      "          [-0.8902, -0.8902, -0.8902,  ..., -0.8902, -0.8902, -0.8902]],\n",
      "\n",
      "         [[-0.8902, -0.8902, -0.8902,  ..., -0.8902, -0.8902, -0.8902],\n",
      "          [-0.8902, -0.8902, -0.8902,  ..., -0.8902, -0.8902, -0.8902],\n",
      "          [-0.8902, -0.8902, -0.8902,  ..., -0.8902, -0.8902, -0.8902],\n",
      "          ...,\n",
      "          [-0.8902, -0.8902, -0.8902,  ..., -0.8902, -0.8902, -0.8902],\n",
      "          [-0.8902, -0.8902, -0.8902,  ..., -0.8902, -0.8902, -0.8902],\n",
      "          [-0.8902, -0.8902, -0.8902,  ..., -0.8902, -0.8902, -0.8902]],\n",
      "\n",
      "         [[-0.8902, -0.8902, -0.8902,  ..., -0.8902, -0.8902, -0.8902],\n",
      "          [-0.8902, -0.8902, -0.8902,  ..., -0.8902, -0.8902, -0.8902],\n",
      "          [-0.8902, -0.8902, -0.8902,  ..., -0.8902, -0.8902, -0.8902],\n",
      "          ...,\n",
      "          [-0.8902, -0.8902, -0.8902,  ..., -0.8902, -0.8902, -0.8902],\n",
      "          [-0.8902, -0.8902, -0.8902,  ..., -0.8902, -0.8902, -0.8902],\n",
      "          [-0.8902, -0.8902, -0.8902,  ..., -0.8902, -0.8902, -0.8902]]],\n",
      "\n",
      "\n",
      "        [[[-0.8826, -0.8374, -0.8631,  ..., -0.8020, -0.7822, -0.7882],\n",
      "          [-0.8944, -0.8844, -0.9067,  ..., -0.7940, -0.8109, -0.7997],\n",
      "          [-0.8225, -0.9010, -0.9095,  ..., -0.8258, -0.7757, -0.7922],\n",
      "          ...,\n",
      "          [-0.8485, -0.8902, -0.8909,  ..., -0.7725, -0.7453, -0.7780],\n",
      "          [-0.8642, -0.9008, -0.9097,  ..., -0.7713, -0.7897, -0.7569],\n",
      "          [-0.8863, -0.9132, -0.8963,  ..., -0.7774, -0.7604, -0.7384]],\n",
      "\n",
      "         [[-0.8826, -0.8374, -0.8631,  ..., -0.8020, -0.7822, -0.7882],\n",
      "          [-0.8944, -0.8844, -0.9067,  ..., -0.7940, -0.8109, -0.7997],\n",
      "          [-0.8225, -0.9010, -0.9095,  ..., -0.8258, -0.7757, -0.7922],\n",
      "          ...,\n",
      "          [-0.8485, -0.8902, -0.8909,  ..., -0.7725, -0.7453, -0.7780],\n",
      "          [-0.8642, -0.9008, -0.9097,  ..., -0.7713, -0.7897, -0.7569],\n",
      "          [-0.8863, -0.9132, -0.8963,  ..., -0.7774, -0.7604, -0.7384]],\n",
      "\n",
      "         [[-0.8826, -0.8374, -0.8631,  ..., -0.8020, -0.7822, -0.7882],\n",
      "          [-0.8944, -0.8844, -0.9067,  ..., -0.7940, -0.8109, -0.7997],\n",
      "          [-0.8225, -0.9010, -0.9095,  ..., -0.8258, -0.7757, -0.7922],\n",
      "          ...,\n",
      "          [-0.8485, -0.8902, -0.8909,  ..., -0.7725, -0.7453, -0.7780],\n",
      "          [-0.8642, -0.9008, -0.9097,  ..., -0.7713, -0.7897, -0.7569],\n",
      "          [-0.8863, -0.9132, -0.8963,  ..., -0.7774, -0.7604, -0.7384]]],\n",
      "\n",
      "\n",
      "        [[[-0.5189, -0.5431, -0.5126,  ...,  0.9880, -0.9370, -0.9115],\n",
      "          [-0.6902, -0.6732, -0.6734,  ..., -0.9116,  0.1379, -0.9497],\n",
      "          [-0.6745, -0.6796, -0.6734,  ..., -0.9188, -0.8106, -0.8681],\n",
      "          ...,\n",
      "          [-0.9923, -0.9955, -1.0000,  ..., -1.0000, -1.0000, -1.0000],\n",
      "          [-0.9619,  0.0067,  0.9732,  ..., -1.0000, -0.9765, -0.9882],\n",
      "          [ 0.2605,  0.9916, -0.9529,  ..., -1.0000, -0.9609,  0.2557]],\n",
      "\n",
      "         [[-0.5189, -0.5431, -0.5126,  ...,  0.9880, -0.9370, -0.9115],\n",
      "          [-0.6902, -0.6732, -0.6734,  ..., -0.9116,  0.1379, -0.9497],\n",
      "          [-0.6745, -0.6796, -0.6734,  ..., -0.9188, -0.8106, -0.8681],\n",
      "          ...,\n",
      "          [-0.9923, -0.9955, -1.0000,  ..., -1.0000, -1.0000, -1.0000],\n",
      "          [-0.9619,  0.0067,  0.9732,  ..., -1.0000, -0.9765, -0.9882],\n",
      "          [ 0.2605,  0.9916, -0.9529,  ..., -1.0000, -0.9609,  0.2557]],\n",
      "\n",
      "         [[-0.5189, -0.5431, -0.5126,  ...,  0.9880, -0.9370, -0.9115],\n",
      "          [-0.6902, -0.6732, -0.6734,  ..., -0.9116,  0.1379, -0.9497],\n",
      "          [-0.6745, -0.6796, -0.6734,  ..., -0.9188, -0.8106, -0.8681],\n",
      "          ...,\n",
      "          [-0.9923, -0.9955, -1.0000,  ..., -1.0000, -1.0000, -1.0000],\n",
      "          [-0.9619,  0.0067,  0.9732,  ..., -1.0000, -0.9765, -0.9882],\n",
      "          [ 0.2605,  0.9916, -0.9529,  ..., -1.0000, -0.9609,  0.2557]]]]), 'target': tensor([[1],\n",
      "        [0],\n",
      "        [1],\n",
      "        [2]])}\n"
     ]
    }
   ],
   "source": [
    "for i, d in enumerate(dataloaders['train']):\n",
    "    print(i,d)\n",
    "    if i == 0:\n",
    "        break"
   ]
  },
  {
   "cell_type": "code",
   "execution_count": 18,
   "id": "e0118c3b",
   "metadata": {},
   "outputs": [
    {
     "data": {
      "text/plain": [
       "torch.Size([4, 1])"
      ]
     },
     "execution_count": 18,
     "metadata": {},
     "output_type": "execute_result"
    }
   ],
   "source": [
    "d['target'].shape"
   ]
  },
  {
   "cell_type": "code",
   "execution_count": 19,
   "id": "41b94b56",
   "metadata": {},
   "outputs": [
    {
     "data": {
      "text/plain": [
       "tensor([1, 0, 1, 2])"
      ]
     },
     "execution_count": 19,
     "metadata": {},
     "output_type": "execute_result"
    }
   ],
   "source": [
    "d['target'].squeeze()"
   ]
  },
  {
   "cell_type": "markdown",
   "id": "21316581",
   "metadata": {},
   "source": [
    "# 8. Classification 모델(VGG19) 불러오기"
   ]
  },
  {
   "cell_type": "code",
   "execution_count": 20,
   "id": "3090d6d9",
   "metadata": {
    "scrolled": true
   },
   "outputs": [
    {
     "name": "stderr",
     "output_type": "stream",
     "text": [
      "C:\\Users\\82103\\AppData\\Local\\Programs\\Python\\Python37\\lib\\site-packages\\torchvision\\models\\_utils.py:209: UserWarning: The parameter 'pretrained' is deprecated since 0.13 and will be removed in 0.15, please use 'weights' instead.\n",
      "  f\"The parameter '{pretrained_param}' is deprecated since 0.13 and will be removed in 0.15, \"\n",
      "C:\\Users\\82103\\AppData\\Local\\Programs\\Python\\Python37\\lib\\site-packages\\torchvision\\models\\_utils.py:223: UserWarning: Arguments other than a weight enum or `None` for 'weights' are deprecated since 0.13 and will be removed in 0.15. The current behavior is equivalent to passing `weights=VGG19_Weights.IMAGENET1K_V1`. You can also use `weights=VGG19_Weights.DEFAULT` to get the most up-to-date weights.\n",
      "  warnings.warn(msg)\n"
     ]
    }
   ],
   "source": [
    "model = models.vgg19(pretrained=True)"
   ]
  },
  {
   "cell_type": "code",
   "execution_count": 21,
   "id": "1b1aa6be",
   "metadata": {},
   "outputs": [],
   "source": [
    "from torchsummary import summary"
   ]
  },
  {
   "cell_type": "code",
   "execution_count": 22,
   "id": "7ea8f6ed",
   "metadata": {},
   "outputs": [
    {
     "name": "stdout",
     "output_type": "stream",
     "text": [
      "----------------------------------------------------------------\n",
      "        Layer (type)               Output Shape         Param #\n",
      "================================================================\n",
      "            Conv2d-1          [1, 64, 244, 244]           1,792\n",
      "              ReLU-2          [1, 64, 244, 244]               0\n",
      "            Conv2d-3          [1, 64, 244, 244]          36,928\n",
      "              ReLU-4          [1, 64, 244, 244]               0\n",
      "         MaxPool2d-5          [1, 64, 122, 122]               0\n",
      "            Conv2d-6         [1, 128, 122, 122]          73,856\n",
      "              ReLU-7         [1, 128, 122, 122]               0\n",
      "            Conv2d-8         [1, 128, 122, 122]         147,584\n",
      "              ReLU-9         [1, 128, 122, 122]               0\n",
      "        MaxPool2d-10           [1, 128, 61, 61]               0\n",
      "           Conv2d-11           [1, 256, 61, 61]         295,168\n",
      "             ReLU-12           [1, 256, 61, 61]               0\n",
      "           Conv2d-13           [1, 256, 61, 61]         590,080\n",
      "             ReLU-14           [1, 256, 61, 61]               0\n",
      "           Conv2d-15           [1, 256, 61, 61]         590,080\n",
      "             ReLU-16           [1, 256, 61, 61]               0\n",
      "           Conv2d-17           [1, 256, 61, 61]         590,080\n",
      "             ReLU-18           [1, 256, 61, 61]               0\n",
      "        MaxPool2d-19           [1, 256, 30, 30]               0\n",
      "           Conv2d-20           [1, 512, 30, 30]       1,180,160\n",
      "             ReLU-21           [1, 512, 30, 30]               0\n",
      "           Conv2d-22           [1, 512, 30, 30]       2,359,808\n",
      "             ReLU-23           [1, 512, 30, 30]               0\n",
      "           Conv2d-24           [1, 512, 30, 30]       2,359,808\n",
      "             ReLU-25           [1, 512, 30, 30]               0\n",
      "           Conv2d-26           [1, 512, 30, 30]       2,359,808\n",
      "             ReLU-27           [1, 512, 30, 30]               0\n",
      "        MaxPool2d-28           [1, 512, 15, 15]               0\n",
      "           Conv2d-29           [1, 512, 15, 15]       2,359,808\n",
      "             ReLU-30           [1, 512, 15, 15]               0\n",
      "           Conv2d-31           [1, 512, 15, 15]       2,359,808\n",
      "             ReLU-32           [1, 512, 15, 15]               0\n",
      "           Conv2d-33           [1, 512, 15, 15]       2,359,808\n",
      "             ReLU-34           [1, 512, 15, 15]               0\n",
      "           Conv2d-35           [1, 512, 15, 15]       2,359,808\n",
      "             ReLU-36           [1, 512, 15, 15]               0\n",
      "        MaxPool2d-37             [1, 512, 7, 7]               0\n",
      "AdaptiveAvgPool2d-38             [1, 512, 7, 7]               0\n",
      "           Linear-39                  [1, 4096]     102,764,544\n",
      "             ReLU-40                  [1, 4096]               0\n",
      "          Dropout-41                  [1, 4096]               0\n",
      "           Linear-42                  [1, 4096]      16,781,312\n",
      "             ReLU-43                  [1, 4096]               0\n",
      "          Dropout-44                  [1, 4096]               0\n",
      "           Linear-45                  [1, 1000]       4,097,000\n",
      "================================================================\n",
      "Total params: 143,667,240\n",
      "Trainable params: 143,667,240\n",
      "Non-trainable params: 0\n",
      "----------------------------------------------------------------\n",
      "Input size (MB): 0.68\n",
      "Forward/backward pass size (MB): 281.83\n",
      "Params size (MB): 548.05\n",
      "Estimated Total Size (MB): 830.56\n",
      "----------------------------------------------------------------\n"
     ]
    }
   ],
   "source": [
    "summary(model, (3, 244, 244), batch_size=1, device='cpu') # 데이터를 넣었을 때 모델이 어떻게 되는지를 보는 것"
   ]
  },
  {
   "cell_type": "code",
   "execution_count": 23,
   "id": "c39128a0",
   "metadata": {},
   "outputs": [
    {
     "data": {
      "text/plain": [
       "VGG(\n",
       "  (features): Sequential(\n",
       "    (0): Conv2d(3, 64, kernel_size=(3, 3), stride=(1, 1), padding=(1, 1))\n",
       "    (1): ReLU(inplace=True)\n",
       "    (2): Conv2d(64, 64, kernel_size=(3, 3), stride=(1, 1), padding=(1, 1))\n",
       "    (3): ReLU(inplace=True)\n",
       "    (4): MaxPool2d(kernel_size=2, stride=2, padding=0, dilation=1, ceil_mode=False)\n",
       "    (5): Conv2d(64, 128, kernel_size=(3, 3), stride=(1, 1), padding=(1, 1))\n",
       "    (6): ReLU(inplace=True)\n",
       "    (7): Conv2d(128, 128, kernel_size=(3, 3), stride=(1, 1), padding=(1, 1))\n",
       "    (8): ReLU(inplace=True)\n",
       "    (9): MaxPool2d(kernel_size=2, stride=2, padding=0, dilation=1, ceil_mode=False)\n",
       "    (10): Conv2d(128, 256, kernel_size=(3, 3), stride=(1, 1), padding=(1, 1))\n",
       "    (11): ReLU(inplace=True)\n",
       "    (12): Conv2d(256, 256, kernel_size=(3, 3), stride=(1, 1), padding=(1, 1))\n",
       "    (13): ReLU(inplace=True)\n",
       "    (14): Conv2d(256, 256, kernel_size=(3, 3), stride=(1, 1), padding=(1, 1))\n",
       "    (15): ReLU(inplace=True)\n",
       "    (16): Conv2d(256, 256, kernel_size=(3, 3), stride=(1, 1), padding=(1, 1))\n",
       "    (17): ReLU(inplace=True)\n",
       "    (18): MaxPool2d(kernel_size=2, stride=2, padding=0, dilation=1, ceil_mode=False)\n",
       "    (19): Conv2d(256, 512, kernel_size=(3, 3), stride=(1, 1), padding=(1, 1))\n",
       "    (20): ReLU(inplace=True)\n",
       "    (21): Conv2d(512, 512, kernel_size=(3, 3), stride=(1, 1), padding=(1, 1))\n",
       "    (22): ReLU(inplace=True)\n",
       "    (23): Conv2d(512, 512, kernel_size=(3, 3), stride=(1, 1), padding=(1, 1))\n",
       "    (24): ReLU(inplace=True)\n",
       "    (25): Conv2d(512, 512, kernel_size=(3, 3), stride=(1, 1), padding=(1, 1))\n",
       "    (26): ReLU(inplace=True)\n",
       "    (27): MaxPool2d(kernel_size=2, stride=2, padding=0, dilation=1, ceil_mode=False)\n",
       "    (28): Conv2d(512, 512, kernel_size=(3, 3), stride=(1, 1), padding=(1, 1))\n",
       "    (29): ReLU(inplace=True)\n",
       "    (30): Conv2d(512, 512, kernel_size=(3, 3), stride=(1, 1), padding=(1, 1))\n",
       "    (31): ReLU(inplace=True)\n",
       "    (32): Conv2d(512, 512, kernel_size=(3, 3), stride=(1, 1), padding=(1, 1))\n",
       "    (33): ReLU(inplace=True)\n",
       "    (34): Conv2d(512, 512, kernel_size=(3, 3), stride=(1, 1), padding=(1, 1))\n",
       "    (35): ReLU(inplace=True)\n",
       "    (36): MaxPool2d(kernel_size=2, stride=2, padding=0, dilation=1, ceil_mode=False)\n",
       "  )\n",
       "  (avgpool): AdaptiveAvgPool2d(output_size=(7, 7))\n",
       "  (classifier): Sequential(\n",
       "    (0): Linear(in_features=25088, out_features=4096, bias=True)\n",
       "    (1): ReLU(inplace=True)\n",
       "    (2): Dropout(p=0.5, inplace=False)\n",
       "    (3): Linear(in_features=4096, out_features=4096, bias=True)\n",
       "    (4): ReLU(inplace=True)\n",
       "    (5): Dropout(p=0.5, inplace=False)\n",
       "    (6): Linear(in_features=4096, out_features=1000, bias=True)\n",
       "  )\n",
       ")"
      ]
     },
     "execution_count": 23,
     "metadata": {},
     "output_type": "execute_result"
    }
   ],
   "source": [
    "model # 모델에 대해 print 가능"
   ]
  },
  {
   "cell_type": "markdown",
   "id": "b2ca6820",
   "metadata": {},
   "source": [
    "# 9. 데이터에 맞게 모델 Head 부분을 수정하기"
   ]
  },
  {
   "cell_type": "code",
   "execution_count": 24,
   "id": "a4f2cec1",
   "metadata": {},
   "outputs": [],
   "source": [
    "model.avgpool = nn.AdaptiveAvgPool2d(output_size=(1,1))\n",
    "model.classifier = nn.Sequential(\n",
    "    nn.Flatten(),\n",
    "    nn.Linear(512, 256),\n",
    "    nn.ReLU(),\n",
    "    nn.Dropout(0.1),\n",
    "    nn.Linear(256, len(class_list)),\n",
    "    nn.Sigmoid()\n",
    ")"
   ]
  },
  {
   "cell_type": "code",
   "execution_count": 25,
   "id": "bb919bc4",
   "metadata": {},
   "outputs": [],
   "source": [
    "def build_vgg19_based_model(device_name='cpu'):\n",
    "    device = torch.device(device_name)\n",
    "    model = models.vgg19(pretrained=True)\n",
    "    model.avgpool = nn.AdaptiveAvgPool2d(output_size=(1,1))\n",
    "    model.classifier = nn.Sequential(\n",
    "        nn.Flatten(),\n",
    "        nn.Linear(512, 256),\n",
    "        nn.ReLU(),\n",
    "        nn.Linear(256, len(class_list)),\n",
    "        nn.Softmax(dim=1) # 결과를 하나로\n",
    "    )\n",
    "    return model.to(device)"
   ]
  },
  {
   "cell_type": "code",
   "execution_count": 26,
   "id": "c6ab913f",
   "metadata": {},
   "outputs": [],
   "source": [
    "model = build_vgg19_based_model(device_name='cpu')"
   ]
  },
  {
   "cell_type": "code",
   "execution_count": 27,
   "id": "11d4c32d",
   "metadata": {},
   "outputs": [
    {
     "name": "stdout",
     "output_type": "stream",
     "text": [
      "----------------------------------------------------------------\n",
      "        Layer (type)               Output Shape         Param #\n",
      "================================================================\n",
      "            Conv2d-1          [1, 64, 244, 244]           1,792\n",
      "              ReLU-2          [1, 64, 244, 244]               0\n",
      "            Conv2d-3          [1, 64, 244, 244]          36,928\n",
      "              ReLU-4          [1, 64, 244, 244]               0\n",
      "         MaxPool2d-5          [1, 64, 122, 122]               0\n",
      "            Conv2d-6         [1, 128, 122, 122]          73,856\n",
      "              ReLU-7         [1, 128, 122, 122]               0\n",
      "            Conv2d-8         [1, 128, 122, 122]         147,584\n",
      "              ReLU-9         [1, 128, 122, 122]               0\n",
      "        MaxPool2d-10           [1, 128, 61, 61]               0\n",
      "           Conv2d-11           [1, 256, 61, 61]         295,168\n",
      "             ReLU-12           [1, 256, 61, 61]               0\n",
      "           Conv2d-13           [1, 256, 61, 61]         590,080\n",
      "             ReLU-14           [1, 256, 61, 61]               0\n",
      "           Conv2d-15           [1, 256, 61, 61]         590,080\n",
      "             ReLU-16           [1, 256, 61, 61]               0\n",
      "           Conv2d-17           [1, 256, 61, 61]         590,080\n",
      "             ReLU-18           [1, 256, 61, 61]               0\n",
      "        MaxPool2d-19           [1, 256, 30, 30]               0\n",
      "           Conv2d-20           [1, 512, 30, 30]       1,180,160\n",
      "             ReLU-21           [1, 512, 30, 30]               0\n",
      "           Conv2d-22           [1, 512, 30, 30]       2,359,808\n",
      "             ReLU-23           [1, 512, 30, 30]               0\n",
      "           Conv2d-24           [1, 512, 30, 30]       2,359,808\n",
      "             ReLU-25           [1, 512, 30, 30]               0\n",
      "           Conv2d-26           [1, 512, 30, 30]       2,359,808\n",
      "             ReLU-27           [1, 512, 30, 30]               0\n",
      "        MaxPool2d-28           [1, 512, 15, 15]               0\n",
      "           Conv2d-29           [1, 512, 15, 15]       2,359,808\n",
      "             ReLU-30           [1, 512, 15, 15]               0\n",
      "           Conv2d-31           [1, 512, 15, 15]       2,359,808\n",
      "             ReLU-32           [1, 512, 15, 15]               0\n",
      "           Conv2d-33           [1, 512, 15, 15]       2,359,808\n",
      "             ReLU-34           [1, 512, 15, 15]               0\n",
      "           Conv2d-35           [1, 512, 15, 15]       2,359,808\n",
      "             ReLU-36           [1, 512, 15, 15]               0\n",
      "        MaxPool2d-37             [1, 512, 7, 7]               0\n",
      "AdaptiveAvgPool2d-38             [1, 512, 1, 1]               0\n",
      "          Flatten-39                   [1, 512]               0\n",
      "           Linear-40                   [1, 256]         131,328\n",
      "             ReLU-41                   [1, 256]               0\n",
      "           Linear-42                     [1, 3]             771\n",
      "          Softmax-43                     [1, 3]               0\n",
      "================================================================\n",
      "Total params: 20,156,483\n",
      "Trainable params: 20,156,483\n",
      "Non-trainable params: 0\n",
      "----------------------------------------------------------------\n",
      "Input size (MB): 0.68\n",
      "Forward/backward pass size (MB): 281.46\n",
      "Params size (MB): 76.89\n",
      "Estimated Total Size (MB): 359.03\n",
      "----------------------------------------------------------------\n"
     ]
    }
   ],
   "source": [
    "summary(model, (3, 244, 244), batch_size=1, device='cpu')"
   ]
  },
  {
   "cell_type": "markdown",
   "id": "e22d4fc3",
   "metadata": {},
   "source": [
    "# 10. 손실함수 불러오기"
   ]
  },
  {
   "cell_type": "code",
   "execution_count": 28,
   "id": "6b9d4c55",
   "metadata": {},
   "outputs": [],
   "source": [
    "# 크로스엔트로피는 분류에 쓰임.\n",
    "# mean으로 해서 \n",
    "loss_func = nn.CrossEntropyLoss(reduction='mean')"
   ]
  },
  {
   "cell_type": "markdown",
   "id": "1e019cd4",
   "metadata": {},
   "source": [
    "# 11. Gradient 최적화 함수 불러오기"
   ]
  },
  {
   "cell_type": "code",
   "execution_count": 29,
   "id": "ffa87ed6",
   "metadata": {},
   "outputs": [],
   "source": [
    "# momentum : 가속을 붙임. 경사가 급한 곳에서는 급하게.\n",
    "# 필요한 곳에서는 빠르게, 섬세하게 진행 가능\n",
    "optimizer = torch.optim.SGD(model.parameters(), lr=1e-3, momentum=0.9)"
   ]
  },
  {
   "cell_type": "markdown",
   "id": "f4d8b825",
   "metadata": {},
   "source": [
    "# 12. 모델 검증을 위한 Accuracy 생성하기"
   ]
  },
  {
   "cell_type": "code",
   "execution_count": 30,
   "id": "b952b512",
   "metadata": {},
   "outputs": [],
   "source": [
    "# 가중치를 업데이트할 때 굉장히 리소스를 많이 필요함\n",
    "# 지금은 검증을 위한 함수이므로, 학습을 위한 것들은 꺼줌\n",
    "@torch.no_grad()\n",
    "def get_accuracy(image, target, model):\n",
    "    batch_size = image.shape[0]\n",
    "    prediction = model(image)\n",
    "    _, pred_label = torch.max(prediction, dim=1) # 가장 확률이 놓은 걸 출력\n",
    "    is_correct = (pred_label == target) # 같으면 true\n",
    "    return is_correct.cpu().numpy().sum() / batch_size # 배치 사이즈 당 몇 개나 맞췄는지"
   ]
  },
  {
   "cell_type": "markdown",
   "id": "3181377f",
   "metadata": {},
   "source": [
    "# 13. 모델 학습을 위한 함수 구현하기"
   ]
  },
  {
   "cell_type": "code",
   "execution_count": 31,
   "id": "073601a8",
   "metadata": {},
   "outputs": [],
   "source": [
    "device = torch.device('cpu')"
   ]
  },
  {
   "cell_type": "code",
   "execution_count": 32,
   "id": "1260ae53",
   "metadata": {},
   "outputs": [],
   "source": [
    "# 학습과 검증을 동시에 진행\n",
    "def train_one_epoch(dataloaders, model, optimizer, loss_func, device):\n",
    "    losses = {}\n",
    "    accuracies = {}\n",
    "    \n",
    "    for tv in ['train', 'val']: # train일 때 한번, val일 때 한번 돌게 됨\n",
    "        running_loss = 0.0\n",
    "        running_correct = 0.0\n",
    "        \n",
    "        if tv == 'train':\n",
    "            model.train()\n",
    "        else:\n",
    "            model.eval() # off\n",
    "            \n",
    "        for index, batch in enumerate(dataloaders[tv]): # train일때는 train의 dataloader만 뽑아서 진행\n",
    "            image = batch['image'].to(device)\n",
    "            target = batch['target'].squeeze(dim=1).to(device)\n",
    "            \n",
    "            # grad를 세팅. train일 때는 필요하고, val일때는 필요없음\n",
    "            with torch.set_grad_enabled(tv == 'train'): # train일때는 켜줌\n",
    "                prediction = model(image)\n",
    "                loss = loss_func(prediction, target)\n",
    "                \n",
    "                if tv == 'train':\n",
    "                    # 학습\n",
    "                    optimizer.zero_grad()\n",
    "                    loss.backward()\n",
    "                    optimizer.step() # 가중치 업데이트\n",
    "                    \n",
    "            running_loss += loss.item()\n",
    "            running_correct += get_accuracy(image, target, model)\n",
    "            \n",
    "            if tv == 'train':\n",
    "                if index % 10 == 0:\n",
    "                    print(f\"{index}/{len(dataloaders['train'])} - Running loss: {loss.item()}\")\n",
    "\n",
    "        losses[tv] = running_loss / len(dataloaders[tv])\n",
    "        accuracies[tv] = running_correct / len(dataloaders[tv])\n",
    "    \n",
    "    return losses, accuracies "
   ]
  },
  {
   "cell_type": "code",
   "execution_count": 33,
   "id": "4b7bd6cc",
   "metadata": {},
   "outputs": [],
   "source": [
    "def save_best_model(model_state, model_name, save_dir='./trained_model'):\n",
    "    os.makedirs(save_dir, exist_ok=True) # 존재하지 않으면 새로 만들고, 존재하면 덮어쓴다\n",
    "    torch.save(model_state, os.path.join(save_dir, model_name))"
   ]
  },
  {
   "cell_type": "markdown",
   "id": "4edab801",
   "metadata": {},
   "source": [
    "# 14. 모델 학습 수행하기"
   ]
  },
  {
   "cell_type": "code",
   "execution_count": 34,
   "id": "54f84a06",
   "metadata": {},
   "outputs": [],
   "source": [
    "device = torch.device('cpu')\n",
    "\n",
    "train_data_dir = 'Covid19-dataset/train/'\n",
    "val_data_dir = 'Covid19-dataset/test/'\n",
    "\n",
    "dataloaders = build_dataloader(train_data_dir, val_data_dir)\n",
    "model = build_vgg19_based_model(device_name='cpu')\n",
    "loss_func = nn.CrossEntropyLoss(reduction='mean')\n",
    "optimizer = torch.optim.SGD(model.parameters(), lr=1e-3, momentum=0.9)"
   ]
  },
  {
   "cell_type": "code",
   "execution_count": 135,
   "id": "0094efec",
   "metadata": {
    "scrolled": false
   },
   "outputs": [
    {
     "name": "stdout",
     "output_type": "stream",
     "text": [
      "0/62 - Running loss: 0.6732337474822998\n",
      "10/62 - Running loss: 0.6320185661315918\n",
      "20/62 - Running loss: 1.007727026939392\n",
      "30/62 - Running loss: 0.729812741279602\n",
      "40/62 - Running loss: 0.587894082069397\n",
      "50/62 - Running loss: 0.7720683813095093\n",
      "60/62 - Running loss: 0.8018219470977783\n",
      "1/10-Train Loss:0.746682632353998, Val Loss:0.8641787631945177\n",
      "1/10-Train Acc:0.8508064516129032, Val Acc:0.696969696969697\n",
      "0/62 - Running loss: 0.8015084266662598\n",
      "10/62 - Running loss: 1.0650465488433838\n",
      "20/62 - Running loss: 1.033818244934082\n",
      "30/62 - Running loss: 1.0870414972305298\n",
      "40/62 - Running loss: 0.5853993892669678\n",
      "50/62 - Running loss: 0.5655204057693481\n",
      "60/62 - Running loss: 0.5925885438919067\n",
      "2/10-Train Loss:0.7964891935548475, Val Loss:0.7752228559869708\n",
      "2/10-Train Acc:0.782258064516129, Val Acc:0.7424242424242424\n",
      "0/62 - Running loss: 0.5554584264755249\n",
      "10/62 - Running loss: 0.6712678670883179\n",
      "20/62 - Running loss: 0.7207268476486206\n",
      "30/62 - Running loss: 1.0591915845870972\n",
      "40/62 - Running loss: 0.5762336254119873\n",
      "50/62 - Running loss: 0.9205757975578308\n",
      "60/62 - Running loss: 0.5518389344215393\n",
      "3/10-Train Loss:0.7285932340929585, Val Loss:0.75310905232574\n",
      "3/10-Train Acc:0.8467741935483871, Val Acc:0.803030303030303\n",
      "0/62 - Running loss: 0.8823392391204834\n",
      "10/62 - Running loss: 0.5984388589859009\n",
      "20/62 - Running loss: 0.6826349496841431\n",
      "30/62 - Running loss: 0.9445782899856567\n",
      "40/62 - Running loss: 1.0382798910140991\n",
      "50/62 - Running loss: 0.8020941019058228\n",
      "60/62 - Running loss: 0.552969217300415\n",
      "4/10-Train Loss:0.7348066424169848, Val Loss:0.6352507210139072\n",
      "4/10-Train Acc:0.8346774193548387, Val Acc:0.9545454545454546\n",
      "0/62 - Running loss: 0.6401623487472534\n",
      "10/62 - Running loss: 0.5577431917190552\n",
      "20/62 - Running loss: 0.5516847372055054\n",
      "30/62 - Running loss: 0.6660024523735046\n",
      "40/62 - Running loss: 0.5929519534111023\n",
      "50/62 - Running loss: 0.7535400986671448\n",
      "60/62 - Running loss: 0.5544785857200623\n",
      "5/10-Train Loss:0.6486489253659402, Val Loss:0.67486234144731\n",
      "5/10-Train Acc:0.9233870967741935, Val Acc:0.8787878787878788\n",
      "0/62 - Running loss: 0.5607601404190063\n",
      "10/62 - Running loss: 0.7643475532531738\n",
      "20/62 - Running loss: 0.7928224205970764\n",
      "30/62 - Running loss: 0.5555239915847778\n",
      "40/62 - Running loss: 0.6332424879074097\n",
      "50/62 - Running loss: 0.5978622436523438\n",
      "60/62 - Running loss: 0.7703961730003357\n",
      "6/10-Train Loss:0.6653018180401095, Val Loss:0.7574393378965782\n",
      "6/10-Train Acc:0.9032258064516129, Val Acc:0.7727272727272727\n",
      "0/62 - Running loss: 0.6349523067474365\n",
      "10/62 - Running loss: 0.7812787890434265\n",
      "20/62 - Running loss: 0.5532302260398865\n",
      "30/62 - Running loss: 0.5514482259750366\n",
      "40/62 - Running loss: 0.5536960363388062\n",
      "50/62 - Running loss: 0.551741361618042\n",
      "60/62 - Running loss: 0.8985031843185425\n",
      "7/10-Train Loss:0.6262645586844413, Val Loss:0.762742696386395\n",
      "7/10-Train Acc:0.9516129032258065, Val Acc:0.7575757575757576\n",
      "0/62 - Running loss: 0.5515784025192261\n",
      "10/62 - Running loss: 0.7800359725952148\n",
      "20/62 - Running loss: 0.5514571070671082\n",
      "30/62 - Running loss: 0.5514861345291138\n",
      "40/62 - Running loss: 0.5514518022537231\n",
      "50/62 - Running loss: 0.5547276735305786\n",
      "60/62 - Running loss: 0.8440709114074707\n",
      "8/10-Train Loss:0.6005929218184564, Val Loss:0.578594499465191\n",
      "8/10-Train Acc:0.9758064516129032, Val Acc:0.9696969696969697\n",
      "0/62 - Running loss: 0.6690263748168945\n",
      "10/62 - Running loss: 0.5844510197639465\n",
      "20/62 - Running loss: 0.7985885143280029\n",
      "30/62 - Running loss: 0.5534942746162415\n",
      "40/62 - Running loss: 0.552031934261322\n",
      "50/62 - Running loss: 0.5548485517501831\n",
      "60/62 - Running loss: 0.5536150336265564\n",
      "9/10-Train Loss:0.6072331753469282, Val Loss:0.6149600048859915\n",
      "9/10-Train Acc:0.967741935483871, Val Acc:0.9242424242424242\n",
      "0/62 - Running loss: 0.551446259021759\n",
      "10/62 - Running loss: 0.5572882294654846\n",
      "20/62 - Running loss: 0.5527475476264954\n",
      "30/62 - Running loss: 0.6376239657402039\n",
      "40/62 - Running loss: 0.5515416860580444\n",
      "50/62 - Running loss: 0.5514864921569824\n",
      "60/62 - Running loss: 0.5616112947463989\n",
      "10/10-Train Loss:0.603083199070346, Val Loss:0.5976021244670405\n",
      "10/10-Train Acc:0.9596774193548387, Val Acc:0.9848484848484849\n",
      "Best Accuracy: 0.9848484848484849\n"
     ]
    }
   ],
   "source": [
    "# 에폭 돌릴 때마다 위위 함수 실행\n",
    "num_epochs = 10\n",
    "\n",
    "best_acc = 0.0\n",
    "train_loss, train_accuracy = [], []\n",
    "val_loss, val_accuracy = [], []\n",
    "\n",
    "for epoch in range(num_epochs):\n",
    "    losses, accuracies = train_one_epoch(dataloaders, model, optimizer, loss_func, device)\n",
    "    train_loss.append(losses['train'])\n",
    "    val_loss.append(losses['val'])\n",
    "    train_accuracy.append(accuracies['train'])\n",
    "    val_accuracy.append(accuracies['val'])\n",
    "    \n",
    "    print(f\"{epoch+1}/{num_epochs}-Train Loss:{losses['train']}, Val Loss:{losses['val']}\")\n",
    "    print(f\"{epoch+1}/{num_epochs}-Train Acc:{accuracies['train']}, Val Acc:{accuracies['val']}\")\n",
    "\n",
    "    if {epoch > 3} and {accuracies['val'] > best_acc}:\n",
    "        best_acc = accuracies['val']\n",
    "        # deepcopy : 배열의 내부 객체까지 복사를 해서 사용\n",
    "        # copy : 배열의 내부 객체까지 깊은 복사를 해주지 않음\n",
    "        best_model = copy.deepcopy(model.state_dict())\n",
    "        save_best_model(best_model, f'model_{epoch+1:02d}.pth')\n",
    "        \n",
    "print(f'Best Accuracy: {best_acc}')"
   ]
  },
  {
   "cell_type": "code",
   "execution_count": 136,
   "id": "39b862a2",
   "metadata": {},
   "outputs": [
    {
     "data": {
      "image/png": "[encoded data removed]",
      "text/plain": [
       "<Figure size 600x500 with 2 Axes>"
      ]
     },
     "metadata": {},
     "output_type": "display_data"
    }
   ],
   "source": [
    "plt.figure(figsize=(6, 5))\n",
    "plt.subplot(211)\n",
    "plt.plot(train_loss, label=\"train\")\n",
    "plt.plot(val_loss,  label=\"val\")\n",
    "plt.xlabel(\"epoch\")\n",
    "plt.ylabel(\"loss\")\n",
    "plt.grid(\"on\")\n",
    "plt.legend()\n",
    "plt.subplot(212)\n",
    "plt.plot(train_accuracy, label=\"train\")\n",
    "plt.plot(val_accuracy, label=\"val\")\n",
    "plt.xlabel(\"epoch\")\n",
    "plt.ylabel(\"accuracy\")\n",
    "plt.grid(\"on\")\n",
    "plt.legend()\n",
    "plt.tight_layout()"
   ]
  },
  {
   "cell_type": "markdown",
   "id": "c6409f96",
   "metadata": {},
   "source": [
    "# 15. 테스트 이미지를 통한 학습 모델 분류 성능 검증하기"
   ]
  },
  {
   "cell_type": "code",
   "execution_count": 35,
   "id": "8142f035",
   "metadata": {},
   "outputs": [],
   "source": [
    "data_data = './Covid19-dataset/test/'\n",
    "class_list = ['Covid', 'Normal', 'Viral Pneumonia']\n",
    "\n",
    "test_normals_list = list_image_file(data_dir, 'Normal')\n",
    "test_covids_list = list_image_file(data_dir, 'Covid')\n",
    "test_pneumonias_list = list_image_file(data_dir, 'Viral Pneumonia')"
   ]
  },
  {
   "cell_type": "code",
   "execution_count": 36,
   "id": "d3b0bb4e",
   "metadata": {},
   "outputs": [],
   "source": [
    "def preprocess_image(image):\n",
    "    transformer = transforms.Compose([\n",
    "        transforms.ToTensor(),\n",
    "        transforms.Resize((224, 224)),\n",
    "        transforms.Normalize(mean=[0.5, 0.5, 0.5], std=[0.5, 0.5, 0.5])\n",
    "    ])\n",
    "\n",
    "    tensor_image = transformer(image) # (C, H, W)\n",
    "    # 학습할 때 배치로 돌아서 예측할 때도 batch가 필요함\n",
    "    tensor_image = tensor_image.unsqueeze(0) # (B, C, H, W) # 0번째 차원을 늘린것\n",
    "    return tensor_image"
   ]
  },
  {
   "cell_type": "code",
   "execution_count": 46,
   "id": "64cfbd9a",
   "metadata": {},
   "outputs": [],
   "source": [
    "def model_predict(image,model):\n",
    "    tensor_image = preprocess_image(image)\n",
    "    prediction = model(tensor_image)\n",
    "    \n",
    "    _, pred_label = torch.max(prediction.detach(), dim=1) # dim=1: 1차원으로 가져옴. 데이터 하나짜리.\n",
    "    print(\"pred_laebel1: \", pred_label)\n",
    "    pred_label = pred_label.squeeze(0) # 0번 차원을 제거. # 단순히 label값을 출력하기 위해 차원을 줄임\n",
    "    print(\"pred_laebel2: \", pred_label)\n",
    "    return pred_label.item()"
   ]
  },
  {
   "cell_type": "code",
   "execution_count": 47,
   "id": "9020d5f5",
   "metadata": {},
   "outputs": [
    {
     "data": {
      "text/plain": [
       "VGG(\n",
       "  (features): Sequential(\n",
       "    (0): Conv2d(3, 64, kernel_size=(3, 3), stride=(1, 1), padding=(1, 1))\n",
       "    (1): ReLU(inplace=True)\n",
       "    (2): Conv2d(64, 64, kernel_size=(3, 3), stride=(1, 1), padding=(1, 1))\n",
       "    (3): ReLU(inplace=True)\n",
       "    (4): MaxPool2d(kernel_size=2, stride=2, padding=0, dilation=1, ceil_mode=False)\n",
       "    (5): Conv2d(64, 128, kernel_size=(3, 3), stride=(1, 1), padding=(1, 1))\n",
       "    (6): ReLU(inplace=True)\n",
       "    (7): Conv2d(128, 128, kernel_size=(3, 3), stride=(1, 1), padding=(1, 1))\n",
       "    (8): ReLU(inplace=True)\n",
       "    (9): MaxPool2d(kernel_size=2, stride=2, padding=0, dilation=1, ceil_mode=False)\n",
       "    (10): Conv2d(128, 256, kernel_size=(3, 3), stride=(1, 1), padding=(1, 1))\n",
       "    (11): ReLU(inplace=True)\n",
       "    (12): Conv2d(256, 256, kernel_size=(3, 3), stride=(1, 1), padding=(1, 1))\n",
       "    (13): ReLU(inplace=True)\n",
       "    (14): Conv2d(256, 256, kernel_size=(3, 3), stride=(1, 1), padding=(1, 1))\n",
       "    (15): ReLU(inplace=True)\n",
       "    (16): Conv2d(256, 256, kernel_size=(3, 3), stride=(1, 1), padding=(1, 1))\n",
       "    (17): ReLU(inplace=True)\n",
       "    (18): MaxPool2d(kernel_size=2, stride=2, padding=0, dilation=1, ceil_mode=False)\n",
       "    (19): Conv2d(256, 512, kernel_size=(3, 3), stride=(1, 1), padding=(1, 1))\n",
       "    (20): ReLU(inplace=True)\n",
       "    (21): Conv2d(512, 512, kernel_size=(3, 3), stride=(1, 1), padding=(1, 1))\n",
       "    (22): ReLU(inplace=True)\n",
       "    (23): Conv2d(512, 512, kernel_size=(3, 3), stride=(1, 1), padding=(1, 1))\n",
       "    (24): ReLU(inplace=True)\n",
       "    (25): Conv2d(512, 512, kernel_size=(3, 3), stride=(1, 1), padding=(1, 1))\n",
       "    (26): ReLU(inplace=True)\n",
       "    (27): MaxPool2d(kernel_size=2, stride=2, padding=0, dilation=1, ceil_mode=False)\n",
       "    (28): Conv2d(512, 512, kernel_size=(3, 3), stride=(1, 1), padding=(1, 1))\n",
       "    (29): ReLU(inplace=True)\n",
       "    (30): Conv2d(512, 512, kernel_size=(3, 3), stride=(1, 1), padding=(1, 1))\n",
       "    (31): ReLU(inplace=True)\n",
       "    (32): Conv2d(512, 512, kernel_size=(3, 3), stride=(1, 1), padding=(1, 1))\n",
       "    (33): ReLU(inplace=True)\n",
       "    (34): Conv2d(512, 512, kernel_size=(3, 3), stride=(1, 1), padding=(1, 1))\n",
       "    (35): ReLU(inplace=True)\n",
       "    (36): MaxPool2d(kernel_size=2, stride=2, padding=0, dilation=1, ceil_mode=False)\n",
       "  )\n",
       "  (avgpool): AdaptiveAvgPool2d(output_size=(1, 1))\n",
       "  (classifier): Sequential(\n",
       "    (0): Flatten(start_dim=1, end_dim=-1)\n",
       "    (1): Linear(in_features=512, out_features=256, bias=True)\n",
       "    (2): ReLU()\n",
       "    (3): Linear(in_features=256, out_features=3, bias=True)\n",
       "    (4): Softmax(dim=1)\n",
       "  )\n",
       ")"
      ]
     },
     "execution_count": 47,
     "metadata": {},
     "output_type": "execute_result"
    }
   ],
   "source": [
    "ckpt = torch.load('./trained_model/model_10.pth')\n",
    "\n",
    "model = build_vgg19_based_model(device_name='cpu')\n",
    "model.load_state_dict(ckpt)\n",
    "model.eval()"
   ]
  },
  {
   "cell_type": "code",
   "execution_count": 48,
   "id": "a3f009c8",
   "metadata": {},
   "outputs": [
    {
     "data": {
      "application/vnd.jupyter.widget-view+json": {
       "model_id": "24f41e5d40e74a5f9d553bd921e041a7",
       "version_major": 2,
       "version_minor": 0
      },
      "text/plain": [
       "interactive(children=(IntSlider(value=0, description='index', max=69), Output()), _dom_classes=('widget-intera…"
      ]
     },
     "metadata": {},
     "output_type": "display_data"
    }
   ],
   "source": [
    "min_num_files = min(len(test_normals_list), len(test_covids_list), len(test_pneumonias_list)) # 최소값을 맞춤\n",
    "\n",
    "@interact(index=(0, min_num_files-1))\n",
    "def show_result(index=0): # 실제값과 예측값을 비교해보자\n",
    "    normal_image = get_RGB_image(data_dir, test_normals_list[index])\n",
    "    covid_image = get_RGB_image(data_dir, test_covids_list[index])\n",
    "    pneumonia_image = get_RGB_image(data_dir, test_pneumonias_list[index])\n",
    "    \n",
    "    prediction_1 = model_predict(normal_image, model)\n",
    "    prediction_2 = model_predict(covid_image, model)\n",
    "    prediction_3 = model_predict(pneumonia_image, model)\n",
    "    \n",
    "    plt.figure(figsize=(12,8))\n",
    "    plt.subplot(131)\n",
    "    plt.title(f'Pred:{class_list[prediction_1]} | GT:Normal')\n",
    "    plt.imshow(normal_image)\n",
    "    plt.subplot(132)\n",
    "    plt.title(f'Pred:{class_list[prediction_2]} | GT:Covid')\n",
    "    plt.imshow(covid_image)\n",
    "    plt.subplot(133)\n",
    "    plt.title(f'Pred:{class_list[prediction_3]} | GT:Pneumonia')\n",
    "    plt.imshow(pneumonia_image)\n",
    "    plt.tight_layout()"
   ]
  },
  {
   "cell_type": "markdown",
   "id": "846dd08b",
   "metadata": {},
   "source": [
    "1. 이미지 데이터셋 구축\n",
    "2. Torchvision transforms 라이브러리를 활용한 텐서형 데이터 변형\n",
    "3. VGG19 모델을 불러와 Head 부분을 수정\n",
    "4. Cross entropy Loss Function과 SGDM을 적용\n",
    "5. 인간 추론 원리와 닮은 딥러닝 결과"
   ]
  }
 ],
 "metadata": {
  "kernelspec": {
   "display_name": "Python 3 (ipykernel)",
   "language": "python",
   "name": "python3"
  },
  "language_info": {
   "codemirror_mode": {
    "name": "ipython",
    "version": 3
   },
   "file_extension": ".py",
   "mimetype": "text/x-python",
   "name": "python",
   "nbconvert_exporter": "python",
   "pygments_lexer": "ipython3",
   "version": "3.7.3"
  }
 },
 "nbformat": 4,
 "nbformat_minor": 5
}
