{
 "cells": [
  {
   "cell_type": "markdown",
   "id": "bd575639",
   "metadata": {},
   "source": [
    "# 1. 모델 구현"
   ]
  },
  {
   "cell_type": "markdown",
   "id": "0637eb67",
   "metadata": {},
   "source": [
    "* https://www.tensorflow.org/guide/keras/sequential_model\n",
    "\n",
    "```\n",
    "#Define Sequential model with 3 layers\n",
    "model = keras.Sequential(\n",
    "    [\n",
    "        layers.Dense(2, activation=\"relu\", name=\"layer1\"), # Dence : 일반 레이어\n",
    "        layers.Dense(3, activation=\"relu\", name=\"layer2\"),\n",
    "        layers.Dense(4, name=\"layer3\"),\n",
    "    ]\n",
    ")\n",
    "#Call model on a test input\n",
    "x = tf.ones((3, 3))\n",
    "y = model(x)\n",
    "```"
   ]
  },
  {
   "cell_type": "code",
   "execution_count": 1,
   "id": "b450ae6b",
   "metadata": {},
   "outputs": [],
   "source": [
    "import tensorflow as tf\n",
    "from tensorflow import keras\n",
    "from tensorflow.keras import layers"
   ]
  },
  {
   "cell_type": "code",
   "execution_count": 4,
   "id": "09207326",
   "metadata": {},
   "outputs": [],
   "source": [
    "# 모델을 만들어주는 함수 정의\n",
    "def get_sequential_model(imput_shape):\n",
    "    model = keras.Sequential(\n",
    "        [\n",
    "            layers.Input(input_shape), # 입력층 만듦 -> 은닉층으로 데이터를 보낼거임\n",
    "            \n",
    "            # 1st\n",
    "            # 64개의 데이터 받음(필터 64개 사용). 3x3 필터크기. 패딩을 자동으로 삽입해서 크기 유지(<-> 'valid')\n",
    "            layers.Conv2D(64, 3, strides=1, activation='relu', padding='same'),\n",
    "            layers.Conv2D(64, 3, strides=1, activation='relu', padding='same'),\n",
    "            # 가중치 2번 업데이트. 좀 더 세밀해짐.\n",
    "            layers.MaxPool2D(), # 가장 큰 값을 뽑아서 크기를 줄여줌\n",
    "            layers.BatchNormalization(), # 픽셀값을 정규화.\n",
    "            layers.Dropout(0.5), # 과대적합 방지를 위해\n",
    "            \n",
    "            # 2nd\n",
    "            layers.Conv2D(128, 3, strides=1, activation='relu', padding='same'), # 128개 데이터 추출\n",
    "            layers.Conv2D(128, 3, strides=1, activation='relu', padding='same'),\n",
    "            layers.MaxPool2D(), \n",
    "            layers.BatchNormalization(), \n",
    "            layers.Dropout(0.3),\n",
    "            \n",
    "            # FC\n",
    "            layers.GlobalMaxPool2D(), # 다합쳐서 맥스풀링\n",
    "            layers.Dense(128, activation=\"relu\"), # Dence : 일반 레이어\n",
    "            layers.Dense(1, activation='sigmoid') # 참/거짓 둘 중 하나로 값 추출되도록\n",
    "        ]\n",
    "    )\n",
    "    return model"
   ]
  },
  {
   "cell_type": "code",
   "execution_count": 6,
   "id": "55df7824",
   "metadata": {},
   "outputs": [
    {
     "name": "stdout",
     "output_type": "stream",
     "text": [
      "Model: \"sequential_1\"\n",
      "_________________________________________________________________\n",
      " Layer (type)                Output Shape              Param #   \n",
      "=================================================================\n",
      " conv2d_4 (Conv2D)           (None, 256, 256, 64)      1792      \n",
      "                                                                 \n",
      " conv2d_5 (Conv2D)           (None, 256, 256, 64)      36928     \n",
      "                                                                 \n",
      " max_pooling2d_2 (MaxPooling  (None, 128, 128, 64)     0         \n",
      " 2D)                                                             \n",
      "                                                                 \n",
      " batch_normalization_2 (Batc  (None, 128, 128, 64)     256       \n",
      " hNormalization)                                                 \n",
      "                                                                 \n",
      " dropout_2 (Dropout)         (None, 128, 128, 64)      0         \n",
      "                                                                 \n",
      " conv2d_6 (Conv2D)           (None, 128, 128, 128)     73856     \n",
      "                                                                 \n",
      " conv2d_7 (Conv2D)           (None, 128, 128, 128)     147584    \n",
      "                                                                 \n",
      " max_pooling2d_3 (MaxPooling  (None, 64, 64, 128)      0         \n",
      " 2D)                                                             \n",
      "                                                                 \n",
      " batch_normalization_3 (Batc  (None, 64, 64, 128)      512       \n",
      " hNormalization)                                                 \n",
      "                                                                 \n",
      " dropout_3 (Dropout)         (None, 64, 64, 128)       0         \n",
      "                                                                 \n",
      " global_max_pooling2d_1 (Glo  (None, 128)              0         \n",
      " balMaxPooling2D)                                                \n",
      "                                                                 \n",
      " dense_2 (Dense)             (None, 128)               16512     \n",
      "                                                                 \n",
      " dense_3 (Dense)             (None, 1)                 129       \n",
      "                                                                 \n",
      "=================================================================\n",
      "Total params: 277,569\n",
      "Trainable params: 277,185\n",
      "Non-trainable params: 384\n",
      "_________________________________________________________________\n"
     ]
    }
   ],
   "source": [
    "input_shape = (256, 256, 3)\n",
    "model = get_sequential_model(input_shape)\n",
    "\n",
    "model.summary()"
   ]
  },
  {
   "cell_type": "code",
   "execution_count": 8,
   "id": "a7dd93e5",
   "metadata": {},
   "outputs": [],
   "source": [
    "class SimpleCNN(keras.Model): # keras.Model을 상속받아옴\n",
    "    def __init__(self):\n",
    "        super(SimpleCNN, self).__init__()\n",
    "        \n",
    "        self.conv_block_1 = keras.Sequential(\n",
    "            [\n",
    "                layers.Conv2D(64, 3, strides=1, activation='relu', padding='same'),\n",
    "                layers.Conv2D(64, 3, strides=1, activation='relu', padding='same'),\n",
    "                layers.MaxPool2D(),\n",
    "                layers.BatchNormalization(),\n",
    "                layers.Dropout(0.5)\n",
    "            ], name='conv_block_1'\n",
    "        )\n",
    "\n",
    "        self.conv_block_2 = keras.Sequential(\n",
    "            [\n",
    "                layers.Conv2D(128, 3, strides=1, activation='relu', padding='same'),\n",
    "                layers.Conv2D(128, 3, strides=1, activation='relu', padding='same'),\n",
    "                layers.MaxPool2D(),\n",
    "                layers.BatchNormalization(),\n",
    "                layers.Dropout(0.3)\n",
    "            ], name='conv_block_2'\n",
    "        )\n",
    "        \n",
    "        self.classifier = keras.Sequential(\n",
    "            [\n",
    "                layers.GlobalMaxPool2D(),\n",
    "                layers.Dense(128, activation=\"relu\"),\n",
    "                layers.Dense(1, activation='sigmoid')\n",
    "            ], name='classifier'\n",
    "        )\n",
    "    \n",
    "    def call(self, input_tensor, training=False):\n",
    "        x = self.conv_block_1(input_tensor)\n",
    "        x = self.conv_block_2(x)\n",
    "        x = self.classifier(x)\n",
    "        return x"
   ]
  },
  {
   "cell_type": "code",
   "execution_count": 11,
   "id": "c75af6ba",
   "metadata": {},
   "outputs": [
    {
     "name": "stdout",
     "output_type": "stream",
     "text": [
      "Model: \"simple_cnn_2\"\n",
      "_________________________________________________________________\n",
      " Layer (type)                Output Shape              Param #   \n",
      "=================================================================\n",
      " conv_block_1 (Sequential)   (None, 128, 128, 64)      38976     \n",
      "                                                                 \n",
      " conv_block_2 (Sequential)   (None, 64, 64, 128)       221952    \n",
      "                                                                 \n",
      " classifier (Sequential)     (None, 1)                 16641     \n",
      "                                                                 \n",
      "=================================================================\n",
      "Total params: 277,569\n",
      "Trainable params: 277,185\n",
      "Non-trainable params: 384\n",
      "_________________________________________________________________\n"
     ]
    }
   ],
   "source": [
    "input_shape = (None, 256, 256, 3) # batch_siz는 None\n",
    "model = SimpleCNN()\n",
    "model.build(input_shape)\n",
    "\n",
    "model.summary()"
   ]
  },
  {
   "cell_type": "code",
   "execution_count": 12,
   "id": "01cfcfd8",
   "metadata": {},
   "outputs": [],
   "source": [
    "# model에 setting하는 함수\n",
    "model.compile(\n",
    "    optimizer = 'adam',\n",
    "    loss='binary_crossentropy',\n",
    "    metrics='accuracy' # 검증방법\n",
    ")"
   ]
  }
 ],
 "metadata": {
  "kernelspec": {
   "display_name": "Python 3 (ipykernel)",
   "language": "python",
   "name": "python3"
  },
  "language_info": {
   "codemirror_mode": {
    "name": "ipython",
    "version": 3
   },
   "file_extension": ".py",
   "mimetype": "text/x-python",
   "name": "python",
   "nbconvert_exporter": "python",
   "pygments_lexer": "ipython3",
   "version": "3.7.3"
  }
 },
 "nbformat": 4,
 "nbformat_minor": 5
}
