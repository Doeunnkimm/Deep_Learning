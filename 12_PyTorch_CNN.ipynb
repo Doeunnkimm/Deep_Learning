{
  "nbformat": 4,
  "nbformat_minor": 0,
  "metadata": {
    "colab": {
      "provenance": [],
      "machine_shape": "hm"
    },
    "kernelspec": {
      "name": "python3",
      "display_name": "Python 3"
    },
    "language_info": {
      "name": "python"
    },
    "accelerator": "GPU",
    "gpuClass": "standard",
    "widgets": {
      "application/vnd.jupyter.widget-state+json": {
        "f8dfece99c7a4e9d9d9697341897e66c": {
          "model_module": "@jupyter-widgets/controls",
          "model_name": "HBoxModel",
          "model_module_version": "1.5.0",
          "state": {
            "_dom_classes": [],
            "_model_module": "@jupyter-widgets/controls",
            "_model_module_version": "1.5.0",
            "_model_name": "HBoxModel",
            "_view_count": null,
            "_view_module": "@jupyter-widgets/controls",
            "_view_module_version": "1.5.0",
            "_view_name": "HBoxView",
            "box_style": "",
            "children": [
              "IPY_MODEL_0e6715f6a11546ae81c3f34cb9528757",
              "IPY_MODEL_a5459407f2274747999e0b508c61398e",
              "IPY_MODEL_d5841eb2b68f4c0c8ec8f75f9b090186"
            ],
            "layout": "IPY_MODEL_44543f8ab8304f49bc1faa879198914a"
          }
        },
        "0e6715f6a11546ae81c3f34cb9528757": {
          "model_module": "@jupyter-widgets/controls",
          "model_name": "HTMLModel",
          "model_module_version": "1.5.0",
          "state": {
            "_dom_classes": [],
            "_model_module": "@jupyter-widgets/controls",
            "_model_module_version": "1.5.0",
            "_model_name": "HTMLModel",
            "_view_count": null,
            "_view_module": "@jupyter-widgets/controls",
            "_view_module_version": "1.5.0",
            "_view_name": "HTMLView",
            "description": "",
            "description_tooltip": null,
            "layout": "IPY_MODEL_86c80a7f42bc42afa1e3492a85934468",
            "placeholder": "​",
            "style": "IPY_MODEL_b00efa35e3874e72bc0d45ed95a9c051",
            "value": "100%"
          }
        },
        "a5459407f2274747999e0b508c61398e": {
          "model_module": "@jupyter-widgets/controls",
          "model_name": "FloatProgressModel",
          "model_module_version": "1.5.0",
          "state": {
            "_dom_classes": [],
            "_model_module": "@jupyter-widgets/controls",
            "_model_module_version": "1.5.0",
            "_model_name": "FloatProgressModel",
            "_view_count": null,
            "_view_module": "@jupyter-widgets/controls",
            "_view_module_version": "1.5.0",
            "_view_name": "ProgressView",
            "bar_style": "success",
            "description": "",
            "description_tooltip": null,
            "layout": "IPY_MODEL_508b383976c14651b3133c29c861d949",
            "max": 170498071,
            "min": 0,
            "orientation": "horizontal",
            "style": "IPY_MODEL_b0db272b27eb4e6d822a0fdd6b41c99e",
            "value": 170498071
          }
        },
        "d5841eb2b68f4c0c8ec8f75f9b090186": {
          "model_module": "@jupyter-widgets/controls",
          "model_name": "HTMLModel",
          "model_module_version": "1.5.0",
          "state": {
            "_dom_classes": [],
            "_model_module": "@jupyter-widgets/controls",
            "_model_module_version": "1.5.0",
            "_model_name": "HTMLModel",
            "_view_count": null,
            "_view_module": "@jupyter-widgets/controls",
            "_view_module_version": "1.5.0",
            "_view_name": "HTMLView",
            "description": "",
            "description_tooltip": null,
            "layout": "IPY_MODEL_efade1fb79be41c18a7baecb79d4b858",
            "placeholder": "​",
            "style": "IPY_MODEL_1b328d91d0e44e28afc6fbfbb6e4b779",
            "value": " 170498071/170498071 [00:02&lt;00:00, 79239805.46it/s]"
          }
        },
        "44543f8ab8304f49bc1faa879198914a": {
          "model_module": "@jupyter-widgets/base",
          "model_name": "LayoutModel",
          "model_module_version": "1.2.0",
          "state": {
            "_model_module": "@jupyter-widgets/base",
            "_model_module_version": "1.2.0",
            "_model_name": "LayoutModel",
            "_view_count": null,
            "_view_module": "@jupyter-widgets/base",
            "_view_module_version": "1.2.0",
            "_view_name": "LayoutView",
            "align_content": null,
            "align_items": null,
            "align_self": null,
            "border": null,
            "bottom": null,
            "display": null,
            "flex": null,
            "flex_flow": null,
            "grid_area": null,
            "grid_auto_columns": null,
            "grid_auto_flow": null,
            "grid_auto_rows": null,
            "grid_column": null,
            "grid_gap": null,
            "grid_row": null,
            "grid_template_areas": null,
            "grid_template_columns": null,
            "grid_template_rows": null,
            "height": null,
            "justify_content": null,
            "justify_items": null,
            "left": null,
            "margin": null,
            "max_height": null,
            "max_width": null,
            "min_height": null,
            "min_width": null,
            "object_fit": null,
            "object_position": null,
            "order": null,
            "overflow": null,
            "overflow_x": null,
            "overflow_y": null,
            "padding": null,
            "right": null,
            "top": null,
            "visibility": null,
            "width": null
          }
        },
        "86c80a7f42bc42afa1e3492a85934468": {
          "model_module": "@jupyter-widgets/base",
          "model_name": "LayoutModel",
          "model_module_version": "1.2.0",
          "state": {
            "_model_module": "@jupyter-widgets/base",
            "_model_module_version": "1.2.0",
            "_model_name": "LayoutModel",
            "_view_count": null,
            "_view_module": "@jupyter-widgets/base",
            "_view_module_version": "1.2.0",
            "_view_name": "LayoutView",
            "align_content": null,
            "align_items": null,
            "align_self": null,
            "border": null,
            "bottom": null,
            "display": null,
            "flex": null,
            "flex_flow": null,
            "grid_area": null,
            "grid_auto_columns": null,
            "grid_auto_flow": null,
            "grid_auto_rows": null,
            "grid_column": null,
            "grid_gap": null,
            "grid_row": null,
            "grid_template_areas": null,
            "grid_template_columns": null,
            "grid_template_rows": null,
            "height": null,
            "justify_content": null,
            "justify_items": null,
            "left": null,
            "margin": null,
            "max_height": null,
            "max_width": null,
            "min_height": null,
            "min_width": null,
            "object_fit": null,
            "object_position": null,
            "order": null,
            "overflow": null,
            "overflow_x": null,
            "overflow_y": null,
            "padding": null,
            "right": null,
            "top": null,
            "visibility": null,
            "width": null
          }
        },
        "b00efa35e3874e72bc0d45ed95a9c051": {
          "model_module": "@jupyter-widgets/controls",
          "model_name": "DescriptionStyleModel",
          "model_module_version": "1.5.0",
          "state": {
            "_model_module": "@jupyter-widgets/controls",
            "_model_module_version": "1.5.0",
            "_model_name": "DescriptionStyleModel",
            "_view_count": null,
            "_view_module": "@jupyter-widgets/base",
            "_view_module_version": "1.2.0",
            "_view_name": "StyleView",
            "description_width": ""
          }
        },
        "508b383976c14651b3133c29c861d949": {
          "model_module": "@jupyter-widgets/base",
          "model_name": "LayoutModel",
          "model_module_version": "1.2.0",
          "state": {
            "_model_module": "@jupyter-widgets/base",
            "_model_module_version": "1.2.0",
            "_model_name": "LayoutModel",
            "_view_count": null,
            "_view_module": "@jupyter-widgets/base",
            "_view_module_version": "1.2.0",
            "_view_name": "LayoutView",
            "align_content": null,
            "align_items": null,
            "align_self": null,
            "border": null,
            "bottom": null,
            "display": null,
            "flex": null,
            "flex_flow": null,
            "grid_area": null,
            "grid_auto_columns": null,
            "grid_auto_flow": null,
            "grid_auto_rows": null,
            "grid_column": null,
            "grid_gap": null,
            "grid_row": null,
            "grid_template_areas": null,
            "grid_template_columns": null,
            "grid_template_rows": null,
            "height": null,
            "justify_content": null,
            "justify_items": null,
            "left": null,
            "margin": null,
            "max_height": null,
            "max_width": null,
            "min_height": null,
            "min_width": null,
            "object_fit": null,
            "object_position": null,
            "order": null,
            "overflow": null,
            "overflow_x": null,
            "overflow_y": null,
            "padding": null,
            "right": null,
            "top": null,
            "visibility": null,
            "width": null
          }
        },
        "b0db272b27eb4e6d822a0fdd6b41c99e": {
          "model_module": "@jupyter-widgets/controls",
          "model_name": "ProgressStyleModel",
          "model_module_version": "1.5.0",
          "state": {
            "_model_module": "@jupyter-widgets/controls",
            "_model_module_version": "1.5.0",
            "_model_name": "ProgressStyleModel",
            "_view_count": null,
            "_view_module": "@jupyter-widgets/base",
            "_view_module_version": "1.2.0",
            "_view_name": "StyleView",
            "bar_color": null,
            "description_width": ""
          }
        },
        "efade1fb79be41c18a7baecb79d4b858": {
          "model_module": "@jupyter-widgets/base",
          "model_name": "LayoutModel",
          "model_module_version": "1.2.0",
          "state": {
            "_model_module": "@jupyter-widgets/base",
            "_model_module_version": "1.2.0",
            "_model_name": "LayoutModel",
            "_view_count": null,
            "_view_module": "@jupyter-widgets/base",
            "_view_module_version": "1.2.0",
            "_view_name": "LayoutView",
            "align_content": null,
            "align_items": null,
            "align_self": null,
            "border": null,
            "bottom": null,
            "display": null,
            "flex": null,
            "flex_flow": null,
            "grid_area": null,
            "grid_auto_columns": null,
            "grid_auto_flow": null,
            "grid_auto_rows": null,
            "grid_column": null,
            "grid_gap": null,
            "grid_row": null,
            "grid_template_areas": null,
            "grid_template_columns": null,
            "grid_template_rows": null,
            "height": null,
            "justify_content": null,
            "justify_items": null,
            "left": null,
            "margin": null,
            "max_height": null,
            "max_width": null,
            "min_height": null,
            "min_width": null,
            "object_fit": null,
            "object_position": null,
            "order": null,
            "overflow": null,
            "overflow_x": null,
            "overflow_y": null,
            "padding": null,
            "right": null,
            "top": null,
            "visibility": null,
            "width": null
          }
        },
        "1b328d91d0e44e28afc6fbfbb6e4b779": {
          "model_module": "@jupyter-widgets/controls",
          "model_name": "DescriptionStyleModel",
          "model_module_version": "1.5.0",
          "state": {
            "_model_module": "@jupyter-widgets/controls",
            "_model_module_version": "1.5.0",
            "_model_name": "DescriptionStyleModel",
            "_view_count": null,
            "_view_module": "@jupyter-widgets/base",
            "_view_module_version": "1.2.0",
            "_view_name": "StyleView",
            "description_width": ""
          }
        }
      }
    }
  },
  "cells": [
    {
      "cell_type": "code",
      "metadata": {
        "id": "VskMijOr0wOe"
      },
      "source": [
        "import numpy as np\n",
        "import matplotlib.pyplot as plt\n",
        "\n",
        "import torch\n",
        "import torch.nn as nn\n",
        "import torch.nn.functional as F\n",
        "from torchvision import transforms, datasets"
      ],
      "execution_count": null,
      "outputs": []
    },
    {
      "cell_type": "markdown",
      "metadata": {
        "id": "M-BohvQ4k1BE"
      },
      "source": [
        "## CIFAR-10 MLP & CNN\n"
      ]
    },
    {
      "cell_type": "code",
      "metadata": {
        "id": "UOEM8HG9200q"
      },
      "source": [
        "if torch.cuda.is_available():\n",
        "    DEVICE = torch.device('cuda')\n",
        "else:\n",
        "    DEVICE = torch.device('cpu')"
      ],
      "execution_count": null,
      "outputs": []
    },
    {
      "cell_type": "code",
      "metadata": {
        "id": "lxgCYme9hz_D"
      },
      "source": [
        "BATCH_SIZE = 32\n",
        "EPOCHS = 10"
      ],
      "execution_count": null,
      "outputs": []
    },
    {
      "cell_type": "code",
      "metadata": {
        "id": "h4XNzmNfu_3L",
        "colab": {
          "base_uri": "https://localhost:8080/",
          "height": 86,
          "referenced_widgets": [
            "f8dfece99c7a4e9d9d9697341897e66c",
            "0e6715f6a11546ae81c3f34cb9528757",
            "a5459407f2274747999e0b508c61398e",
            "d5841eb2b68f4c0c8ec8f75f9b090186",
            "44543f8ab8304f49bc1faa879198914a",
            "86c80a7f42bc42afa1e3492a85934468",
            "b00efa35e3874e72bc0d45ed95a9c051",
            "508b383976c14651b3133c29c861d949",
            "b0db272b27eb4e6d822a0fdd6b41c99e",
            "efade1fb79be41c18a7baecb79d4b858",
            "1b328d91d0e44e28afc6fbfbb6e4b779"
          ]
        },
        "outputId": "b993b323-0e0e-499b-fcb6-fe89c8a6becd"
      },
      "source": [
        "train_dataset = datasets.CIFAR10(root = \"../data/CIFAR_10\",\n",
        "                                  train = True,\n",
        "                                  download = True,\n",
        "                                  transform = transforms.ToTensor())\n",
        "\n",
        "test_dataset = datasets.CIFAR10(root = \"../data/CIFAR_10\",\n",
        "                                train = False,\n",
        "                                transform = transforms.ToTensor())\n",
        "\n",
        "train_loader = torch.utils.data.DataLoader(dataset = train_dataset,\n",
        "                                            batch_size = BATCH_SIZE,\n",
        "                                            shuffle = True)\n",
        "\n",
        "test_loader = torch.utils.data.DataLoader(dataset = test_dataset,\n",
        "                                          batch_size = BATCH_SIZE,\n",
        "                                          shuffle = False)"
      ],
      "execution_count": null,
      "outputs": [
        {
          "output_type": "stream",
          "name": "stdout",
          "text": [
            "Downloading https://www.cs.toronto.edu/~kriz/cifar-10-python.tar.gz to ../data/CIFAR_10/cifar-10-python.tar.gz\n"
          ]
        },
        {
          "output_type": "display_data",
          "data": {
            "text/plain": [
              "  0%|          | 0/170498071 [00:00<?, ?it/s]"
            ],
            "application/vnd.jupyter.widget-view+json": {
              "version_major": 2,
              "version_minor": 0,
              "model_id": "f8dfece99c7a4e9d9d9697341897e66c"
            }
          },
          "metadata": {}
        },
        {
          "output_type": "stream",
          "name": "stdout",
          "text": [
            "Extracting ../data/CIFAR_10/cifar-10-python.tar.gz to ../data/CIFAR_10\n"
          ]
        }
      ]
    },
    {
      "cell_type": "code",
      "metadata": {
        "id": "fmEw9Vk5mdv6",
        "colab": {
          "base_uri": "https://localhost:8080/"
        },
        "outputId": "c56e7f04-31fd-460d-b0fc-e02d9bbdd99d"
      },
      "source": [
        "for (X_train, y_train) in train_loader:\n",
        "    print('X_train:', X_train.size(), 'type:', X_train.type())\n",
        "    print('y_train:', y_train.size(), 'type:', y_train.type())\n",
        "    break"
      ],
      "execution_count": null,
      "outputs": [
        {
          "output_type": "stream",
          "name": "stdout",
          "text": [
            "X_train: torch.Size([32, 3, 32, 32]) type: torch.FloatTensor\n",
            "y_train: torch.Size([32]) type: torch.LongTensor\n"
          ]
        }
      ]
    },
    {
      "cell_type": "code",
      "metadata": {
        "id": "r0u13o66meWm",
        "colab": {
          "base_uri": "https://localhost:8080/",
          "height": 94
        },
        "outputId": "f68e0879-4f82-4d25-f1ab-5a441bf330bf"
      },
      "source": [
        "pltsize = 1\n",
        "plt.figure(figsize=(10 * pltsize, pltsize))\n",
        "\n",
        "for i in range(10):\n",
        "    plt.subplot(1, 10, i + 1)\n",
        "    plt.axis('off')\n",
        "    plt.imshow(np.transpose(X_train[i], (1, 2, 0)))\n",
        "    plt.title('Class: ' + str(y_train[i].item()))"
      ],
      "execution_count": null,
      "outputs": [
        {
          "output_type": "display_data",
          "data": {
            "text/plain": [
              "<Figure size 720x72 with 10 Axes>"
            ],
            "image/png": "[encoded data removed]"
          },
          "metadata": {
            "needs_background": "light"
          }
        }
      ]
    },
    {
      "cell_type": "markdown",
      "metadata": {
        "id": "qnW_8-u1iF94"
      },
      "source": [
        "### CIFAR - MLP"
      ]
    },
    {
      "cell_type": "code",
      "metadata": {
        "id": "bCjW11cUncIX"
      },
      "source": [
        "class MLP(nn.Module):\n",
        "    def __init__(self):\n",
        "        super(MLP, self).__init__()\n",
        "        self.fc1 = nn.Linear(32 * 32 * 3, 512) # input: (가로)*(세로)*(채널)\n",
        "        self.fc2 = nn.Linear(512, 256)\n",
        "        self.fc3 = nn.Linear(256, 10) # output: 10개로 분류\n",
        "\n",
        "    def forward(self, x):\n",
        "        x = x.view(-1, 32 * 32 * 3) # 1차원으로 flatten\n",
        "        x = self.fc1(x)\n",
        "        x = F.relu(x)\n",
        "        x = self.fc2(x)\n",
        "        x = F.relu(x)\n",
        "        x = self.fc3(x)\n",
        "        x = F.log_softmax(x, dim = 1)\n",
        "        return x "
      ],
      "execution_count": null,
      "outputs": []
    },
    {
      "cell_type": "code",
      "metadata": {
        "id": "S3RkCQRXoYGl",
        "colab": {
          "base_uri": "https://localhost:8080/"
        },
        "outputId": "3a3c80f0-8a5e-44be-fa11-644275780ccc"
      },
      "source": [
        "model = MLP().to(DEVICE)\n",
        "optimizer = torch.optim.Adam(model.parameters(), lr = 0.001)\n",
        "criterion = nn.CrossEntropyLoss()\n",
        "\n",
        "print(model)"
      ],
      "execution_count": null,
      "outputs": [
        {
          "output_type": "stream",
          "name": "stdout",
          "text": [
            "MLP(\n",
            "  (fc1): Linear(in_features=3072, out_features=512, bias=True)\n",
            "  (fc2): Linear(in_features=512, out_features=256, bias=True)\n",
            "  (fc3): Linear(in_features=256, out_features=10, bias=True)\n",
            ")\n"
          ]
        }
      ]
    },
    {
      "cell_type": "code",
      "metadata": {
        "id": "PlWzNa1Rodve"
      },
      "source": [
        "def train(model, train_loader, optimizer, log_interval):\n",
        "    model.train()\n",
        "    for batch_idx, (image, label) in enumerate(train_loader):\n",
        "        image = image.to(DEVICE) # image를 GOU에 맞게\n",
        "        label = label.to(DEVICE) # label을 GPU에 맞게\n",
        "        optimizer.zero_grad() # 초기화\n",
        "        output = model(image) # image를 model에 넣음으로써 output을 도출\n",
        "        loss = criterion(output, label) # loss를 계산\n",
        "        loss.backward() # loss를 바탕으로 역전파\n",
        "        optimizer.step() # gradient 계산\n",
        "\n",
        "        if batch_idx % log_interval == 0:\n",
        "            print(\"Train Epoch: {} [{}/{} ({:.0f}%)]\\tTrain Loss: {:.6f}\".format(\n",
        "                epoch, batch_idx * len(image), \n",
        "                len(train_loader.dataset), 100. * batch_idx / len(train_loader), \n",
        "                loss.item()))"
      ],
      "execution_count": null,
      "outputs": []
    },
    {
      "cell_type": "code",
      "metadata": {
        "id": "aCH8SooSlLjS"
      },
      "source": [
        "def evaluate(model, test_loader):\n",
        "    model.eval()\n",
        "    test_loss = 0\n",
        "    correct = 0\n",
        "\n",
        "    with torch.no_grad():\n",
        "        for image, label in test_loader:\n",
        "            image = image.to(DEVICE)\n",
        "            label = label.to(DEVICE)\n",
        "            output = model(image) # image를 model에 넣어서 output을 도출\n",
        "            test_loss += criterion(output, label).item() # loss 계산\n",
        "            prediction = output.max(1, keepdim = True)[1]\n",
        "            correct += prediction.eq(label.view_as(prediction)).sum().item() # 정확도 계산\n",
        "    \n",
        "    test_loss /= len(test_loader.dataset)\n",
        "    test_accuracy = 100. * correct / len(test_loader.dataset)\n",
        "    return test_loss, test_accuracy"
      ],
      "execution_count": null,
      "outputs": []
    },
    {
      "cell_type": "code",
      "metadata": {
        "id": "pUvM68hHolNf"
      },
      "source": [
        "for epoch in range(1, EPOCHS + 1):\n",
        "    train(model, train_loader, optimizer, log_interval = 200)\n",
        "    test_loss, test_accuracy = evaluate(model, test_loader)\n",
        "    print(\"\\n[EPOCH: {}], \\tTest Loss: {:.4f}, \\tTest Accuracy: {:.2f} % \\n\".format(\n",
        "        epoch, test_loss, test_accuracy))"
      ],
      "execution_count": null,
      "outputs": []
    },
    {
      "cell_type": "markdown",
      "metadata": {
        "id": "Tr1Q8amEmrnv"
      },
      "source": [
        "### CIFAR - CNN"
      ]
    },
    {
      "cell_type": "code",
      "metadata": {
        "id": "8zHOMYlxv_oO"
      },
      "source": [
        "class CNN(nn.Module):\n",
        "    def __init__(self):\n",
        "        # conv layer 2개, fc layer 3개로 구성\n",
        "        super(CNN, self).__init__()\n",
        "        # conv1 = input 3, output 8 channels, kernel 3, padding 1\n",
        "        self.conv1 = nn.Conv2d(in_channels = 3, out_channels = 8, kernel_size = 3, padding = 1)\n",
        "        # conv2 = input 8, output 16 channels, kernet 3, padding 1\n",
        "        self.conv2 = nn.Conv2d(in_channels = 8, out_channels = 16, kernel_size=3, padding=1)\n",
        "        # pool = kernel 2, stride 2\n",
        "        self.pool = nn.MaxPool2d(kernel_size=2, stride=2) # 2칸씩 이동\n",
        "        # fc layer 3 = input, 64, 32, 10\n",
        "        self.fc1 = nn.Linear(8 * 8 * 16, 64)\n",
        "        self.fc2 = nn.Linear(64, 32)\n",
        "        self.fc3 = nn.Linear(32, 10)\n",
        "        \n",
        "    def forward(self, x):\n",
        "        x = self.conv1(x)\n",
        "        x = F.relu(x)\n",
        "        x = self.pool(x)\n",
        "        x = self.conv2(x)\n",
        "        x = F.relu(x)\n",
        "        x = self.pool(x)\n",
        "        # fully connected layer에 연결하기 위해서는 형태를 바꿔줘야 함\n",
        "        x = x.view(-1, 8 * 8 * 16)\n",
        "        x = self.fc1(x)\n",
        "        x = F.relu(x)\n",
        "        x = self.fc2(x)\n",
        "        x = F.relu(x)\n",
        "        x = self.fc3(x)\n",
        "        x = F.log_softmax(x)\n",
        "        return x"
      ],
      "execution_count": null,
      "outputs": []
    },
    {
      "cell_type": "code",
      "metadata": {
        "id": "yLNAIgaTP4vJ",
        "colab": {
          "base_uri": "https://localhost:8080/"
        },
        "outputId": "2a148804-fe33-43d6-e064-5d04f760f14e"
      },
      "source": [
        "model = CNN().to(DEVICE)\n",
        "optimizer = torch.optim.Adam(model.parameters(), lr = 0.001)\n",
        "criterion = nn.CrossEntropyLoss()\n",
        "\n",
        "print(model)"
      ],
      "execution_count": null,
      "outputs": [
        {
          "output_type": "stream",
          "name": "stdout",
          "text": [
            "CNN(\n",
            "  (conv1): Conv2d(3, 8, kernel_size=(3, 3), stride=(1, 1), padding=(1, 1))\n",
            "  (conv2): Conv2d(8, 16, kernel_size=(3, 3), stride=(1, 1), padding=(1, 1))\n",
            "  (pool): MaxPool2d(kernel_size=2, stride=2, padding=0, dilation=1, ceil_mode=False)\n",
            "  (fc1): Linear(in_features=1024, out_features=64, bias=True)\n",
            "  (fc2): Linear(in_features=64, out_features=32, bias=True)\n",
            "  (fc3): Linear(in_features=32, out_features=10, bias=True)\n",
            ")\n"
          ]
        }
      ]
    },
    {
      "cell_type": "code",
      "metadata": {
        "id": "FHX_T8JpP7pR"
      },
      "source": [
        "def train(model, train_loader, optimizer, log_interval):\n",
        "    model.train()\n",
        "    for batch_idx, (image, label) in enumerate(train_loader):\n",
        "        image = image.to(DEVICE)\n",
        "        label = label.to(DEVICE)\n",
        "        optimizer.zero_grad()\n",
        "        output = model(image)\n",
        "        loss = criterion(output, label)\n",
        "        loss.backward()\n",
        "        optimizer.step()\n",
        "\n",
        "        if batch_idx % log_interval == 0:\n",
        "            print(\"Train Epoch: {} [{}/{} ({:.0f}%)]\\tTrain Loss: {:.6f}\".format(\n",
        "                epoch, batch_idx * len(image), \n",
        "                len(train_loader.dataset), 100. * batch_idx / len(train_loader), \n",
        "                loss.item()))"
      ],
      "execution_count": null,
      "outputs": []
    },
    {
      "cell_type": "code",
      "metadata": {
        "id": "35_e-3LwQVcn"
      },
      "source": [
        "def evaluate(model, test_loader):\n",
        "    model.eval()\n",
        "    test_loss = 0\n",
        "    correct = 0\n",
        "\n",
        "    with torch.no_grad():\n",
        "        for image, label in test_loader:\n",
        "            image = image.to(DEVICE)\n",
        "            label = label.to(DEVICE)\n",
        "            output = model(image)\n",
        "            test_loss += criterion(output, label).item()\n",
        "            prediction = output.max(1, keepdim = True)[1]\n",
        "            correct += prediction.eq(label.view_as(prediction)).sum().item()\n",
        "    \n",
        "    test_loss /= len(test_loader.dataset)\n",
        "    test_accuracy = 100. * correct / len(test_loader.dataset)\n",
        "    return test_loss, test_accuracy"
      ],
      "execution_count": null,
      "outputs": []
    },
    {
      "cell_type": "code",
      "metadata": {
        "id": "HezHz8TMQo6l",
        "colab": {
          "base_uri": "https://localhost:8080/"
        },
        "outputId": "adaf6b5c-edad-4881-f541-5d8f8e807a59"
      },
      "source": [
        "for epoch in range(1, EPOCHS + 1):\n",
        "    train(model, train_loader, optimizer, log_interval = 200)\n",
        "    test_loss, test_accuracy = evaluate(model, test_loader)\n",
        "    print(\"\\n[EPOCH: {}], \\tTest Loss: {:.4f}, \\tTest Accuracy: {:.2f} % \\n\".format(\n",
        "        epoch, test_loss, test_accuracy))"
      ],
      "execution_count": null,
      "outputs": [
        {
          "output_type": "stream",
          "name": "stderr",
          "text": [
            "/usr/local/lib/python3.7/dist-packages/ipykernel_launcher.py:30: UserWarning: Implicit dimension choice for log_softmax has been deprecated. Change the call to include dim=X as an argument.\n"
          ]
        },
        {
          "output_type": "stream",
          "name": "stdout",
          "text": [
            "Train Epoch: 1 [0/50000 (0%)]\tTrain Loss: 2.311485\n",
            "Train Epoch: 1 [6400/50000 (13%)]\tTrain Loss: 1.958658\n",
            "Train Epoch: 1 [12800/50000 (26%)]\tTrain Loss: 2.034607\n",
            "Train Epoch: 1 [19200/50000 (38%)]\tTrain Loss: 1.736865\n",
            "Train Epoch: 1 [25600/50000 (51%)]\tTrain Loss: 1.349389\n",
            "Train Epoch: 1 [32000/50000 (64%)]\tTrain Loss: 1.581869\n",
            "Train Epoch: 1 [38400/50000 (77%)]\tTrain Loss: 1.853203\n",
            "Train Epoch: 1 [44800/50000 (90%)]\tTrain Loss: 1.769893\n",
            "\n",
            "[EPOCH: 1], \tTest Loss: 0.0456, \tTest Accuracy: 47.03 % \n",
            "\n",
            "Train Epoch: 2 [0/50000 (0%)]\tTrain Loss: 1.578931\n",
            "Train Epoch: 2 [6400/50000 (13%)]\tTrain Loss: 1.273507\n",
            "Train Epoch: 2 [12800/50000 (26%)]\tTrain Loss: 1.505999\n",
            "Train Epoch: 2 [19200/50000 (38%)]\tTrain Loss: 1.280625\n",
            "Train Epoch: 2 [25600/50000 (51%)]\tTrain Loss: 1.239484\n",
            "Train Epoch: 2 [32000/50000 (64%)]\tTrain Loss: 1.551882\n",
            "Train Epoch: 2 [38400/50000 (77%)]\tTrain Loss: 1.056130\n",
            "Train Epoch: 2 [44800/50000 (90%)]\tTrain Loss: 1.610792\n",
            "\n",
            "[EPOCH: 2], \tTest Loss: 0.0412, \tTest Accuracy: 52.07 % \n",
            "\n",
            "Train Epoch: 3 [0/50000 (0%)]\tTrain Loss: 1.160788\n",
            "Train Epoch: 3 [6400/50000 (13%)]\tTrain Loss: 1.719402\n",
            "Train Epoch: 3 [12800/50000 (26%)]\tTrain Loss: 1.088012\n",
            "Train Epoch: 3 [19200/50000 (38%)]\tTrain Loss: 1.057353\n",
            "Train Epoch: 3 [25600/50000 (51%)]\tTrain Loss: 1.297270\n",
            "Train Epoch: 3 [32000/50000 (64%)]\tTrain Loss: 1.068280\n",
            "Train Epoch: 3 [38400/50000 (77%)]\tTrain Loss: 1.686645\n",
            "Train Epoch: 3 [44800/50000 (90%)]\tTrain Loss: 1.310027\n",
            "\n",
            "[EPOCH: 3], \tTest Loss: 0.0386, \tTest Accuracy: 56.23 % \n",
            "\n",
            "Train Epoch: 4 [0/50000 (0%)]\tTrain Loss: 1.180512\n",
            "Train Epoch: 4 [6400/50000 (13%)]\tTrain Loss: 1.508878\n",
            "Train Epoch: 4 [12800/50000 (26%)]\tTrain Loss: 1.119770\n",
            "Train Epoch: 4 [19200/50000 (38%)]\tTrain Loss: 1.061693\n",
            "Train Epoch: 4 [25600/50000 (51%)]\tTrain Loss: 1.152380\n",
            "Train Epoch: 4 [32000/50000 (64%)]\tTrain Loss: 1.484618\n",
            "Train Epoch: 4 [38400/50000 (77%)]\tTrain Loss: 1.380080\n",
            "Train Epoch: 4 [44800/50000 (90%)]\tTrain Loss: 1.034671\n",
            "\n",
            "[EPOCH: 4], \tTest Loss: 0.0368, \tTest Accuracy: 57.95 % \n",
            "\n",
            "Train Epoch: 5 [0/50000 (0%)]\tTrain Loss: 0.914353\n",
            "Train Epoch: 5 [6400/50000 (13%)]\tTrain Loss: 1.214211\n",
            "Train Epoch: 5 [12800/50000 (26%)]\tTrain Loss: 1.053812\n",
            "Train Epoch: 5 [19200/50000 (38%)]\tTrain Loss: 1.034466\n",
            "Train Epoch: 5 [25600/50000 (51%)]\tTrain Loss: 1.037158\n",
            "Train Epoch: 5 [32000/50000 (64%)]\tTrain Loss: 1.116468\n",
            "Train Epoch: 5 [38400/50000 (77%)]\tTrain Loss: 0.999642\n",
            "Train Epoch: 5 [44800/50000 (90%)]\tTrain Loss: 0.807646\n",
            "\n",
            "[EPOCH: 5], \tTest Loss: 0.0371, \tTest Accuracy: 58.48 % \n",
            "\n",
            "Train Epoch: 6 [0/50000 (0%)]\tTrain Loss: 0.875130\n",
            "Train Epoch: 6 [6400/50000 (13%)]\tTrain Loss: 1.358425\n",
            "Train Epoch: 6 [12800/50000 (26%)]\tTrain Loss: 1.397866\n",
            "Train Epoch: 6 [19200/50000 (38%)]\tTrain Loss: 0.788452\n",
            "Train Epoch: 6 [25600/50000 (51%)]\tTrain Loss: 1.084680\n",
            "Train Epoch: 6 [32000/50000 (64%)]\tTrain Loss: 1.031389\n",
            "Train Epoch: 6 [38400/50000 (77%)]\tTrain Loss: 0.988634\n",
            "Train Epoch: 6 [44800/50000 (90%)]\tTrain Loss: 1.038580\n",
            "\n",
            "[EPOCH: 6], \tTest Loss: 0.0345, \tTest Accuracy: 61.22 % \n",
            "\n",
            "Train Epoch: 7 [0/50000 (0%)]\tTrain Loss: 0.992231\n",
            "Train Epoch: 7 [6400/50000 (13%)]\tTrain Loss: 1.308606\n",
            "Train Epoch: 7 [12800/50000 (26%)]\tTrain Loss: 1.107801\n",
            "Train Epoch: 7 [19200/50000 (38%)]\tTrain Loss: 0.952849\n",
            "Train Epoch: 7 [25600/50000 (51%)]\tTrain Loss: 1.048958\n",
            "Train Epoch: 7 [32000/50000 (64%)]\tTrain Loss: 1.149044\n",
            "Train Epoch: 7 [38400/50000 (77%)]\tTrain Loss: 1.162423\n",
            "Train Epoch: 7 [44800/50000 (90%)]\tTrain Loss: 1.116299\n",
            "\n",
            "[EPOCH: 7], \tTest Loss: 0.0346, \tTest Accuracy: 60.83 % \n",
            "\n",
            "Train Epoch: 8 [0/50000 (0%)]\tTrain Loss: 0.770964\n",
            "Train Epoch: 8 [6400/50000 (13%)]\tTrain Loss: 0.890538\n",
            "Train Epoch: 8 [12800/50000 (26%)]\tTrain Loss: 0.848405\n",
            "Train Epoch: 8 [19200/50000 (38%)]\tTrain Loss: 0.842596\n",
            "Train Epoch: 8 [25600/50000 (51%)]\tTrain Loss: 0.855517\n",
            "Train Epoch: 8 [32000/50000 (64%)]\tTrain Loss: 1.120056\n",
            "Train Epoch: 8 [38400/50000 (77%)]\tTrain Loss: 1.080330\n",
            "Train Epoch: 8 [44800/50000 (90%)]\tTrain Loss: 0.709689\n",
            "\n",
            "[EPOCH: 8], \tTest Loss: 0.0331, \tTest Accuracy: 62.90 % \n",
            "\n",
            "Train Epoch: 9 [0/50000 (0%)]\tTrain Loss: 1.045112\n",
            "Train Epoch: 9 [6400/50000 (13%)]\tTrain Loss: 0.799196\n",
            "Train Epoch: 9 [12800/50000 (26%)]\tTrain Loss: 1.252966\n",
            "Train Epoch: 9 [19200/50000 (38%)]\tTrain Loss: 1.051976\n",
            "Train Epoch: 9 [25600/50000 (51%)]\tTrain Loss: 1.217296\n",
            "Train Epoch: 9 [32000/50000 (64%)]\tTrain Loss: 0.979338\n",
            "Train Epoch: 9 [38400/50000 (77%)]\tTrain Loss: 1.062932\n",
            "Train Epoch: 9 [44800/50000 (90%)]\tTrain Loss: 0.835360\n",
            "\n",
            "[EPOCH: 9], \tTest Loss: 0.0334, \tTest Accuracy: 62.43 % \n",
            "\n",
            "Train Epoch: 10 [0/50000 (0%)]\tTrain Loss: 0.807663\n",
            "Train Epoch: 10 [6400/50000 (13%)]\tTrain Loss: 0.888393\n",
            "Train Epoch: 10 [12800/50000 (26%)]\tTrain Loss: 1.264041\n",
            "Train Epoch: 10 [19200/50000 (38%)]\tTrain Loss: 1.516710\n",
            "Train Epoch: 10 [25600/50000 (51%)]\tTrain Loss: 0.880134\n",
            "Train Epoch: 10 [32000/50000 (64%)]\tTrain Loss: 0.853315\n",
            "Train Epoch: 10 [38400/50000 (77%)]\tTrain Loss: 1.195011\n",
            "Train Epoch: 10 [44800/50000 (90%)]\tTrain Loss: 1.279314\n",
            "\n",
            "[EPOCH: 10], \tTest Loss: 0.0321, \tTest Accuracy: 64.32 % \n",
            "\n"
          ]
        }
      ]
    },
    {
      "cell_type": "markdown",
      "metadata": {
        "id": "AvV3n7skoIv0"
      },
      "source": [
        "### CIFAR - ResNet"
      ]
    },
    {
      "cell_type": "code",
      "metadata": {
        "id": "vvnDTVp6olvE"
      },
      "source": [
        "class BasicBlock(nn.Module):\n",
        "    def __init__(self, in_planes, planes, stride = 1):\n",
        "        super(BasicBlock, self).__init__()\n",
        "        self.conv1 = nn.Conv2d(in_planes, planes, kernel_size = 3, stride = stride, padding = 1, bias = False)\n",
        "        self.bn1 = nn.BatchNorm2d(planes)\n",
        "        self.conv2 = nn.Conv2d(planes, planes, kernel_size = 3, stride = 1, padding = 1, bias = False)\n",
        "        self.bn2 = nn.BatchNorm2d(planes)\n",
        "        \n",
        "        self.shortcut = nn.Sequential()\n",
        "        if stride != 1 or in_planes != planes:\n",
        "            self.shortcut = nn.Sequential(\n",
        "                nn.Conv2d(in_planes, planes, kernel_size = 1, stride = stride, bias = False),\n",
        "                nn.BatchNorm2d(planes))\n",
        "    \n",
        "    def forward(self, x):\n",
        "        out = F.relu(self.bn1(self.conv1(x)))\n",
        "        out = self.bn2(self.conv2(out))\n",
        "        out += self.shortcut(x)\n",
        "        out = F.relu(out)\n",
        "        return out\n",
        "    \n",
        "class ResNet(nn.Module):\n",
        "    def __init__(self, num_classes = 10):\n",
        "        super(ResNet, self).__init__()\n",
        "        self.in_planes = 16\n",
        "        \n",
        "        self.conv1 = nn.Conv2d(3, 16, kernel_size = 3, stride = 1, padding = 1, bias = False)\n",
        "        self.bn1 = nn.BatchNorm2d(16)\n",
        "        self.layer1 = self._make_layer(16, 2, stride = 1)\n",
        "        self.layer2 = self._make_layer(32, 2, stride = 2)\n",
        "        self.layer3 = self._make_layer(64, 2, stride = 2)\n",
        "        self.linear = nn.Linear(64, num_classes)\n",
        "        \n",
        "    def _make_layer(self, planes, num_blocks, stride):\n",
        "        strides = [stride] + [1] * (num_blocks  - 1)\n",
        "        layers = []\n",
        "        for stride in strides:\n",
        "            layers.append(BasicBlock(self.in_planes, planes, stride))\n",
        "            self.in_planes = planes\n",
        "        return nn.Sequential(*layers)\n",
        "    \n",
        "    def forward(self, x):\n",
        "        out = F.relu(self.bn1(self.conv1(x)))\n",
        "        out = self.layer1(out)\n",
        "        out = self.layer2(out)\n",
        "        out = self.layer3(out)\n",
        "        out = F.avg_pool2d(out, 8)\n",
        "        out = out.view(out.size(0), -1)\n",
        "        out = self.linear(out)\n",
        "        return out"
      ],
      "execution_count": null,
      "outputs": []
    },
    {
      "cell_type": "code",
      "metadata": {
        "id": "P3t9neuZomnv",
        "colab": {
          "base_uri": "https://localhost:8080/"
        },
        "outputId": "0e3c2a1d-b2cc-41f8-f568-df11eb866a2c"
      },
      "source": [
        "model = ResNet().to(DEVICE)\n",
        "optimizer = torch.optim.Adam(model.parameters(), lr = 0.001)\n",
        "criterion = nn.CrossEntropyLoss()\n",
        "\n",
        "print(model)"
      ],
      "execution_count": null,
      "outputs": [
        {
          "output_type": "stream",
          "name": "stdout",
          "text": [
            "ResNet(\n",
            "  (conv1): Conv2d(3, 16, kernel_size=(3, 3), stride=(1, 1), padding=(1, 1), bias=False)\n",
            "  (bn1): BatchNorm2d(16, eps=1e-05, momentum=0.1, affine=True, track_running_stats=True)\n",
            "  (layer1): Sequential(\n",
            "    (0): BasicBlock(\n",
            "      (conv1): Conv2d(16, 16, kernel_size=(3, 3), stride=(1, 1), padding=(1, 1), bias=False)\n",
            "      (bn1): BatchNorm2d(16, eps=1e-05, momentum=0.1, affine=True, track_running_stats=True)\n",
            "      (conv2): Conv2d(16, 16, kernel_size=(3, 3), stride=(1, 1), padding=(1, 1), bias=False)\n",
            "      (bn2): BatchNorm2d(16, eps=1e-05, momentum=0.1, affine=True, track_running_stats=True)\n",
            "      (shortcut): Sequential()\n",
            "    )\n",
            "    (1): BasicBlock(\n",
            "      (conv1): Conv2d(16, 16, kernel_size=(3, 3), stride=(1, 1), padding=(1, 1), bias=False)\n",
            "      (bn1): BatchNorm2d(16, eps=1e-05, momentum=0.1, affine=True, track_running_stats=True)\n",
            "      (conv2): Conv2d(16, 16, kernel_size=(3, 3), stride=(1, 1), padding=(1, 1), bias=False)\n",
            "      (bn2): BatchNorm2d(16, eps=1e-05, momentum=0.1, affine=True, track_running_stats=True)\n",
            "      (shortcut): Sequential()\n",
            "    )\n",
            "  )\n",
            "  (layer2): Sequential(\n",
            "    (0): BasicBlock(\n",
            "      (conv1): Conv2d(16, 32, kernel_size=(3, 3), stride=(2, 2), padding=(1, 1), bias=False)\n",
            "      (bn1): BatchNorm2d(32, eps=1e-05, momentum=0.1, affine=True, track_running_stats=True)\n",
            "      (conv2): Conv2d(32, 32, kernel_size=(3, 3), stride=(1, 1), padding=(1, 1), bias=False)\n",
            "      (bn2): BatchNorm2d(32, eps=1e-05, momentum=0.1, affine=True, track_running_stats=True)\n",
            "      (shortcut): Sequential(\n",
            "        (0): Conv2d(16, 32, kernel_size=(1, 1), stride=(2, 2), bias=False)\n",
            "        (1): BatchNorm2d(32, eps=1e-05, momentum=0.1, affine=True, track_running_stats=True)\n",
            "      )\n",
            "    )\n",
            "    (1): BasicBlock(\n",
            "      (conv1): Conv2d(32, 32, kernel_size=(3, 3), stride=(1, 1), padding=(1, 1), bias=False)\n",
            "      (bn1): BatchNorm2d(32, eps=1e-05, momentum=0.1, affine=True, track_running_stats=True)\n",
            "      (conv2): Conv2d(32, 32, kernel_size=(3, 3), stride=(1, 1), padding=(1, 1), bias=False)\n",
            "      (bn2): BatchNorm2d(32, eps=1e-05, momentum=0.1, affine=True, track_running_stats=True)\n",
            "      (shortcut): Sequential()\n",
            "    )\n",
            "  )\n",
            "  (layer3): Sequential(\n",
            "    (0): BasicBlock(\n",
            "      (conv1): Conv2d(32, 64, kernel_size=(3, 3), stride=(2, 2), padding=(1, 1), bias=False)\n",
            "      (bn1): BatchNorm2d(64, eps=1e-05, momentum=0.1, affine=True, track_running_stats=True)\n",
            "      (conv2): Conv2d(64, 64, kernel_size=(3, 3), stride=(1, 1), padding=(1, 1), bias=False)\n",
            "      (bn2): BatchNorm2d(64, eps=1e-05, momentum=0.1, affine=True, track_running_stats=True)\n",
            "      (shortcut): Sequential(\n",
            "        (0): Conv2d(32, 64, kernel_size=(1, 1), stride=(2, 2), bias=False)\n",
            "        (1): BatchNorm2d(64, eps=1e-05, momentum=0.1, affine=True, track_running_stats=True)\n",
            "      )\n",
            "    )\n",
            "    (1): BasicBlock(\n",
            "      (conv1): Conv2d(64, 64, kernel_size=(3, 3), stride=(1, 1), padding=(1, 1), bias=False)\n",
            "      (bn1): BatchNorm2d(64, eps=1e-05, momentum=0.1, affine=True, track_running_stats=True)\n",
            "      (conv2): Conv2d(64, 64, kernel_size=(3, 3), stride=(1, 1), padding=(1, 1), bias=False)\n",
            "      (bn2): BatchNorm2d(64, eps=1e-05, momentum=0.1, affine=True, track_running_stats=True)\n",
            "      (shortcut): Sequential()\n",
            "    )\n",
            "  )\n",
            "  (linear): Linear(in_features=64, out_features=10, bias=True)\n",
            ")\n"
          ]
        }
      ]
    },
    {
      "cell_type": "code",
      "metadata": {
        "id": "adQinG1hopV8"
      },
      "source": [
        "def train(model, train_loader, optimizer, log_interval):\n",
        "    model.train()\n",
        "    for batch_idx, (image, label) in enumerate(train_loader):\n",
        "        image = image.to(DEVICE)\n",
        "        label = label.to(DEVICE)\n",
        "        optimizer.zero_grad()\n",
        "        output = model(image)\n",
        "        loss = criterion(output, label)\n",
        "        loss.backward()\n",
        "        optimizer.step()\n",
        "\n",
        "        if batch_idx % log_interval == 0:\n",
        "            print(\"Train Epoch: {} [{}/{} ({:.0f}%)]\\tTrain Loss: {:.6f}\".format(\n",
        "                epoch, batch_idx * len(image), \n",
        "                len(train_loader.dataset), 100. * batch_idx / len(train_loader), \n",
        "                loss.item()))"
      ],
      "execution_count": null,
      "outputs": []
    },
    {
      "cell_type": "code",
      "metadata": {
        "id": "00kS545Jor82"
      },
      "source": [
        "def evaluate(model, test_loader):\n",
        "    model.eval()\n",
        "    test_loss = 0\n",
        "    correct = 0\n",
        "\n",
        "    with torch.no_grad():\n",
        "        for image, label in test_loader:\n",
        "            image = image.to(DEVICE)\n",
        "            label = label.to(DEVICE)\n",
        "            output = model(image)\n",
        "            test_loss += criterion(output, label).item()\n",
        "            prediction = output.max(1, keepdim = True)[1]\n",
        "            correct += prediction.eq(label.view_as(prediction)).sum().item()\n",
        "    \n",
        "    test_loss /= len(test_loader.dataset)\n",
        "    test_accuracy = 100. * correct / len(test_loader.dataset)\n",
        "    return test_loss, test_accuracy"
      ],
      "execution_count": null,
      "outputs": []
    },
    {
      "cell_type": "code",
      "metadata": {
        "id": "hZeCacvEotmt",
        "colab": {
          "base_uri": "https://localhost:8080/"
        },
        "outputId": "a9b8c413-726a-4439-c3e9-a9daa230fb13"
      },
      "source": [
        "for epoch in range(1, EPOCHS + 1):\n",
        "    train(model, train_loader, optimizer, log_interval = 200)\n",
        "    test_loss, test_accuracy = evaluate(model, test_loader)\n",
        "    print(\"\\n[EPOCH: {}], \\tTest Loss: {:.4f}, \\tTest Accuracy: {:.2f} % \\n\".format(\n",
        "        epoch, test_loss, test_accuracy))"
      ],
      "execution_count": null,
      "outputs": [
        {
          "output_type": "stream",
          "name": "stdout",
          "text": [
            "Train Epoch: 1 [0/50000 (0%)]\tTrain Loss: 2.352499\n",
            "Train Epoch: 1 [6400/50000 (13%)]\tTrain Loss: 1.468633\n",
            "Train Epoch: 1 [12800/50000 (26%)]\tTrain Loss: 1.632294\n",
            "Train Epoch: 1 [19200/50000 (38%)]\tTrain Loss: 1.602060\n",
            "Train Epoch: 1 [25600/50000 (51%)]\tTrain Loss: 0.816454\n",
            "Train Epoch: 1 [32000/50000 (64%)]\tTrain Loss: 1.147805\n",
            "Train Epoch: 1 [38400/50000 (77%)]\tTrain Loss: 0.968425\n",
            "Train Epoch: 1 [44800/50000 (90%)]\tTrain Loss: 1.017052\n",
            "\n",
            "[EPOCH: 1], \tTest Loss: 0.0333, \tTest Accuracy: 61.09 % \n",
            "\n",
            "Train Epoch: 2 [0/50000 (0%)]\tTrain Loss: 1.109796\n",
            "Train Epoch: 2 [6400/50000 (13%)]\tTrain Loss: 0.958830\n",
            "Train Epoch: 2 [12800/50000 (26%)]\tTrain Loss: 0.735468\n",
            "Train Epoch: 2 [19200/50000 (38%)]\tTrain Loss: 0.889654\n",
            "Train Epoch: 2 [25600/50000 (51%)]\tTrain Loss: 0.791900\n",
            "Train Epoch: 2 [32000/50000 (64%)]\tTrain Loss: 0.856841\n",
            "Train Epoch: 2 [38400/50000 (77%)]\tTrain Loss: 0.385080\n",
            "Train Epoch: 2 [44800/50000 (90%)]\tTrain Loss: 1.133956\n",
            "\n",
            "[EPOCH: 2], \tTest Loss: 0.0297, \tTest Accuracy: 65.89 % \n",
            "\n",
            "Train Epoch: 3 [0/50000 (0%)]\tTrain Loss: 0.588368\n",
            "Train Epoch: 3 [6400/50000 (13%)]\tTrain Loss: 0.724649\n",
            "Train Epoch: 3 [12800/50000 (26%)]\tTrain Loss: 0.638674\n",
            "Train Epoch: 3 [19200/50000 (38%)]\tTrain Loss: 0.803883\n",
            "Train Epoch: 3 [25600/50000 (51%)]\tTrain Loss: 0.834368\n",
            "Train Epoch: 3 [32000/50000 (64%)]\tTrain Loss: 0.773793\n",
            "Train Epoch: 3 [38400/50000 (77%)]\tTrain Loss: 0.640411\n",
            "Train Epoch: 3 [44800/50000 (90%)]\tTrain Loss: 0.447745\n",
            "\n",
            "[EPOCH: 3], \tTest Loss: 0.0252, \tTest Accuracy: 71.44 % \n",
            "\n",
            "Train Epoch: 4 [0/50000 (0%)]\tTrain Loss: 0.385930\n",
            "Train Epoch: 4 [6400/50000 (13%)]\tTrain Loss: 0.722358\n",
            "Train Epoch: 4 [12800/50000 (26%)]\tTrain Loss: 0.936610\n",
            "Train Epoch: 4 [19200/50000 (38%)]\tTrain Loss: 0.480779\n",
            "Train Epoch: 4 [25600/50000 (51%)]\tTrain Loss: 0.533207\n",
            "Train Epoch: 4 [32000/50000 (64%)]\tTrain Loss: 0.441823\n",
            "Train Epoch: 4 [38400/50000 (77%)]\tTrain Loss: 0.580560\n",
            "Train Epoch: 4 [44800/50000 (90%)]\tTrain Loss: 0.669247\n",
            "\n",
            "[EPOCH: 4], \tTest Loss: 0.0221, \tTest Accuracy: 75.10 % \n",
            "\n",
            "Train Epoch: 5 [0/50000 (0%)]\tTrain Loss: 0.446467\n",
            "Train Epoch: 5 [6400/50000 (13%)]\tTrain Loss: 0.427920\n",
            "Train Epoch: 5 [12800/50000 (26%)]\tTrain Loss: 0.435781\n",
            "Train Epoch: 5 [19200/50000 (38%)]\tTrain Loss: 0.345943\n",
            "Train Epoch: 5 [25600/50000 (51%)]\tTrain Loss: 0.430497\n",
            "Train Epoch: 5 [32000/50000 (64%)]\tTrain Loss: 0.430215\n",
            "Train Epoch: 5 [38400/50000 (77%)]\tTrain Loss: 0.759252\n",
            "Train Epoch: 5 [44800/50000 (90%)]\tTrain Loss: 0.501901\n",
            "\n",
            "[EPOCH: 5], \tTest Loss: 0.0209, \tTest Accuracy: 76.96 % \n",
            "\n",
            "Train Epoch: 6 [0/50000 (0%)]\tTrain Loss: 0.513936\n",
            "Train Epoch: 6 [6400/50000 (13%)]\tTrain Loss: 0.475365\n",
            "Train Epoch: 6 [12800/50000 (26%)]\tTrain Loss: 0.352699\n",
            "Train Epoch: 6 [19200/50000 (38%)]\tTrain Loss: 0.219660\n",
            "Train Epoch: 6 [25600/50000 (51%)]\tTrain Loss: 0.427071\n",
            "Train Epoch: 6 [32000/50000 (64%)]\tTrain Loss: 0.881367\n",
            "Train Epoch: 6 [38400/50000 (77%)]\tTrain Loss: 0.875439\n",
            "Train Epoch: 6 [44800/50000 (90%)]\tTrain Loss: 0.659928\n",
            "\n",
            "[EPOCH: 6], \tTest Loss: 0.0189, \tTest Accuracy: 79.25 % \n",
            "\n",
            "Train Epoch: 7 [0/50000 (0%)]\tTrain Loss: 0.477538\n",
            "Train Epoch: 7 [6400/50000 (13%)]\tTrain Loss: 0.500303\n",
            "Train Epoch: 7 [12800/50000 (26%)]\tTrain Loss: 0.155991\n",
            "Train Epoch: 7 [19200/50000 (38%)]\tTrain Loss: 0.300440\n",
            "Train Epoch: 7 [25600/50000 (51%)]\tTrain Loss: 0.260015\n",
            "Train Epoch: 7 [32000/50000 (64%)]\tTrain Loss: 0.372747\n",
            "Train Epoch: 7 [38400/50000 (77%)]\tTrain Loss: 0.304204\n",
            "Train Epoch: 7 [44800/50000 (90%)]\tTrain Loss: 0.838441\n",
            "\n",
            "[EPOCH: 7], \tTest Loss: 0.0178, \tTest Accuracy: 80.27 % \n",
            "\n",
            "Train Epoch: 8 [0/50000 (0%)]\tTrain Loss: 0.505156\n",
            "Train Epoch: 8 [6400/50000 (13%)]\tTrain Loss: 0.569530\n",
            "Train Epoch: 8 [12800/50000 (26%)]\tTrain Loss: 0.231021\n",
            "Train Epoch: 8 [19200/50000 (38%)]\tTrain Loss: 0.326043\n",
            "Train Epoch: 8 [25600/50000 (51%)]\tTrain Loss: 0.388312\n",
            "Train Epoch: 8 [32000/50000 (64%)]\tTrain Loss: 0.295155\n",
            "Train Epoch: 8 [38400/50000 (77%)]\tTrain Loss: 0.591855\n",
            "Train Epoch: 8 [44800/50000 (90%)]\tTrain Loss: 0.335744\n",
            "\n",
            "[EPOCH: 8], \tTest Loss: 0.0185, \tTest Accuracy: 79.94 % \n",
            "\n",
            "Train Epoch: 9 [0/50000 (0%)]\tTrain Loss: 0.259844\n",
            "Train Epoch: 9 [6400/50000 (13%)]\tTrain Loss: 0.429008\n",
            "Train Epoch: 9 [12800/50000 (26%)]\tTrain Loss: 0.488176\n",
            "Train Epoch: 9 [19200/50000 (38%)]\tTrain Loss: 0.354840\n",
            "Train Epoch: 9 [25600/50000 (51%)]\tTrain Loss: 0.294738\n",
            "Train Epoch: 9 [32000/50000 (64%)]\tTrain Loss: 0.572261\n",
            "Train Epoch: 9 [38400/50000 (77%)]\tTrain Loss: 0.492477\n",
            "Train Epoch: 9 [44800/50000 (90%)]\tTrain Loss: 0.525994\n",
            "\n",
            "[EPOCH: 9], \tTest Loss: 0.0176, \tTest Accuracy: 81.33 % \n",
            "\n",
            "Train Epoch: 10 [0/50000 (0%)]\tTrain Loss: 0.226564\n",
            "Train Epoch: 10 [6400/50000 (13%)]\tTrain Loss: 0.152180\n",
            "Train Epoch: 10 [12800/50000 (26%)]\tTrain Loss: 0.220521\n",
            "Train Epoch: 10 [19200/50000 (38%)]\tTrain Loss: 0.566368\n",
            "Train Epoch: 10 [25600/50000 (51%)]\tTrain Loss: 0.408235\n",
            "Train Epoch: 10 [32000/50000 (64%)]\tTrain Loss: 0.216500\n",
            "Train Epoch: 10 [38400/50000 (77%)]\tTrain Loss: 0.281333\n",
            "Train Epoch: 10 [44800/50000 (90%)]\tTrain Loss: 0.313621\n",
            "\n",
            "[EPOCH: 10], \tTest Loss: 0.0175, \tTest Accuracy: 81.74 % \n",
            "\n"
          ]
        }
      ]
    }
  ]
}